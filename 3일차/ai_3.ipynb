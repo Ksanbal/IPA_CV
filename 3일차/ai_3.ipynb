{
  "nbformat": 4,
  "nbformat_minor": 0,
  "metadata": {
    "colab": {
      "name": "ai_3",
      "provenance": [],
      "collapsed_sections": []
    },
    "kernelspec": {
      "name": "python3",
      "display_name": "Python 3"
    }
  },
  "cells": [
    {
      "cell_type": "markdown",
      "metadata": {
        "id": "uknJfiWqT6iS",
        "colab_type": "text"
      },
      "source": [
        "## 3일차"
      ]
    },
    {
      "cell_type": "code",
      "metadata": {
        "id": "SUZQOi98WZW2",
        "colab_type": "code",
        "colab": {
          "base_uri": "https://localhost:8080/",
          "height": 34
        },
        "outputId": "c285e4a1-a855-4897-d023-c16578776235"
      },
      "source": [
        "%tensorflow_version 1.x"
      ],
      "execution_count": null,
      "outputs": [
        {
          "output_type": "stream",
          "text": [
            "TensorFlow 1.x selected.\n"
          ],
          "name": "stdout"
        }
      ]
    },
    {
      "cell_type": "code",
      "metadata": {
        "id": "8bjei4NpT8_F",
        "colab_type": "code",
        "colab": {}
      },
      "source": [
        "import tensorflow as tf"
      ],
      "execution_count": null,
      "outputs": []
    },
    {
      "cell_type": "code",
      "metadata": {
        "id": "SWwY6VXHUEwz",
        "colab_type": "code",
        "colab": {}
      },
      "source": [
        "class Neruon(object):\n",
        "  def __init__(self, w, b):\n",
        "    self.w = tf.Variable(w, name='weight')\n",
        "    self.b = tf.Variable(b, name='bias')\n",
        "    # y\n",
        "    self.output = 0\n",
        "    # x\n",
        "    self.input = tf.placeholder(tf.float32, shape=[1], name='input')\n",
        "    # Y\n",
        "    self.target = tf.placeholder(tf.float32, shape=[1], name='target')\n",
        "\n",
        "\n",
        "  # Linear func = identity func (선형함수)\n",
        "  # y = x\n",
        "  def getActivation(self, x):\n",
        "    return x\n",
        "\n",
        "  # Activate 미분\n",
        "  def getActivationGradient(self, x):\n",
        "    return 1.0\n",
        "\n",
        "\n",
        "  def propBackWard(self):\n",
        "    # 학습률 \n",
        "    lr = 0.01\n",
        "    # grad = (y-Y) * 0.1 * 1.0\n",
        "    grad = (self.output - self.target) * 1.0 * self.getActivationGradient(self.output)\n",
        "    # update w\n",
        "    self.w = self.w - (lr * grad * self.input)\n",
        "    # update b\n",
        "    self.b = self.b - (lr * grad * 1.0)\n",
        "\n",
        "    return self.feedforward()\n",
        "  \n",
        "  def feedforward(self):\n",
        "    sigma = (self.w * self.input) + self.b\n",
        "    self.output = self.getActivation(sigma) # 선형함수 적용 \n",
        "    return self.output"
      ],
      "execution_count": null,
      "outputs": []
    },
    {
      "cell_type": "code",
      "metadata": {
        "id": "izqz3HMvV_2Y",
        "colab_type": "code",
        "colab": {}
      },
      "source": [
        "my_neuron = Neruon(w=2.0, b=1.0)\n",
        "\n",
        "x = [1.0]\n",
        "y = [4.0]"
      ],
      "execution_count": null,
      "outputs": []
    },
    {
      "cell_type": "code",
      "metadata": {
        "id": "ncFdGms_WPEa",
        "colab_type": "code",
        "colab": {}
      },
      "source": [
        "with tf.Session() as sess:\n",
        "  sess.run(tf.global_variables_initializer())\n",
        "  print('feedforwad : ', sess.run(my_neuron.feedforward(),\n",
        "                 feed_dict = {my_neuron.input: x,\n",
        "                              my_neuron.target: y}))\n",
        "  \n",
        "  for i in range(150):\n",
        "    print('propBackWard : ', sess.run(my_neuron.propBackWard(),\n",
        "                   feed_dict={my_neuron.input: x,\n",
        "                              my_neuron.target: y}))\n",
        "    \n",
        "    print('w, b : ', sess.run([my_neuron.w, my_neuron.b],\n",
        "                   feed_dict={my_neuron.input: x,\n",
        "                              my_neuron.target: y}))"
      ],
      "execution_count": null,
      "outputs": []
    },
    {
      "cell_type": "code",
      "metadata": {
        "id": "nq5Iidmfamm1",
        "colab_type": "code",
        "colab": {}
      },
      "source": [
        ""
      ],
      "execution_count": null,
      "outputs": []
    }
  ]
}