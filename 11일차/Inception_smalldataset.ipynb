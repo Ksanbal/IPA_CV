{
  "nbformat": 4,
  "nbformat_minor": 0,
  "metadata": {
    "colab": {
      "name": "Inception_smalldataset.ipynb",
      "provenance": [],
      "collapsed_sections": []
    },
    "kernelspec": {
      "name": "python2",
      "display_name": "Python 2"
    },
    "accelerator": "GPU"
  },
  "cells": [
    {
      "cell_type": "code",
      "metadata": {
        "id": "XYesiJVHHcel",
        "colab_type": "code",
        "colab": {
          "base_uri": "https://localhost:8080/",
          "height": 35
        },
        "outputId": "c8b04a70-122f-45a5-964d-469190a18ddc"
      },
      "source": [
        "# 1. 홈 디렉토리에 datasets 폴더 생성 후, 그 안에 cats_and_dogs_small 폴더를 생성 합니다.\n",
        "# 2. cats_and_dogs_small 안에 train, test, validation 폴더가 위치 하도록 압축을 풉니다.\n",
        "cd gdrive/My Drive/datasets/cats_and_dogs_small"
      ],
      "execution_count": null,
      "outputs": [
        {
          "output_type": "stream",
          "text": [
            "/content/gdrive/My Drive/datasets/cats_and_dogs_small\n"
          ],
          "name": "stdout"
        }
      ]
    },
    {
      "cell_type": "code",
      "metadata": {
        "id": "Q9yWlsamAB5B",
        "colab_type": "code",
        "colab": {
          "base_uri": "https://localhost:8080/",
          "height": 71
        },
        "outputId": "806746da-83ae-4d4d-92fe-e4705f081de1"
      },
      "source": [
        "import os\n",
        "import numpy as np\n",
        "from keras.preprocessing.image import ImageDataGenerator\n",
        "\n",
        "# 모든 이미지를 1/255로 스케일을 조정합니다\n",
        "train_datagen = ImageDataGenerator(rescale=1./255)\n",
        "test_datagen = ImageDataGenerator(rescale=1./255)\n",
        "\n",
        "base_dir = '/content/gdrive/My Drive/datasets/cats_and_dogs_small'\n",
        "\n",
        "train_dir = os.path.join(base_dir, 'train')\n",
        "validation_dir = os.path.join(base_dir, 'validation')\n",
        "test_dir = os.path.join(base_dir, 'test')\n",
        "\n",
        "\n",
        "train_generator = train_datagen.flow_from_directory(\n",
        "        # 타깃 디렉터리\n",
        "        train_dir,\n",
        "        # 모든 이미지를 150 × 150 크기로 바꿉니다\n",
        "        target_size=(224, 224),\n",
        "        batch_size=20,\n",
        "        # binary_crossentropy 손실을 사용하기 때문에 이진 레이블이 필요합니다\n",
        "        class_mode='binary')\n",
        "\n",
        "validation_generator = test_datagen.flow_from_directory(\n",
        "        validation_dir,\n",
        "        target_size=(224, 224),\n",
        "        batch_size=20,\n",
        "        class_mode='binary')"
      ],
      "execution_count": null,
      "outputs": [
        {
          "output_type": "stream",
          "text": [
            "Using TensorFlow backend.\n"
          ],
          "name": "stderr"
        },
        {
          "output_type": "stream",
          "text": [
            "Found 2000 images belonging to 2 classes.\n",
            "Found 1000 images belonging to 2 classes.\n"
          ],
          "name": "stdout"
        }
      ]
    },
    {
      "cell_type": "code",
      "metadata": {
        "id": "EdwvaJjk_BnL",
        "colab_type": "code",
        "colab": {
          "base_uri": "https://localhost:8080/",
          "height": 53
        },
        "outputId": "6048c8d4-5b71-4cef-9d14-79af4f920a4f"
      },
      "source": [
        "for data_batch, labels_batch in train_generator:\n",
        "    print 'Batch size:', data_batch.shape\n",
        "    print 'Label size:', labels_batch.shape\n",
        "    break"
      ],
      "execution_count": null,
      "outputs": [
        {
          "output_type": "stream",
          "text": [
            "Batch size: (20, 224, 224, 3)\n",
            "Label size: (20,)\n"
          ],
          "name": "stdout"
        }
      ]
    },
    {
      "cell_type": "code",
      "metadata": {
        "id": "25ZiU26UPKF3",
        "colab_type": "code",
        "colab": {}
      },
      "source": [
        "#  This code cell shows how to utilize VGG16 model by combining Dense layer at the end of the network \n",
        "from keras.layers import Input, Dense, GlobalAveragePooling2D, Flatten\n",
        "from keras.models import Model\n",
        "\n",
        "from keras.applications.inception_v3 import InceptionV3\n",
        "from keras import layers\n",
        "from keras import models\n",
        "\n",
        "#  This code cell shows how to utilize Inception model by combining Dense layer at the end of the network \n",
        "InceptionModel = InceptionV3(weights='imagenet', include_top=False, input_shape=(224, 224, 3))\n",
        "for layer in InceptionModel.layers:\n",
        "    layer.trainable = False\n",
        "\n",
        "\n"
      ],
      "execution_count": null,
      "outputs": []
    },
    {
      "cell_type": "code",
      "metadata": {
        "id": "sXowLMCbuX-i",
        "colab_type": "code",
        "colab": {
          "base_uri": "https://localhost:8080/",
          "height": 1165
        },
        "outputId": "254ee359-7cd3-485a-9119-2b2ded24c299"
      },
      "source": [
        "history = New_InceptionModel.fit_generator(\n",
        "      train_generator,\n",
        "      steps_per_epoch=10,\n",
        "      epochs=30,\n",
        "      validation_data=validation_generator,\n",
        "      validation_steps=50)"
      ],
      "execution_count": null,
      "outputs": [
        {
          "output_type": "stream",
          "text": [
            "WARNING:tensorflow:From /usr/local/lib/python2.7/dist-packages/tensorflow/python/ops/math_ops.py:3066: to_int32 (from tensorflow.python.ops.math_ops) is deprecated and will be removed in a future version.\n",
            "Instructions for updating:\n",
            "Use tf.cast instead.\n",
            "Epoch 1/30\n",
            "10/10 [==============================] - 13s 1s/step - loss: 0.6315 - acc: 0.6450 - val_loss: 0.8092 - val_acc: 0.5760\n",
            "Epoch 2/30\n",
            "10/10 [==============================] - 6s 586ms/step - loss: 0.4706 - acc: 0.7650 - val_loss: 0.1212 - val_acc: 0.9670\n",
            "Epoch 3/30\n",
            "10/10 [==============================] - 6s 553ms/step - loss: 0.3159 - acc: 0.8950 - val_loss: 0.1992 - val_acc: 0.9370\n",
            "Epoch 4/30\n",
            "10/10 [==============================] - 6s 576ms/step - loss: 0.3838 - acc: 0.8600 - val_loss: 0.1495 - val_acc: 0.9510\n",
            "Epoch 5/30\n",
            "10/10 [==============================] - 6s 628ms/step - loss: 0.2447 - acc: 0.9150 - val_loss: 0.0712 - val_acc: 0.9800\n",
            "Epoch 6/30\n",
            "10/10 [==============================] - 6s 572ms/step - loss: 0.3126 - acc: 0.8700 - val_loss: 0.2907 - val_acc: 0.8740\n",
            "Epoch 7/30\n",
            "10/10 [==============================] - 5s 550ms/step - loss: 0.4512 - acc: 0.8050 - val_loss: 0.0666 - val_acc: 0.9810\n",
            "Epoch 8/30\n",
            "10/10 [==============================] - 5s 549ms/step - loss: 0.2875 - acc: 0.8950 - val_loss: 0.1217 - val_acc: 0.9490\n",
            "Epoch 9/30\n",
            "10/10 [==============================] - 5s 547ms/step - loss: 0.2525 - acc: 0.8950 - val_loss: 0.0974 - val_acc: 0.9660\n",
            "Epoch 10/30\n",
            "10/10 [==============================] - 5s 549ms/step - loss: 0.2746 - acc: 0.8800 - val_loss: 0.1126 - val_acc: 0.9640\n",
            "Epoch 11/30\n",
            "10/10 [==============================] - 5s 549ms/step - loss: 0.3177 - acc: 0.8500 - val_loss: 0.0591 - val_acc: 0.9850\n",
            "Epoch 12/30\n",
            "10/10 [==============================] - 6s 550ms/step - loss: 0.2235 - acc: 0.9100 - val_loss: 0.0803 - val_acc: 0.9710\n",
            "Epoch 13/30\n",
            "10/10 [==============================] - 6s 556ms/step - loss: 0.2191 - acc: 0.9050 - val_loss: 0.1418 - val_acc: 0.9440\n",
            "Epoch 14/30\n",
            "10/10 [==============================] - 5s 547ms/step - loss: 0.2014 - acc: 0.9150 - val_loss: 0.0590 - val_acc: 0.9840\n",
            "Epoch 15/30\n",
            "10/10 [==============================] - 6s 584ms/step - loss: 0.1809 - acc: 0.9300 - val_loss: 0.0875 - val_acc: 0.9780\n",
            "Epoch 16/30\n",
            "10/10 [==============================] - 6s 580ms/step - loss: 0.2645 - acc: 0.8900 - val_loss: 0.1826 - val_acc: 0.9280\n",
            "Epoch 17/30\n",
            "10/10 [==============================] - 5s 548ms/step - loss: 0.2712 - acc: 0.8850 - val_loss: 0.0601 - val_acc: 0.9830\n",
            "Epoch 18/30\n",
            "10/10 [==============================] - 6s 556ms/step - loss: 0.1947 - acc: 0.9250 - val_loss: 0.0593 - val_acc: 0.9820\n",
            "Epoch 19/30\n",
            "10/10 [==============================] - 6s 620ms/step - loss: 0.1699 - acc: 0.9350 - val_loss: 0.0605 - val_acc: 0.9830\n",
            "Epoch 20/30\n",
            "10/10 [==============================] - 6s 584ms/step - loss: 0.2021 - acc: 0.9100 - val_loss: 0.0629 - val_acc: 0.9820\n",
            "Epoch 21/30\n",
            "10/10 [==============================] - 5s 543ms/step - loss: 0.1450 - acc: 0.9400 - val_loss: 0.1084 - val_acc: 0.9670\n",
            "Epoch 22/30\n",
            "10/10 [==============================] - 6s 551ms/step - loss: 0.2165 - acc: 0.9200 - val_loss: 0.0889 - val_acc: 0.9730\n",
            "Epoch 23/30\n",
            "10/10 [==============================] - 6s 555ms/step - loss: 0.2008 - acc: 0.9200 - val_loss: 0.0606 - val_acc: 0.9830\n",
            "Epoch 24/30\n",
            "10/10 [==============================] - 5s 546ms/step - loss: 0.1940 - acc: 0.9200 - val_loss: 0.0844 - val_acc: 0.9740\n",
            "Epoch 25/30\n",
            "10/10 [==============================] - 5s 543ms/step - loss: 0.1887 - acc: 0.9000 - val_loss: 0.0634 - val_acc: 0.9830\n",
            "Epoch 26/30\n",
            "10/10 [==============================] - 5s 542ms/step - loss: 0.1237 - acc: 0.9550 - val_loss: 0.0665 - val_acc: 0.9810\n",
            "Epoch 27/30\n",
            "10/10 [==============================] - 6s 551ms/step - loss: 0.1715 - acc: 0.9400 - val_loss: 0.1365 - val_acc: 0.9560\n",
            "Epoch 28/30\n",
            "10/10 [==============================] - 5s 544ms/step - loss: 0.1608 - acc: 0.9350 - val_loss: 0.2135 - val_acc: 0.9240\n",
            "Epoch 29/30\n",
            "10/10 [==============================] - 5s 546ms/step - loss: 0.1495 - acc: 0.9650 - val_loss: 0.1024 - val_acc: 0.9720\n",
            "Epoch 30/30\n",
            "10/10 [==============================] - 5s 540ms/step - loss: 0.1641 - acc: 0.9150 - val_loss: 0.0657 - val_acc: 0.9820\n"
          ],
          "name": "stdout"
        }
      ]
    },
    {
      "cell_type": "code",
      "metadata": {
        "id": "KbaLr7JJubOJ",
        "colab_type": "code",
        "colab": {}
      },
      "source": [
        "New_InceptionModel.save('MyInceptionNet.h5')\n"
      ],
      "execution_count": null,
      "outputs": []
    },
    {
      "cell_type": "code",
      "metadata": {
        "id": "d-HJ_XwuQRyH",
        "colab_type": "code",
        "colab": {}
      },
      "source": [
        ""
      ],
      "execution_count": null,
      "outputs": []
    }
  ]
}