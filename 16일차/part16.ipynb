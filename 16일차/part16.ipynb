{
 "cells": [
  {
   "cell_type": "markdown",
   "metadata": {},
   "source": [
    "# 20.07.22 16일차"
   ]
  },
  {
   "cell_type": "markdown",
   "metadata": {},
   "source": [
    "---"
   ]
  },
  {
   "cell_type": "markdown",
   "metadata": {},
   "source": [
    "# Tensorflow를 이용한 AI 기초 2 "
   ]
  },
  {
   "cell_type": "markdown",
   "metadata": {},
   "source": [
    "## - nodes 0"
   ]
  },
  {
   "cell_type": "code",
   "execution_count": 1,
   "metadata": {},
   "outputs": [],
   "source": [
    "from tensorflow.keras import layers, models\n",
    "import tensorflow.keras.backend as K\n",
    "import numpy as np"
   ]
  },
  {
   "cell_type": "code",
   "execution_count": 2,
   "metadata": {},
   "outputs": [],
   "source": [
    "# Tensor\n",
    "x = layers.Input((1,), name='x')\n",
    "y = layers.Input((1,), name='y')\n",
    "\n",
    "# Layer\n",
    "h = layers.Dense(1, name='h')\n",
    "a = layers.Dense(1, name='a')\n",
    "b = layers.Dense(1, name='b')"
   ]
  },
  {
   "cell_type": "code",
   "execution_count": 3,
   "metadata": {},
   "outputs": [
    {
     "name": "stdout",
     "output_type": "stream",
     "text": [
      "h._inbound_nodes\n",
      " []\n",
      "h._outbound_nodes\n",
      " []\n"
     ]
    }
   ],
   "source": [
    "print('h._inbound_nodes\\n', h._inbound_nodes)\n",
    "print('h._outbound_nodes\\n', h._outbound_nodes)"
   ]
  },
  {
   "cell_type": "code",
   "execution_count": 4,
   "metadata": {},
   "outputs": [
    {
     "name": "stdout",
     "output_type": "stream",
     "text": [
      "h._inbound_nodes\n",
      " [<tensorflow.python.keras.engine.node.Node object at 0x7f81b1a2a7d0>]\n",
      "h._inbound_nodes[0].input_tensors\n",
      " Tensor(\"x:0\", shape=(None, 1), dtype=float32)\n",
      "h._inbound_nodes[0].output_tensors\n",
      " Tensor(\"h/Identity:0\", shape=(None, 1), dtype=float32)\n"
     ]
    }
   ],
   "source": [
    "hx = h(x)\n",
    "\n",
    "print('h._inbound_nodes\\n', h._inbound_nodes)\n",
    "print('h._inbound_nodes[0].input_tensors\\n', h._inbound_nodes[0].input_tensors)\n",
    "print('h._inbound_nodes[0].output_tensors\\n', h._inbound_nodes[0].output_tensors)"
   ]
  },
  {
   "cell_type": "code",
   "execution_count": 5,
   "metadata": {},
   "outputs": [
    {
     "name": "stdout",
     "output_type": "stream",
     "text": [
      "h._outbound_nodes\n",
      " [<tensorflow.python.keras.engine.node.Node object at 0x7f81ab38dcd0>]\n",
      "a._inbound_nodes\n",
      " [<tensorflow.python.keras.engine.node.Node object at 0x7f81ab38dcd0>]\n",
      "h._outbound_nodes[0].input_tensors\n",
      " Tensor(\"h/Identity:0\", shape=(None, 1), dtype=float32)\n",
      "h._outbound_nodes[0].output_tensors\n",
      " Tensor(\"a/Identity:0\", shape=(None, 1), dtype=float32)\n",
      "a._inbound_nodes[0].input_tensors\n",
      " Tensor(\"h/Identity:0\", shape=(None, 1), dtype=float32)\n",
      "a._inbound_nodes[0].output_tensors\n",
      " Tensor(\"a/Identity:0\", shape=(None, 1), dtype=float32)\n"
     ]
    }
   ],
   "source": [
    "ahx = a(hx)\n",
    "\n",
    "print('h._outbound_nodes\\n', h._outbound_nodes)\n",
    "print('a._inbound_nodes\\n', a._inbound_nodes)\n",
    "print('h._outbound_nodes[0].input_tensors\\n', h._outbound_nodes[0].input_tensors)\n",
    "print('h._outbound_nodes[0].output_tensors\\n', h._outbound_nodes[0].output_tensors)\n",
    "print('a._inbound_nodes[0].input_tensors\\n', a._inbound_nodes[0].input_tensors)\n",
    "print('a._inbound_nodes[0].output_tensors\\n', a._inbound_nodes[0].output_tensors)"
   ]
  },
  {
   "cell_type": "code",
   "execution_count": 6,
   "metadata": {},
   "outputs": [
    {
     "name": "stdout",
     "output_type": "stream",
     "text": [
      "h._outbound_nodes\n",
      " [<tensorflow.python.keras.engine.node.Node object at 0x7f81ab38dcd0>, <tensorflow.python.keras.engine.node.Node object at 0x7f81b1a45190>]\n",
      "b._inbound_nodes\n",
      " [<tensorflow.python.keras.engine.node.Node object at 0x7f81b1a45190>]\n",
      "h._outbound_nodes[0].input_tensors\n",
      " Tensor(\"h/Identity:0\", shape=(None, 1), dtype=float32)\n",
      "h._outbound_nodes[0].output_tensors\n",
      " Tensor(\"a/Identity:0\", shape=(None, 1), dtype=float32)\n",
      "b._inbound_nodes[0].input_tensors\n",
      " Tensor(\"h/Identity:0\", shape=(None, 1), dtype=float32)\n",
      "b._inbound_nodes[0].output_tensors\n",
      " Tensor(\"b/Identity:0\", shape=(None, 1), dtype=float32)\n"
     ]
    }
   ],
   "source": [
    "bhx = b(hx)\n",
    "\n",
    "print('h._outbound_nodes\\n', h._outbound_nodes)   # h.outbound에 a,b 모두 연결\n",
    "print('b._inbound_nodes\\n', b._inbound_nodes)\n",
    "print('h._outbound_nodes[0].input_tensors\\n', h._outbound_nodes[0].input_tensors)\n",
    "print('h._outbound_nodes[0].output_tensors\\n', h._outbound_nodes[0].output_tensors)\n",
    "print('b._inbound_nodes[0].input_tensors\\n', b._inbound_nodes[0].input_tensors)\n",
    "print('b._inbound_nodes[0].output_tensors\\n', b._inbound_nodes[0].output_tensors)"
   ]
  },
  {
   "cell_type": "code",
   "execution_count": 7,
   "metadata": {},
   "outputs": [
    {
     "name": "stdout",
     "output_type": "stream",
     "text": [
      "h._inbound_nodes\n",
      " [<tensorflow.python.keras.engine.node.Node object at 0x7f81b1a2a7d0>, <tensorflow.python.keras.engine.node.Node object at 0x7f81b1a5c750>]\n"
     ]
    }
   ],
   "source": [
    "hy = h(y)\n",
    "\n",
    "print('h._inbound_nodes\\n', h._inbound_nodes)   # h.inbound에 x,y 모두 연결"
   ]
  },
  {
   "cell_type": "code",
   "execution_count": 8,
   "metadata": {},
   "outputs": [
    {
     "name": "stdout",
     "output_type": "stream",
     "text": [
      "h._outbound_nodes\n",
      " [<tensorflow.python.keras.engine.node.Node object at 0x7f81ab38dcd0>, <tensorflow.python.keras.engine.node.Node object at 0x7f81b1a45190>, <tensorflow.python.keras.engine.node.Node object at 0x7f81b1a5c850>]\n",
      "a._inbound_nodes\n",
      " [<tensorflow.python.keras.engine.node.Node object at 0x7f81ab38dcd0>, <tensorflow.python.keras.engine.node.Node object at 0x7f81b1a5c850>]\n"
     ]
    }
   ],
   "source": [
    "ahy = a(hy)\n",
    "\n",
    "print('h._outbound_nodes\\n', h._outbound_nodes)\n",
    "print('a._inbound_nodes\\n', a._inbound_nodes)"
   ]
  },
  {
   "cell_type": "code",
   "execution_count": 9,
   "metadata": {},
   "outputs": [
    {
     "name": "stdout",
     "output_type": "stream",
     "text": [
      "h._outbound_nodes\n",
      " [<tensorflow.python.keras.engine.node.Node object at 0x7f81ab38dcd0>, <tensorflow.python.keras.engine.node.Node object at 0x7f81b1a45190>, <tensorflow.python.keras.engine.node.Node object at 0x7f81b1a5c850>, <tensorflow.python.keras.engine.node.Node object at 0x7f81b1a55450>]\n",
      "b._inbound_nodes\n",
      " [<tensorflow.python.keras.engine.node.Node object at 0x7f81b1a45190>, <tensorflow.python.keras.engine.node.Node object at 0x7f81b1a55450>]\n"
     ]
    }
   ],
   "source": [
    "bhy = b(hy)\n",
    "\n",
    "print('h._outbound_nodes\\n', h._outbound_nodes)\n",
    "print('b._inbound_nodes\\n', b._inbound_nodes)"
   ]
  },
  {
   "cell_type": "code",
   "execution_count": 10,
   "metadata": {},
   "outputs": [
    {
     "name": "stdout",
     "output_type": "stream",
     "text": [
      "Model: \"model\"\n",
      "__________________________________________________________________________________________________\n",
      "Layer (type)                    Output Shape         Param #     Connected to                     \n",
      "==================================================================================================\n",
      "x (InputLayer)                  [(None, 1)]          0                                            \n",
      "__________________________________________________________________________________________________\n",
      "y (InputLayer)                  [(None, 1)]          0                                            \n",
      "__________________________________________________________________________________________________\n",
      "h (Dense)                       (None, 1)            2           x[0][0]                          \n",
      "                                                                 y[0][0]                          \n",
      "__________________________________________________________________________________________________\n",
      "a (Dense)                       (None, 1)            2           h[0][0]                          \n",
      "                                                                 h[1][0]                          \n",
      "__________________________________________________________________________________________________\n",
      "b (Dense)                       (None, 1)            2           h[0][0]                          \n",
      "                                                                 h[1][0]                          \n",
      "==================================================================================================\n",
      "Total params: 6\n",
      "Trainable params: 6\n",
      "Non-trainable params: 0\n",
      "__________________________________________________________________________________________________\n"
     ]
    }
   ],
   "source": [
    "model = models.Model([x,y], [ahx, bhx, ahy, bhy])\n",
    "model.summary()"
   ]
  },
  {
   "cell_type": "markdown",
   "metadata": {},
   "source": [
    "Connect to의 h[0][0]은 h의 0번째 inbound node의 0번째 output tensor를 의미한다."
   ]
  },
  {
   "cell_type": "markdown",
   "metadata": {},
   "source": [
    "<img src=\"./nodes0.jpeg\" width=\"50%\">"
   ]
  },
  {
   "cell_type": "markdown",
   "metadata": {},
   "source": [
    "---"
   ]
  },
  {
   "cell_type": "markdown",
   "metadata": {},
   "source": [
    "## - nodes 1"
   ]
  },
  {
   "cell_type": "code",
   "execution_count": 11,
   "metadata": {},
   "outputs": [],
   "source": [
    "x = layers.Input((1,), name='x')\n",
    "y = layers.Input((1,), name='y')\n",
    "\n",
    "h = layers.Lambda(lambda x:[x+1, x-1], name='h')\n",
    "a = layers.Dense(1, name='a')\n",
    "b = layers.Dense(1, name='b')"
   ]
  },
  {
   "cell_type": "code",
   "execution_count": 12,
   "metadata": {},
   "outputs": [
    {
     "name": "stdout",
     "output_type": "stream",
     "text": [
      "h._inbound_nodes\n",
      " []\n",
      "h._outbound_nodes\n",
      " []\n"
     ]
    }
   ],
   "source": [
    "print('h._inbound_nodes\\n', h._inbound_nodes)\n",
    "print('h._outbound_nodes\\n', h._outbound_nodes)"
   ]
  },
  {
   "cell_type": "code",
   "execution_count": 13,
   "metadata": {},
   "outputs": [
    {
     "name": "stdout",
     "output_type": "stream",
     "text": [
      "h_inbound_nodes\n",
      " [<tensorflow.python.keras.engine.node.Node object at 0x7f81b05d4b10>, <tensorflow.python.keras.engine.node.Node object at 0x7f81b1a93810>]\n",
      "h._inbound_nodes[0].input_tensors\n",
      " Tensor(\"x_1:0\", shape=(None, 1), dtype=float32)\n",
      "h._inbound_nodes[0].output_tensors\n",
      " [<tf.Tensor 'h_2/Identity:0' shape=(None, 1) dtype=float32>, <tf.Tensor 'h_2/Identity_1:0' shape=(None, 1) dtype=float32>]\n",
      "h._inbound_nodes[1].input_tensors\n",
      " Tensor(\"y_1:0\", shape=(None, 1), dtype=float32)\n",
      "h._inbound_nodes[1].output_tensors\n",
      " [<tf.Tensor 'h_3/Identity:0' shape=(None, 1) dtype=float32>, <tf.Tensor 'h_3/Identity_1:0' shape=(None, 1) dtype=float32>]\n"
     ]
    }
   ],
   "source": [
    "h0x, h1x = h(x)\n",
    "h0y, h1y = h(y)\n",
    "\n",
    "print('h_inbound_nodes\\n', h._inbound_nodes)\n",
    "print('h._inbound_nodes[0].input_tensors\\n', h._inbound_nodes[0].input_tensors)\n",
    "print('h._inbound_nodes[0].output_tensors\\n', h._inbound_nodes[0].output_tensors)\n",
    "print('h._inbound_nodes[1].input_tensors\\n', h._inbound_nodes[1].input_tensors)\n",
    "print('h._inbound_nodes[1].output_tensors\\n', h._inbound_nodes[1].output_tensors)"
   ]
  },
  {
   "cell_type": "code",
   "execution_count": 14,
   "metadata": {},
   "outputs": [
    {
     "name": "stdout",
     "output_type": "stream",
     "text": [
      "h_outbound_nodes\n",
      " [<tensorflow.python.keras.engine.node.Node object at 0x7f81b1a66f50>, <tensorflow.python.keras.engine.node.Node object at 0x7f81b1a66790>, <tensorflow.python.keras.engine.node.Node object at 0x7f81b1aab590>, <tensorflow.python.keras.engine.node.Node object at 0x7f81b1aa49d0>]\n",
      "h._outbound_nodes[0].input_tensors\n",
      " Tensor(\"h_2/Identity:0\", shape=(None, 1), dtype=float32)\n",
      "h._outbound_nodes[0].output_tensors\n",
      " Tensor(\"a_2/Identity:0\", shape=(None, 1), dtype=float32)\n",
      "h._outbound_nodes[1].input_tensors\n",
      " Tensor(\"h_2/Identity_1:0\", shape=(None, 1), dtype=float32)\n",
      "h._outbound_nodes[1].output_tensors\n",
      " Tensor(\"b_2/Identity:0\", shape=(None, 1), dtype=float32)\n",
      "h._outbound_nodes[2].input_tensors\n",
      " Tensor(\"h_3/Identity:0\", shape=(None, 1), dtype=float32)\n",
      "h._outbound_nodes[2].output_tensors\n",
      " Tensor(\"a_3/Identity:0\", shape=(None, 1), dtype=float32)\n",
      "h._outbound_nodes[3].input_tensors\n",
      " Tensor(\"h_3/Identity_1:0\", shape=(None, 1), dtype=float32)\n",
      "h._outbound_nodes[3].output_tensors\n",
      " Tensor(\"b_3/Identity:0\", shape=(None, 1), dtype=float32)\n"
     ]
    }
   ],
   "source": [
    "ah0x = a(h0x)\n",
    "bh1x = b(h1x)\n",
    "ah0y = a(h0y)\n",
    "bh1y = b(h1y)\n",
    "\n",
    "print('h_outbound_nodes\\n', h._outbound_nodes)\n",
    "print('h._outbound_nodes[0].input_tensors\\n', h._outbound_nodes[0].input_tensors)\n",
    "print('h._outbound_nodes[0].output_tensors\\n', h._outbound_nodes[0].output_tensors)\n",
    "print('h._outbound_nodes[1].input_tensors\\n', h._outbound_nodes[1].input_tensors)\n",
    "print('h._outbound_nodes[1].output_tensors\\n', h._outbound_nodes[1].output_tensors)\n",
    "print('h._outbound_nodes[2].input_tensors\\n', h._outbound_nodes[2].input_tensors)\n",
    "print('h._outbound_nodes[2].output_tensors\\n', h._outbound_nodes[2].output_tensors)\n",
    "print('h._outbound_nodes[3].input_tensors\\n', h._outbound_nodes[3].input_tensors)\n",
    "print('h._outbound_nodes[3].output_tensors\\n', h._outbound_nodes[3].output_tensors)"
   ]
  },
  {
   "cell_type": "code",
   "execution_count": 15,
   "metadata": {},
   "outputs": [
    {
     "name": "stdout",
     "output_type": "stream",
     "text": [
      "Model: \"model_1\"\n",
      "__________________________________________________________________________________________________\n",
      "Layer (type)                    Output Shape         Param #     Connected to                     \n",
      "==================================================================================================\n",
      "x (InputLayer)                  [(None, 1)]          0                                            \n",
      "__________________________________________________________________________________________________\n",
      "y (InputLayer)                  [(None, 1)]          0                                            \n",
      "__________________________________________________________________________________________________\n",
      "h (Lambda)                      [(None, 1), (None, 1 0           x[0][0]                          \n",
      "                                                                 y[0][0]                          \n",
      "__________________________________________________________________________________________________\n",
      "a (Dense)                       (None, 1)            2           h[0][0]                          \n",
      "                                                                 h[1][0]                          \n",
      "__________________________________________________________________________________________________\n",
      "b (Dense)                       (None, 1)            2           h[0][1]                          \n",
      "                                                                 h[1][1]                          \n",
      "==================================================================================================\n",
      "Total params: 4\n",
      "Trainable params: 4\n",
      "Non-trainable params: 0\n",
      "__________________________________________________________________________________________________\n"
     ]
    }
   ],
   "source": [
    "model = models.Model([x,y], [ah0x, bh1x, ah0y, bh1y])\n",
    "model.summary()"
   ]
  },
  {
   "cell_type": "markdown",
   "metadata": {},
   "source": [
    "<img src=\"./nodes1.jpeg\" width=\"50%\">"
   ]
  },
  {
   "cell_type": "markdown",
   "metadata": {},
   "source": [
    "---"
   ]
  },
  {
   "cell_type": "markdown",
   "metadata": {},
   "source": [
    "## - nodes 2"
   ]
  },
  {
   "cell_type": "code",
   "execution_count": 16,
   "metadata": {},
   "outputs": [],
   "source": [
    "x = layers.Input((1,), name='x')\n",
    "y = layers.Input((1,), name='y')\n",
    "\n",
    "h = layers.Add(name='h')\n",
    "a = layers.Dense(1, name='a')\n",
    "b = layers.Dense(1, name='b')"
   ]
  },
  {
   "cell_type": "code",
   "execution_count": 17,
   "metadata": {},
   "outputs": [
    {
     "name": "stdout",
     "output_type": "stream",
     "text": [
      "h._inbound_nodes\n",
      " []\n",
      "h._outbound_nodes\n",
      " []\n"
     ]
    }
   ],
   "source": [
    "print('h._inbound_nodes\\n', h._inbound_nodes)\n",
    "print('h._outbound_nodes\\n', h._outbound_nodes)"
   ]
  },
  {
   "cell_type": "code",
   "execution_count": 18,
   "metadata": {},
   "outputs": [
    {
     "name": "stdout",
     "output_type": "stream",
     "text": [
      "h._inbound_nodes\n",
      " [<tensorflow.python.keras.engine.node.Node object at 0x7f81b1a6da50>]\n",
      "h._inbound_nodes[0].input_tensors\n",
      " [<tf.Tensor 'x_2:0' shape=(None, 1) dtype=float32>, <tf.Tensor 'y_2:0' shape=(None, 1) dtype=float32>]\n",
      "h._inbound_nodes[0].output_tensors\n",
      " Tensor(\"h_4/Identity:0\", shape=(None, 1), dtype=float32)\n"
     ]
    }
   ],
   "source": [
    "hxy = h([x,y])\n",
    "\n",
    "print('h._inbound_nodes\\n', h._inbound_nodes)\n",
    "print('h._inbound_nodes[0].input_tensors\\n', h._inbound_nodes[0].input_tensors)\n",
    "print('h._inbound_nodes[0].output_tensors\\n', h._inbound_nodes[0].output_tensors)"
   ]
  },
  {
   "cell_type": "code",
   "execution_count": 19,
   "metadata": {},
   "outputs": [
    {
     "name": "stdout",
     "output_type": "stream",
     "text": [
      "h._outbound_nodes\n",
      " [<tensorflow.python.keras.engine.node.Node object at 0x7f81b1a6d0d0>, <tensorflow.python.keras.engine.node.Node object at 0x7f81b1a6d250>]\n",
      "a._inbound_nodes\n",
      " [<tensorflow.python.keras.engine.node.Node object at 0x7f81b1a6d0d0>]\n",
      "b._inbound_nodes\n",
      " [<tensorflow.python.keras.engine.node.Node object at 0x7f81b1a6d250>]\n"
     ]
    }
   ],
   "source": [
    "ahxy = a(hxy)\n",
    "bhxy = b(hxy)\n",
    "\n",
    "print('h._outbound_nodes\\n', h._outbound_nodes)\n",
    "print('a._inbound_nodes\\n', a._inbound_nodes)\n",
    "print('b._inbound_nodes\\n', b._inbound_nodes)"
   ]
  },
  {
   "cell_type": "code",
   "execution_count": 20,
   "metadata": {},
   "outputs": [
    {
     "name": "stdout",
     "output_type": "stream",
     "text": [
      "Model: \"model_2\"\n",
      "__________________________________________________________________________________________________\n",
      "Layer (type)                    Output Shape         Param #     Connected to                     \n",
      "==================================================================================================\n",
      "x (InputLayer)                  [(None, 1)]          0                                            \n",
      "__________________________________________________________________________________________________\n",
      "y (InputLayer)                  [(None, 1)]          0                                            \n",
      "__________________________________________________________________________________________________\n",
      "h (Add)                         (None, 1)            0           x[0][0]                          \n",
      "                                                                 y[0][0]                          \n",
      "__________________________________________________________________________________________________\n",
      "a (Dense)                       (None, 1)            2           h[0][0]                          \n",
      "__________________________________________________________________________________________________\n",
      "b (Dense)                       (None, 1)            2           h[0][0]                          \n",
      "==================================================================================================\n",
      "Total params: 4\n",
      "Trainable params: 4\n",
      "Non-trainable params: 0\n",
      "__________________________________________________________________________________________________\n"
     ]
    }
   ],
   "source": [
    "model = models.Model([x,y], [ahxy, bhxy])\n",
    "model.summary()"
   ]
  },
  {
   "cell_type": "markdown",
   "metadata": {},
   "source": [
    "<img src=\"./nodes2.jpeg\" width=\"50%\">"
   ]
  },
  {
   "cell_type": "markdown",
   "metadata": {},
   "source": [
    "---"
   ]
  },
  {
   "cell_type": "markdown",
   "metadata": {},
   "source": [
    "## - Multi-input multi-output 0"
   ]
  },
  {
   "cell_type": "markdown",
   "metadata": {},
   "source": [
    "여러개의 텐서를 입력받아 여러개의 텐서를 출력하는 모델을 알아봅시다. 그 예로서<br>\n",
    "yA = a * (xA * xB) +b<br>\n",
    "yB = c * (xA + xB) +d<br>\n",
    "의 관계를 가지는 데이터에서 a,b,c,d를 학습으로 발견해봅시다.<br>"
   ]
  },
  {
   "cell_type": "code",
   "execution_count": 21,
   "metadata": {},
   "outputs": [
    {
     "name": "stdout",
     "output_type": "stream",
     "text": [
      "Requirement already satisfied: matplotlib in /Users/ksanbal/opt/anaconda3/lib/python3.7/site-packages (3.1.3)\n",
      "Requirement already satisfied: cycler>=0.10 in /Users/ksanbal/opt/anaconda3/lib/python3.7/site-packages (from matplotlib) (0.10.0)\n",
      "Requirement already satisfied: numpy>=1.11 in /Users/ksanbal/opt/anaconda3/lib/python3.7/site-packages (from matplotlib) (1.18.1)\n",
      "Requirement already satisfied: kiwisolver>=1.0.1 in /Users/ksanbal/opt/anaconda3/lib/python3.7/site-packages (from matplotlib) (1.1.0)\n",
      "Requirement already satisfied: pyparsing!=2.0.4,!=2.1.2,!=2.1.6,>=2.0.1 in /Users/ksanbal/opt/anaconda3/lib/python3.7/site-packages (from matplotlib) (2.4.6)\n",
      "Requirement already satisfied: python-dateutil>=2.1 in /Users/ksanbal/opt/anaconda3/lib/python3.7/site-packages (from matplotlib) (2.8.1)\n",
      "Requirement already satisfied: six in /Users/ksanbal/opt/anaconda3/lib/python3.7/site-packages (from cycler>=0.10->matplotlib) (1.14.0)\n",
      "Requirement already satisfied: setuptools in /Users/ksanbal/opt/anaconda3/lib/python3.7/site-packages (from kiwisolver>=1.0.1->matplotlib) (46.0.0.post20200309)\n"
     ]
    }
   ],
   "source": [
    "!pip install matplotlib"
   ]
  },
  {
   "cell_type": "code",
   "execution_count": 22,
   "metadata": {},
   "outputs": [],
   "source": [
    "from tensorflow.keras import layers, models\n",
    "import numpy as np\n",
    "import matplotlib.pyplot as plt\n",
    "%matplotlib inline"
   ]
  },
  {
   "cell_type": "code",
   "execution_count": 23,
   "metadata": {},
   "outputs": [],
   "source": [
    "a = 2\n",
    "b = 1\n",
    "c = 2\n",
    "d = 1"
   ]
  },
  {
   "cell_type": "code",
   "execution_count": 24,
   "metadata": {
    "scrolled": false
   },
   "outputs": [],
   "source": [
    "# -1 ~ 1 까지 랜덤하게 학습 데이터 생성\n",
    "x_train_A = np.random.rand(1000,1) * 2 -1\n",
    "x_train_B = np.random.rand(1000,1) * 2 -1\n",
    "\n",
    "y_train_A = a * (x_train_A * x_train_B) + b\n",
    "y_train_B = c * (x_train_A + x_train_B) + d"
   ]
  },
  {
   "cell_type": "code",
   "execution_count": 25,
   "metadata": {},
   "outputs": [],
   "source": [
    "xA = layers.Input((1,), name='xA')\n",
    "xB = layers.Input((1,), name='xB')\n",
    "a = layers.Dense(1, name='xA')\n",
    "b = layers.Dense(1, name='xB')\n",
    "hA = layers.Multiply(name='mul')([xA, xB])\n",
    "hB = layers.Add(name='add')([xA, xB])\n",
    "yA = layers.Dense(1, name='yA')(hA)\n",
    "yB = layers.Dense(1, name='yB')(hB)"
   ]
  },
  {
   "cell_type": "code",
   "execution_count": 26,
   "metadata": {},
   "outputs": [
    {
     "name": "stdout",
     "output_type": "stream",
     "text": [
      "Model: \"model_3\"\n",
      "__________________________________________________________________________________________________\n",
      "Layer (type)                    Output Shape         Param #     Connected to                     \n",
      "==================================================================================================\n",
      "xA (InputLayer)                 [(None, 1)]          0                                            \n",
      "__________________________________________________________________________________________________\n",
      "xB (InputLayer)                 [(None, 1)]          0                                            \n",
      "__________________________________________________________________________________________________\n",
      "mul (Multiply)                  (None, 1)            0           xA[0][0]                         \n",
      "                                                                 xB[0][0]                         \n",
      "__________________________________________________________________________________________________\n",
      "add (Add)                       (None, 1)            0           xA[0][0]                         \n",
      "                                                                 xB[0][0]                         \n",
      "__________________________________________________________________________________________________\n",
      "yA (Dense)                      (None, 1)            2           mul[0][0]                        \n",
      "__________________________________________________________________________________________________\n",
      "yB (Dense)                      (None, 1)            2           add[0][0]                        \n",
      "==================================================================================================\n",
      "Total params: 4\n",
      "Trainable params: 4\n",
      "Non-trainable params: 0\n",
      "__________________________________________________________________________________________________\n"
     ]
    }
   ],
   "source": [
    "model = models.Model([xA, xB], [yA, yB])\n",
    "model.summary()"
   ]
  },
  {
   "cell_type": "code",
   "execution_count": 27,
   "metadata": {},
   "outputs": [],
   "source": [
    "model.compile(optimizer='adam', loss='mse') # 학습을 위해서 실행\n",
    "# model.compile(optimizer='adam', loss={'yA': 'mse', 'yB': 'mse'}, loss_weights={'yA':2., 'yB':1.}) # 각각 loss를 다르게 해줄 경우"
   ]
  },
  {
   "cell_type": "code",
   "execution_count": 28,
   "metadata": {},
   "outputs": [
    {
     "name": "stdout",
     "output_type": "stream",
     "text": [
      "Epoch 1/200\n",
      "100/100 [==============================] - 1s 11ms/step - loss: 3.6427 - yA_loss: 1.7483 - yB_loss: 1.8944 - val_loss: 3.2164 - val_yA_loss: 1.4653 - val_yB_loss: 1.7511\n",
      "Epoch 2/200\n",
      "100/100 [==============================] - 1s 8ms/step - loss: 3.1212 - yA_loss: 1.5237 - yB_loss: 1.5975 - val_loss: 2.7441 - val_yA_loss: 1.2723 - val_yB_loss: 1.4719\n",
      "Epoch 3/200\n",
      "100/100 [==============================] - 1s 8ms/step - loss: 2.6664 - yA_loss: 1.3276 - yB_loss: 1.3388 - val_loss: 2.3343 - val_yA_loss: 1.1072 - val_yB_loss: 1.2271\n",
      "Epoch 4/200\n",
      "100/100 [==============================] - 0s 5ms/step - loss: 2.2722 - yA_loss: 1.1575 - yB_loss: 1.1147 - val_loss: 1.9785 - val_yA_loss: 0.9634 - val_yB_loss: 1.0150\n",
      "Epoch 5/200\n",
      "100/100 [==============================] - 0s 4ms/step - loss: 1.9309 - yA_loss: 1.0101 - yB_loss: 0.9207 - val_loss: 1.6734 - val_yA_loss: 0.8386 - val_yB_loss: 0.8348\n",
      "Epoch 6/200\n",
      "100/100 [==============================] - 0s 2ms/step - loss: 1.6365 - yA_loss: 0.8820 - yB_loss: 0.7546 - val_loss: 1.4129 - val_yA_loss: 0.7332 - val_yB_loss: 0.6797\n",
      "Epoch 7/200\n",
      "100/100 [==============================] - 0s 2ms/step - loss: 1.3849 - yA_loss: 0.7719 - yB_loss: 0.6130 - val_loss: 1.1890 - val_yA_loss: 0.6407 - val_yB_loss: 0.5483\n",
      "Epoch 8/200\n",
      "100/100 [==============================] - 0s 2ms/step - loss: 1.1698 - yA_loss: 0.6767 - yB_loss: 0.4931 - val_loss: 1.0046 - val_yA_loss: 0.5650 - val_yB_loss: 0.4396\n",
      "Epoch 9/200\n",
      "100/100 [==============================] - 0s 3ms/step - loss: 0.9892 - yA_loss: 0.5958 - yB_loss: 0.3934 - val_loss: 0.8438 - val_yA_loss: 0.4972 - val_yB_loss: 0.3466\n",
      "Epoch 10/200\n",
      "100/100 [==============================] - 1s 5ms/step - loss: 0.8363 - yA_loss: 0.5258 - yB_loss: 0.3105 - val_loss: 0.7134 - val_yA_loss: 0.4416 - val_yB_loss: 0.2718\n",
      "Epoch 11/200\n",
      "100/100 [==============================] - 0s 3ms/step - loss: 0.7088 - yA_loss: 0.4662 - yB_loss: 0.2427 - val_loss: 0.6049 - val_yA_loss: 0.3935 - val_yB_loss: 0.2113\n",
      "Epoch 12/200\n",
      "100/100 [==============================] - ETA: 0s - loss: 0.5965 - yA_loss: 0.4111 - yB_loss: 0.185 - 0s 4ms/step - loss: 0.6028 - yA_loss: 0.4151 - yB_loss: 0.1877 - val_loss: 0.5144 - val_yA_loss: 0.3525 - val_yB_loss: 0.1619\n",
      "Epoch 13/200\n",
      "100/100 [==============================] - 1s 6ms/step - loss: 0.5149 - yA_loss: 0.3714 - yB_loss: 0.1435 - val_loss: 0.4389 - val_yA_loss: 0.3167 - val_yB_loss: 0.1222\n",
      "Epoch 14/200\n",
      "100/100 [==============================] - 0s 3ms/step - loss: 0.4419 - yA_loss: 0.3335 - yB_loss: 0.1084 - val_loss: 0.3788 - val_yA_loss: 0.2871 - val_yB_loss: 0.0917\n",
      "Epoch 15/200\n",
      "100/100 [==============================] - 0s 2ms/step - loss: 0.3817 - yA_loss: 0.3008 - yB_loss: 0.0810 - val_loss: 0.3274 - val_yA_loss: 0.2599 - val_yB_loss: 0.0675\n",
      "Epoch 16/200\n",
      "100/100 [==============================] - 0s 2ms/step - loss: 0.3315 - yA_loss: 0.2719 - yB_loss: 0.0596 - val_loss: 0.2857 - val_yA_loss: 0.2363 - val_yB_loss: 0.0494\n",
      "Epoch 17/200\n",
      "100/100 [==============================] - 0s 2ms/step - loss: 0.2897 - yA_loss: 0.2464 - yB_loss: 0.0433 - val_loss: 0.2506 - val_yA_loss: 0.2152 - val_yB_loss: 0.0355\n",
      "Epoch 18/200\n",
      "100/100 [==============================] - 0s 2ms/step - loss: 0.2545 - yA_loss: 0.2235 - yB_loss: 0.0310 - val_loss: 0.2215 - val_yA_loss: 0.1965 - val_yB_loss: 0.0251\n",
      "Epoch 19/200\n",
      "100/100 [==============================] - 0s 2ms/step - loss: 0.2248 - yA_loss: 0.2029 - yB_loss: 0.0219 - val_loss: 0.1962 - val_yA_loss: 0.1787 - val_yB_loss: 0.0174\n",
      "Epoch 20/200\n",
      "100/100 [==============================] - 0s 2ms/step - loss: 0.1992 - yA_loss: 0.1841 - yB_loss: 0.0152 - val_loss: 0.1747 - val_yA_loss: 0.1628 - val_yB_loss: 0.0120\n",
      "Epoch 21/200\n",
      "100/100 [==============================] - 0s 2ms/step - loss: 0.1773 - yA_loss: 0.1669 - yB_loss: 0.0103 - val_loss: 0.1560 - val_yA_loss: 0.1480 - val_yB_loss: 0.0081\n",
      "Epoch 22/200\n",
      "100/100 [==============================] - 0s 2ms/step - loss: 0.1580 - yA_loss: 0.1511 - yB_loss: 0.0069 - val_loss: 0.1394 - val_yA_loss: 0.1341 - val_yB_loss: 0.0053\n",
      "Epoch 23/200\n",
      "100/100 [==============================] - 0s 2ms/step - loss: 0.1411 - yA_loss: 0.1366 - yB_loss: 0.0045 - val_loss: 0.1247 - val_yA_loss: 0.1213 - val_yB_loss: 0.0034\n",
      "Epoch 24/200\n",
      "100/100 [==============================] - 0s 2ms/step - loss: 0.1260 - yA_loss: 0.1231 - yB_loss: 0.0029 - val_loss: 0.1113 - val_yA_loss: 0.1091 - val_yB_loss: 0.0022\n",
      "Epoch 25/200\n",
      "100/100 [==============================] - 0s 2ms/step - loss: 0.1124 - yA_loss: 0.1106 - yB_loss: 0.0018 - val_loss: 0.0996 - val_yA_loss: 0.0982 - val_yB_loss: 0.0013\n",
      "Epoch 26/200\n",
      "100/100 [==============================] - 1s 6ms/step - loss: 0.1002 - yA_loss: 0.0991 - yB_loss: 0.0011 - val_loss: 0.0887 - val_yA_loss: 0.0879 - val_yB_loss: 8.0915e-04\n",
      "Epoch 27/200\n",
      "100/100 [==============================] - 0s 5ms/step - loss: 0.0891 - yA_loss: 0.0885 - yB_loss: 6.6631e-04 - val_loss: 0.0790 - val_yA_loss: 0.0785 - val_yB_loss: 4.7440e-04\n",
      "Epoch 28/200\n",
      "100/100 [==============================] - 0s 2ms/step - loss: 0.0791 - yA_loss: 0.0787 - yB_loss: 3.8701e-04 - val_loss: 0.0699 - val_yA_loss: 0.0696 - val_yB_loss: 2.6695e-04\n",
      "Epoch 29/200\n",
      "100/100 [==============================] - 0s 2ms/step - loss: 0.0699 - yA_loss: 0.0697 - yB_loss: 2.1750e-04 - val_loss: 0.0617 - val_yA_loss: 0.0615 - val_yB_loss: 1.4907e-04\n",
      "Epoch 30/200\n",
      "100/100 [==============================] - 0s 2ms/step - loss: 0.0616 - yA_loss: 0.0614 - yB_loss: 1.1873e-04 - val_loss: 0.0543 - val_yA_loss: 0.0542 - val_yB_loss: 8.0610e-05\n",
      "Epoch 31/200\n",
      "100/100 [==============================] - 0s 3ms/step - loss: 0.0540 - yA_loss: 0.0539 - yB_loss: 6.2820e-05 - val_loss: 0.0475 - val_yA_loss: 0.0475 - val_yB_loss: 4.1163e-05\n",
      "Epoch 32/200\n",
      "100/100 [==============================] - 0s 3ms/step - loss: 0.0472 - yA_loss: 0.0471 - yB_loss: 3.1956e-05 - val_loss: 0.0414 - val_yA_loss: 0.0414 - val_yB_loss: 2.0826e-05\n",
      "Epoch 33/200\n",
      "100/100 [==============================] - 1s 7ms/step - loss: 0.0410 - yA_loss: 0.0410 - yB_loss: 1.5713e-05 - val_loss: 0.0358 - val_yA_loss: 0.0358 - val_yB_loss: 9.9525e-06\n",
      "Epoch 34/200\n",
      "100/100 [==============================] - 0s 4ms/step - loss: 0.0354 - yA_loss: 0.0354 - yB_loss: 7.4352e-06 - val_loss: 0.0309 - val_yA_loss: 0.0309 - val_yB_loss: 4.4987e-06\n",
      "Epoch 35/200\n",
      "100/100 [==============================] - 0s 2ms/step - loss: 0.0304 - yA_loss: 0.0304 - yB_loss: 3.3586e-06 - val_loss: 0.0265 - val_yA_loss: 0.0265 - val_yB_loss: 2.0247e-06\n",
      "Epoch 36/200\n",
      "100/100 [==============================] - 1s 7ms/step - loss: 0.0260 - yA_loss: 0.0260 - yB_loss: 1.4603e-06 - val_loss: 0.0225 - val_yA_loss: 0.0225 - val_yB_loss: 8.6042e-07\n",
      "Epoch 37/200\n",
      "100/100 [==============================] - 0s 4ms/step - loss: 0.0220 - yA_loss: 0.0220 - yB_loss: 6.0723e-07 - val_loss: 0.0190 - val_yA_loss: 0.0190 - val_yB_loss: 3.4160e-07\n",
      "Epoch 38/200\n",
      "100/100 [==============================] - 0s 2ms/step - loss: 0.0185 - yA_loss: 0.0185 - yB_loss: 2.3905e-07 - val_loss: 0.0160 - val_yA_loss: 0.0160 - val_yB_loss: 1.3338e-07\n",
      "Epoch 39/200\n",
      "100/100 [==============================] - 0s 2ms/step - loss: 0.0155 - yA_loss: 0.0155 - yB_loss: 9.0218e-08 - val_loss: 0.0133 - val_yA_loss: 0.0133 - val_yB_loss: 4.7834e-08\n",
      "Epoch 40/200\n",
      "100/100 [==============================] - 0s 2ms/step - loss: 0.0129 - yA_loss: 0.0129 - yB_loss: 3.1971e-08 - val_loss: 0.0110 - val_yA_loss: 0.0110 - val_yB_loss: 1.6206e-08\n",
      "Epoch 41/200\n",
      "100/100 [==============================] - 0s 2ms/step - loss: 0.0106 - yA_loss: 0.0106 - yB_loss: 1.0738e-08 - val_loss: 0.0090 - val_yA_loss: 0.0090 - val_yB_loss: 5.4184e-09\n",
      "Epoch 42/200\n",
      "100/100 [==============================] - 0s 2ms/step - loss: 0.0086 - yA_loss: 0.0086 - yB_loss: 3.4493e-09 - val_loss: 0.0073 - val_yA_loss: 0.0073 - val_yB_loss: 1.6794e-09\n",
      "Epoch 43/200\n",
      "100/100 [==============================] - 0s 2ms/step - loss: 0.0070 - yA_loss: 0.0070 - yB_loss: 1.0180e-09 - val_loss: 0.0059 - val_yA_loss: 0.0059 - val_yB_loss: 4.6904e-10\n",
      "Epoch 44/200\n",
      "100/100 [==============================] - 0s 2ms/step - loss: 0.0056 - yA_loss: 0.0056 - yB_loss: 2.8616e-10 - val_loss: 0.0047 - val_yA_loss: 0.0047 - val_yB_loss: 1.2561e-10\n"
     ]
    },
    {
     "name": "stdout",
     "output_type": "stream",
     "text": [
      "Epoch 45/200\n",
      "100/100 [==============================] - 0s 2ms/step - loss: 0.0044 - yA_loss: 0.0044 - yB_loss: 6.7920e-11 - val_loss: 0.0037 - val_yA_loss: 0.0037 - val_yB_loss: 4.1539e-11\n",
      "Epoch 46/200\n",
      "100/100 [==============================] - 0s 2ms/step - loss: 0.0035 - yA_loss: 0.0035 - yB_loss: 4.0436e-11 - val_loss: 0.0028 - val_yA_loss: 0.0028 - val_yB_loss: 2.7297e-11\n",
      "Epoch 47/200\n",
      "100/100 [==============================] - 0s 2ms/step - loss: 0.0027 - yA_loss: 0.0027 - yB_loss: 2.9037e-11 - val_loss: 0.0022 - val_yA_loss: 0.0022 - val_yB_loss: 2.7297e-11\n",
      "Epoch 48/200\n",
      "100/100 [==============================] - 0s 1ms/step - loss: 0.0020 - yA_loss: 0.0020 - yB_loss: 2.9037e-11 - val_loss: 0.0017 - val_yA_loss: 0.0017 - val_yB_loss: 2.7297e-11\n",
      "Epoch 49/200\n",
      "100/100 [==============================] - 0s 2ms/step - loss: 0.0015 - yA_loss: 0.0015 - yB_loss: 2.6508e-11 - val_loss: 0.0012 - val_yA_loss: 0.0012 - val_yB_loss: 2.2544e-11\n",
      "Epoch 50/200\n",
      "100/100 [==============================] - 0s 2ms/step - loss: 0.0011 - yA_loss: 0.0011 - yB_loss: 2.3956e-11 - val_loss: 9.1179e-04 - val_yA_loss: 9.1179e-04 - val_yB_loss: 2.0884e-11\n",
      "Epoch 51/200\n",
      "100/100 [==============================] - 0s 1ms/step - loss: 8.3170e-04 - yA_loss: 8.3170e-04 - yB_loss: 1.7216e-11 - val_loss: 6.6065e-04 - val_yA_loss: 6.6065e-04 - val_yB_loss: 1.6077e-11\n",
      "Epoch 52/200\n",
      "100/100 [==============================] - 0s 1ms/step - loss: 5.9797e-04 - yA_loss: 5.9797e-04 - yB_loss: 1.6968e-11 - val_loss: 4.7131e-04 - val_yA_loss: 4.7131e-04 - val_yB_loss: 1.6077e-11\n",
      "Epoch 53/200\n",
      "100/100 [==============================] - 0s 2ms/step - loss: 4.2479e-04 - yA_loss: 4.2479e-04 - yB_loss: 1.4193e-11 - val_loss: 3.2985e-04 - val_yA_loss: 3.2985e-04 - val_yB_loss: 1.1948e-11\n",
      "Epoch 54/200\n",
      "100/100 [==============================] - 0s 1ms/step - loss: 2.9419e-04 - yA_loss: 2.9419e-04 - yB_loss: 1.2527e-11 - val_loss: 2.2865e-04 - val_yA_loss: 2.2865e-04 - val_yB_loss: 1.1948e-11\n",
      "Epoch 55/200\n",
      "100/100 [==============================] - 0s 2ms/step - loss: 2.0081e-04 - yA_loss: 2.0081e-04 - yB_loss: 1.2527e-11 - val_loss: 1.5422e-04 - val_yA_loss: 1.5422e-04 - val_yB_loss: 1.1948e-11\n",
      "Epoch 56/200\n",
      "100/100 [==============================] - 0s 2ms/step - loss: 1.3421e-04 - yA_loss: 1.3421e-04 - yB_loss: 1.2527e-11 - val_loss: 1.0260e-04 - val_yA_loss: 1.0260e-04 - val_yB_loss: 1.1948e-11\n",
      "Epoch 57/200\n",
      "100/100 [==============================] - 0s 1ms/step - loss: 8.8126e-05 - yA_loss: 8.8126e-05 - yB_loss: 1.1838e-11 - val_loss: 6.5689e-05 - val_yA_loss: 6.5689e-05 - val_yB_loss: 1.0610e-11\n",
      "Epoch 58/200\n",
      "100/100 [==============================] - 0s 2ms/step - loss: 5.6322e-05 - yA_loss: 5.6322e-05 - yB_loss: 1.0038e-11 - val_loss: 4.1490e-05 - val_yA_loss: 4.1490e-05 - val_yB_loss: 9.4367e-12\n",
      "Epoch 59/200\n",
      "100/100 [==============================] - 0s 2ms/step - loss: 3.5269e-05 - yA_loss: 3.5269e-05 - yB_loss: 9.9556e-12 - val_loss: 2.5709e-05 - val_yA_loss: 2.5709e-05 - val_yB_loss: 9.4367e-12\n",
      "Epoch 60/200\n",
      "100/100 [==============================] - 0s 2ms/step - loss: 2.1531e-05 - yA_loss: 2.1531e-05 - yB_loss: 9.4899e-12 - val_loss: 1.5485e-05 - val_yA_loss: 1.5485e-05 - val_yB_loss: 8.9025e-12\n",
      "Epoch 61/200\n",
      "100/100 [==============================] - 0s 2ms/step - loss: 1.2810e-05 - yA_loss: 1.2810e-05 - yB_loss: 8.0213e-12 - val_loss: 9.1343e-06 - val_yA_loss: 9.1343e-06 - val_yB_loss: 6.8233e-12\n",
      "Epoch 62/200\n",
      "100/100 [==============================] - 0s 4ms/step - loss: 7.4115e-06 - yA_loss: 7.4115e-06 - yB_loss: 7.1449e-12 - val_loss: 5.1421e-06 - val_yA_loss: 5.1420e-06 - val_yB_loss: 6.8233e-12\n",
      "Epoch 63/200\n",
      "100/100 [==============================] - 0s 3ms/step - loss: 4.1625e-06 - yA_loss: 4.1625e-06 - yB_loss: 6.8681e-12 - val_loss: 2.8588e-06 - val_yA_loss: 2.8587e-06 - val_yB_loss: 4.9985e-12\n",
      "Epoch 64/200\n",
      "100/100 [==============================] - 0s 2ms/step - loss: 2.2709e-06 - yA_loss: 2.2709e-06 - yB_loss: 5.2778e-12 - val_loss: 1.5227e-06 - val_yA_loss: 1.5227e-06 - val_yB_loss: 4.9985e-12\n",
      "Epoch 65/200\n",
      "100/100 [==============================] - 1s 5ms/step - loss: 1.2015e-06 - yA_loss: 1.2015e-06 - yB_loss: 5.1501e-12 - val_loss: 8.0631e-07 - val_yA_loss: 8.0631e-07 - val_yB_loss: 4.2681e-12\n",
      "Epoch 66/200\n",
      "100/100 [==============================] - 0s 2ms/step - loss: 6.1516e-07 - yA_loss: 6.1515e-07 - yB_loss: 4.4047e-12 - val_loss: 3.9804e-07 - val_yA_loss: 3.9803e-07 - val_yB_loss: 4.2681e-12\n",
      "Epoch 67/200\n",
      "100/100 [==============================] - 0s 2ms/step - loss: 3.0294e-07 - yA_loss: 3.0293e-07 - yB_loss: 4.4047e-12 - val_loss: 1.8962e-07 - val_yA_loss: 1.8962e-07 - val_yB_loss: 4.2681e-12\n",
      "Epoch 68/200\n",
      "100/100 [==============================] - 0s 1ms/step - loss: 1.4358e-07 - yA_loss: 1.4358e-07 - yB_loss: 4.1202e-12 - val_loss: 8.8832e-08 - val_yA_loss: 8.8828e-08 - val_yB_loss: 3.8825e-12\n",
      "Epoch 69/200\n",
      "100/100 [==============================] - 0s 2ms/step - loss: 6.5628e-08 - yA_loss: 6.5625e-08 - yB_loss: 3.3422e-12 - val_loss: 3.9916e-08 - val_yA_loss: 3.9913e-08 - val_yB_loss: 2.8838e-12\n",
      "Epoch 70/200\n",
      "100/100 [==============================] - 0s 2ms/step - loss: 2.8738e-08 - yA_loss: 2.8735e-08 - yB_loss: 2.8189e-12 - val_loss: 1.6997e-08 - val_yA_loss: 1.6994e-08 - val_yB_loss: 2.5556e-12\n",
      "Epoch 71/200\n",
      "100/100 [==============================] - 0s 2ms/step - loss: 1.1971e-08 - yA_loss: 1.1969e-08 - yB_loss: 2.6390e-12 - val_loss: 6.9702e-09 - val_yA_loss: 6.9676e-09 - val_yB_loss: 2.5556e-12\n",
      "Epoch 72/200\n",
      "100/100 [==============================] - 0s 2ms/step - loss: 4.8276e-09 - yA_loss: 4.8250e-09 - yB_loss: 2.5919e-12 - val_loss: 2.6582e-09 - val_yA_loss: 2.6558e-09 - val_yB_loss: 2.4129e-12\n",
      "Epoch 73/200\n",
      "100/100 [==============================] - 0s 3ms/step - loss: 1.8415e-09 - yA_loss: 1.8392e-09 - yB_loss: 2.3207e-12 - val_loss: 9.7502e-10 - val_yA_loss: 9.7283e-10 - val_yB_loss: 2.1913e-12\n",
      "Epoch 74/200\n",
      "100/100 [==============================] - 0s 2ms/step - loss: 6.5690e-10 - yA_loss: 6.5464e-10 - yB_loss: 2.2540e-12 - val_loss: 3.4237e-10 - val_yA_loss: 3.4018e-10 - val_yB_loss: 2.1913e-12\n",
      "Epoch 75/200\n",
      "100/100 [==============================] - 0s 3ms/step - loss: 2.1887e-10 - yA_loss: 2.1663e-10 - yB_loss: 2.2395e-12 - val_loss: 1.0989e-10 - val_yA_loss: 1.0822e-10 - val_yB_loss: 1.6702e-12\n",
      "Epoch 76/200\n",
      "100/100 [==============================] - 0s 2ms/step - loss: 7.1107e-11 - yA_loss: 6.9619e-11 - yB_loss: 1.4879e-12 - val_loss: 3.8027e-11 - val_yA_loss: 3.6579e-11 - val_yB_loss: 1.4478e-12\n",
      "Epoch 77/200\n",
      "100/100 [==============================] - 0s 2ms/step - loss: 2.2073e-11 - yA_loss: 2.0592e-11 - yB_loss: 1.4816e-12 - val_loss: 9.7679e-12 - val_yA_loss: 8.3201e-12 - val_yB_loss: 1.4478e-12\n",
      "Epoch 78/200\n",
      "100/100 [==============================] - 0s 1ms/step - loss: 7.6368e-12 - yA_loss: 6.1552e-12 - yB_loss: 1.4816e-12 - val_loss: 6.6363e-12 - val_yA_loss: 5.1884e-12 - val_yB_loss: 1.4478e-12\n",
      "Epoch 79/200\n",
      "100/100 [==============================] - 0s 2ms/step - loss: 6.6763e-12 - yA_loss: 5.3358e-12 - yB_loss: 1.3404e-12 - val_loss: 6.0617e-12 - val_yA_loss: 5.1884e-12 - val_yB_loss: 8.7323e-13\n",
      "Epoch 80/200\n",
      "100/100 [==============================] - 0s 2ms/step - loss: 6.1067e-12 - yA_loss: 5.2356e-12 - yB_loss: 8.7108e-13 - val_loss: 5.8559e-12 - val_yA_loss: 5.0212e-12 - val_yB_loss: 8.3476e-13\n",
      "Epoch 81/200\n",
      "100/100 [==============================] - 0s 1ms/step - loss: 5.9760e-12 - yA_loss: 5.1196e-12 - yB_loss: 8.5641e-13 - val_loss: 5.7060e-12 - val_yA_loss: 4.8713e-12 - val_yB_loss: 8.3476e-13\n",
      "Epoch 82/200\n",
      "100/100 [==============================] - 0s 1ms/step - loss: 5.1622e-12 - yA_loss: 4.3058e-12 - yB_loss: 8.5641e-13 - val_loss: 4.9375e-12 - val_yA_loss: 4.1028e-12 - val_yB_loss: 8.3476e-13\n",
      "Epoch 83/200\n",
      "100/100 [==============================] - 0s 1ms/step - loss: 5.0047e-12 - yA_loss: 4.1483e-12 - yB_loss: 8.5641e-13 - val_loss: 4.3922e-12 - val_yA_loss: 3.5575e-12 - val_yB_loss: 8.3476e-13\n",
      "Epoch 84/200\n",
      "100/100 [==============================] - 0s 1ms/step - loss: 4.2929e-12 - yA_loss: 3.4617e-12 - yB_loss: 8.3125e-13 - val_loss: 3.5725e-12 - val_yA_loss: 2.8085e-12 - val_yB_loss: 7.6400e-13\n",
      "Epoch 85/200\n",
      "100/100 [==============================] - 0s 1ms/step - loss: 3.6344e-12 - yA_loss: 2.8407e-12 - yB_loss: 7.9371e-13 - val_loss: 3.4222e-12 - val_yA_loss: 2.8085e-12 - val_yB_loss: 6.1364e-13\n",
      "Epoch 86/200\n",
      "100/100 [==============================] - 0s 1ms/step - loss: 3.4634e-12 - yA_loss: 2.8407e-12 - yB_loss: 6.2268e-13 - val_loss: 3.4222e-12 - val_yA_loss: 2.8085e-12 - val_yB_loss: 6.1364e-13\n",
      "Epoch 87/200\n",
      "100/100 [==============================] - 0s 1ms/step - loss: 3.4161e-12 - yA_loss: 2.7934e-12 - yB_loss: 6.2268e-13 - val_loss: 3.2938e-12 - val_yA_loss: 2.6801e-12 - val_yB_loss: 6.1364e-13\n",
      "Epoch 88/200\n",
      "100/100 [==============================] - 0s 1ms/step - loss: 2.9225e-12 - yA_loss: 2.3022e-12 - yB_loss: 6.2023e-13 - val_loss: 2.3885e-12 - val_yA_loss: 1.9193e-12 - val_yB_loss: 4.6922e-13\n",
      "Epoch 89/200\n",
      "100/100 [==============================] - 0s 1ms/step - loss: 2.4550e-12 - yA_loss: 1.9554e-12 - yB_loss: 4.9963e-13 - val_loss: 2.2857e-12 - val_yA_loss: 1.9193e-12 - val_yB_loss: 3.6643e-13\n",
      "Epoch 90/200\n",
      "100/100 [==============================] - 0s 1ms/step - loss: 2.3287e-12 - yA_loss: 1.9554e-12 - yB_loss: 3.7329e-13 - val_loss: 2.2857e-12 - val_yA_loss: 1.9193e-12 - val_yB_loss: 3.6643e-13\n",
      "Epoch 91/200\n",
      "100/100 [==============================] - 0s 1ms/step - loss: 2.3077e-12 - yA_loss: 1.9344e-12 - yB_loss: 3.7329e-13 - val_loss: 2.1787e-12 - val_yA_loss: 1.8122e-12 - val_yB_loss: 3.6643e-13\n",
      "Epoch 92/200\n",
      "100/100 [==============================] - 0s 1ms/step - loss: 1.9706e-12 - yA_loss: 1.6046e-12 - yB_loss: 3.6596e-13 - val_loss: 1.3390e-12 - val_yA_loss: 1.0361e-12 - val_yB_loss: 3.0284e-13\n",
      "Epoch 93/200\n",
      "100/100 [==============================] - 0s 1ms/step - loss: 1.2987e-12 - yA_loss: 1.0258e-12 - yB_loss: 2.7291e-13 - val_loss: 1.2721e-12 - val_yA_loss: 1.0361e-12 - val_yB_loss: 2.3601e-13\n",
      "Epoch 94/200\n",
      "100/100 [==============================] - 0s 1ms/step - loss: 1.2754e-12 - yA_loss: 1.0258e-12 - yB_loss: 2.4965e-13 - val_loss: 1.2721e-12 - val_yA_loss: 1.0361e-12 - val_yB_loss: 2.3601e-13\n",
      "Epoch 95/200\n",
      "100/100 [==============================] - 0s 1ms/step - loss: 1.2754e-12 - yA_loss: 1.0258e-12 - yB_loss: 2.4965e-13 - val_loss: 1.2721e-12 - val_yA_loss: 1.0361e-12 - val_yB_loss: 2.3601e-13\n",
      "Epoch 96/200\n",
      "100/100 [==============================] - 0s 1ms/step - loss: 1.1722e-12 - yA_loss: 9.2257e-13 - yB_loss: 2.4965e-13 - val_loss: 1.0996e-12 - val_yA_loss: 8.6356e-13 - val_yB_loss: 2.3601e-13\n",
      "Epoch 97/200\n",
      "100/100 [==============================] - 0s 1ms/step - loss: 1.0747e-12 - yA_loss: 8.7989e-13 - yB_loss: 1.9480e-13 - val_loss: 9.5926e-13 - val_yA_loss: 8.6356e-13 - val_yB_loss: 9.5699e-14\n",
      "Epoch 98/200\n",
      "100/100 [==============================] - 0s 1ms/step - loss: 8.9490e-13 - yA_loss: 7.9536e-13 - yB_loss: 9.9532e-14 - val_loss: 6.6401e-13 - val_yA_loss: 5.6831e-13 - val_yB_loss: 9.5699e-14\n",
      "Epoch 99/200\n",
      "100/100 [==============================] - 0s 1ms/step - loss: 6.6751e-13 - yA_loss: 5.6798e-13 - yB_loss: 9.9532e-14 - val_loss: 6.6401e-13 - val_yA_loss: 5.6831e-13 - val_yB_loss: 9.5699e-14\n",
      "Epoch 100/200\n",
      "100/100 [==============================] - 0s 1ms/step - loss: 6.6751e-13 - yA_loss: 5.6798e-13 - yB_loss: 9.9532e-14 - val_loss: 6.6401e-13 - val_yA_loss: 5.6831e-13 - val_yB_loss: 9.5699e-14\n",
      "Epoch 101/200\n",
      "100/100 [==============================] - 0s 1ms/step - loss: 6.6751e-13 - yA_loss: 5.6798e-13 - yB_loss: 9.9532e-14 - val_loss: 6.6401e-13 - val_yA_loss: 5.6831e-13 - val_yB_loss: 9.5699e-14\n",
      "Epoch 102/200\n",
      "100/100 [==============================] - 0s 2ms/step - loss: 6.2814e-13 - yA_loss: 5.2861e-13 - yB_loss: 9.9532e-14 - val_loss: 5.5908e-13 - val_yA_loss: 4.6338e-13 - val_yB_loss: 9.5699e-14\n",
      "Epoch 103/200\n",
      "100/100 [==============================] - 0s 1ms/step - loss: 5.7135e-13 - yA_loss: 4.7182e-13 - yB_loss: 9.9532e-14 - val_loss: 5.5908e-13 - val_yA_loss: 4.6338e-13 - val_yB_loss: 9.5699e-14\n",
      "Epoch 104/200\n",
      "100/100 [==============================] - 0s 1ms/step - loss: 5.3278e-13 - yA_loss: 4.3325e-13 - yB_loss: 9.9532e-14 - val_loss: 5.0974e-13 - val_yA_loss: 4.1404e-13 - val_yB_loss: 9.5699e-14\n",
      "Epoch 105/200\n",
      "100/100 [==============================] - 0s 1ms/step - loss: 5.1600e-13 - yA_loss: 4.1647e-13 - yB_loss: 9.9532e-14 - val_loss: 5.0974e-13 - val_yA_loss: 4.1404e-13 - val_yB_loss: 9.5699e-14\n",
      "Epoch 106/200\n",
      "100/100 [==============================] - 0s 1ms/step - loss: 5.1600e-13 - yA_loss: 4.1647e-13 - yB_loss: 9.9532e-14 - val_loss: 5.0974e-13 - val_yA_loss: 4.1404e-13 - val_yB_loss: 9.5699e-14\n",
      "Epoch 107/200\n",
      "100/100 [==============================] - 0s 2ms/step - loss: 4.6827e-13 - yA_loss: 4.1647e-13 - yB_loss: 5.1804e-14 - val_loss: 4.5344e-13 - val_yA_loss: 4.1404e-13 - val_yB_loss: 3.9399e-14\n",
      "Epoch 108/200\n",
      "100/100 [==============================] - 0s 2ms/step - loss: 3.2967e-13 - yA_loss: 2.8598e-13 - yB_loss: 4.3694e-14 - val_loss: 2.5703e-13 - val_yA_loss: 2.1763e-13 - val_yB_loss: 3.9399e-14\n",
      "Epoch 109/200\n",
      "100/100 [==============================] - 0s 1ms/step - loss: 2.6752e-13 - yA_loss: 2.2382e-13 - yB_loss: 4.3694e-14 - val_loss: 2.5703e-13 - val_yA_loss: 2.1763e-13 - val_yB_loss: 3.9399e-14\n",
      "Epoch 110/200\n",
      "100/100 [==============================] - 0s 1ms/step - loss: 2.6752e-13 - yA_loss: 2.2382e-13 - yB_loss: 4.3694e-14 - val_loss: 2.5703e-13 - val_yA_loss: 2.1763e-13 - val_yB_loss: 3.9399e-14\n",
      "Epoch 111/200\n",
      "100/100 [==============================] - 0s 1ms/step - loss: 2.5976e-13 - yA_loss: 2.1607e-13 - yB_loss: 4.3694e-14 - val_loss: 2.2541e-13 - val_yA_loss: 1.8601e-13 - val_yB_loss: 3.9399e-14\n",
      "Epoch 112/200\n",
      "100/100 [==============================] - 0s 1ms/step - loss: 2.3550e-13 - yA_loss: 1.9181e-13 - yB_loss: 4.3694e-14 - val_loss: 2.2541e-13 - val_yA_loss: 1.8601e-13 - val_yB_loss: 3.9399e-14\n",
      "Epoch 113/200\n",
      "100/100 [==============================] - 0s 1ms/step - loss: 1.8537e-13 - yA_loss: 1.4168e-13 - yB_loss: 4.3694e-14 - val_loss: 1.4846e-13 - val_yA_loss: 1.0906e-13 - val_yB_loss: 3.9399e-14\n",
      "Epoch 114/200\n",
      "100/100 [==============================] - 0s 1ms/step - loss: 1.4311e-13 - yA_loss: 1.0699e-13 - yB_loss: 3.6127e-14 - val_loss: 1.3247e-13 - val_yA_loss: 1.0906e-13 - val_yB_loss: 2.3405e-14\n",
      "Epoch 115/200\n",
      "100/100 [==============================] - 0s 1ms/step - loss: 1.3410e-13 - yA_loss: 1.0699e-13 - yB_loss: 2.7109e-14 - val_loss: 1.3247e-13 - val_yA_loss: 1.0906e-13 - val_yB_loss: 2.3405e-14\n",
      "Epoch 116/200\n",
      "100/100 [==============================] - 0s 1ms/step - loss: 1.3410e-13 - yA_loss: 1.0699e-13 - yB_loss: 2.7109e-14 - val_loss: 1.3247e-13 - val_yA_loss: 1.0906e-13 - val_yB_loss: 2.3405e-14\n",
      "Epoch 117/200\n",
      "100/100 [==============================] - 0s 1ms/step - loss: 1.3410e-13 - yA_loss: 1.0699e-13 - yB_loss: 2.7109e-14 - val_loss: 1.3247e-13 - val_yA_loss: 1.0906e-13 - val_yB_loss: 2.3405e-14\n",
      "Epoch 118/200\n",
      "100/100 [==============================] - 0s 2ms/step - loss: 1.3410e-13 - yA_loss: 1.0699e-13 - yB_loss: 2.7109e-14 - val_loss: 1.3247e-13 - val_yA_loss: 1.0906e-13 - val_yB_loss: 2.3405e-14\n",
      "Epoch 119/200\n",
      "100/100 [==============================] - 0s 2ms/step - loss: 1.3410e-13 - yA_loss: 1.0699e-13 - yB_loss: 2.7109e-14 - val_loss: 1.3247e-13 - val_yA_loss: 1.0906e-13 - val_yB_loss: 2.3405e-14\n",
      "Epoch 120/200\n",
      "100/100 [==============================] - 0s 2ms/step - loss: 1.3409e-13 - yA_loss: 1.0699e-13 - yB_loss: 2.7109e-14 - val_loss: 1.1197e-13 - val_yA_loss: 8.8566e-14 - val_yB_loss: 2.3405e-14\n",
      "Epoch 121/200\n",
      "100/100 [==============================] - 0s 1ms/step - loss: 1.0310e-13 - yA_loss: 8.5414e-14 - yB_loss: 1.7690e-14 - val_loss: 7.6677e-14 - val_yA_loss: 7.2214e-14 - val_yB_loss: 4.4627e-15\n",
      "Epoch 122/200\n",
      "100/100 [==============================] - 0s 2ms/step - loss: 8.0183e-14 - yA_loss: 7.4724e-14 - yB_loss: 5.4589e-15 - val_loss: 7.6677e-14 - val_yA_loss: 7.2214e-14 - val_yB_loss: 4.4627e-15\n",
      "Epoch 123/200\n",
      "100/100 [==============================] - 0s 2ms/step - loss: 3.6304e-14 - yA_loss: 3.0845e-14 - yB_loss: 5.4589e-15 - val_loss: 2.8618e-14 - val_yA_loss: 2.4155e-14 - val_yB_loss: 4.4627e-15\n",
      "Epoch 124/200\n",
      "100/100 [==============================] - 0s 2ms/step - loss: 3.2634e-14 - yA_loss: 2.7176e-14 - yB_loss: 5.4589e-15 - val_loss: 2.8618e-14 - val_yA_loss: 2.4155e-14 - val_yB_loss: 4.4627e-15\n"
     ]
    },
    {
     "name": "stdout",
     "output_type": "stream",
     "text": [
      "Epoch 125/200\n",
      "100/100 [==============================] - 0s 1ms/step - loss: 3.2634e-14 - yA_loss: 2.7176e-14 - yB_loss: 5.4589e-15 - val_loss: 2.8618e-14 - val_yA_loss: 2.4155e-14 - val_yB_loss: 4.4627e-15\n",
      "Epoch 126/200\n",
      "100/100 [==============================] - 0s 1ms/step - loss: 3.2634e-14 - yA_loss: 2.7176e-14 - yB_loss: 5.4589e-15 - val_loss: 2.8618e-14 - val_yA_loss: 2.4155e-14 - val_yB_loss: 4.4627e-15\n",
      "Epoch 127/200\n",
      "100/100 [==============================] - 0s 2ms/step - loss: 3.2634e-14 - yA_loss: 2.7176e-14 - yB_loss: 5.4589e-15 - val_loss: 2.8618e-14 - val_yA_loss: 2.4155e-14 - val_yB_loss: 4.4627e-15\n",
      "Epoch 128/200\n",
      "100/100 [==============================] - 0s 1ms/step - loss: 3.2634e-14 - yA_loss: 2.7176e-14 - yB_loss: 5.4589e-15 - val_loss: 2.8618e-14 - val_yA_loss: 2.4155e-14 - val_yB_loss: 4.4627e-15\n",
      "Epoch 129/200\n",
      "100/100 [==============================] - 0s 2ms/step - loss: 3.2634e-14 - yA_loss: 2.7176e-14 - yB_loss: 5.4589e-15 - val_loss: 2.8618e-14 - val_yA_loss: 2.4155e-14 - val_yB_loss: 4.4627e-15\n",
      "Epoch 130/200\n",
      "100/100 [==============================] - 0s 2ms/step - loss: 3.2634e-14 - yA_loss: 2.7176e-14 - yB_loss: 5.4589e-15 - val_loss: 2.8618e-14 - val_yA_loss: 2.4155e-14 - val_yB_loss: 4.4627e-15\n",
      "Epoch 131/200\n",
      "100/100 [==============================] - 0s 2ms/step - loss: 3.2634e-14 - yA_loss: 2.7176e-14 - yB_loss: 5.4589e-15 - val_loss: 2.8618e-14 - val_yA_loss: 2.4155e-14 - val_yB_loss: 4.4627e-15\n",
      "Epoch 132/200\n",
      "100/100 [==============================] - 0s 2ms/step - loss: 3.2634e-14 - yA_loss: 2.7176e-14 - yB_loss: 5.4589e-15 - val_loss: 2.8618e-14 - val_yA_loss: 2.4155e-14 - val_yB_loss: 4.4627e-15\n",
      "Epoch 133/200\n",
      "100/100 [==============================] - 0s 2ms/step - loss: 2.6658e-14 - yA_loss: 2.1199e-14 - yB_loss: 5.4589e-15 - val_loss: 1.1249e-14 - val_yA_loss: 6.7866e-15 - val_yB_loss: 4.4627e-15\n",
      "Epoch 134/200\n",
      "100/100 [==============================] - 0s 2ms/step - loss: 1.3547e-14 - yA_loss: 8.0876e-15 - yB_loss: 5.4589e-15 - val_loss: 1.1249e-14 - val_yA_loss: 6.7866e-15 - val_yB_loss: 4.4627e-15\n",
      "Epoch 135/200\n",
      "100/100 [==============================] - 0s 2ms/step - loss: 1.3547e-14 - yA_loss: 8.0876e-15 - yB_loss: 5.4589e-15 - val_loss: 1.1249e-14 - val_yA_loss: 6.7866e-15 - val_yB_loss: 4.4627e-15\n",
      "Epoch 136/200\n",
      "100/100 [==============================] - 0s 2ms/step - loss: 1.3547e-14 - yA_loss: 8.0876e-15 - yB_loss: 5.4589e-15 - val_loss: 1.1249e-14 - val_yA_loss: 6.7866e-15 - val_yB_loss: 4.4627e-15\n",
      "Epoch 137/200\n",
      "100/100 [==============================] - 0s 2ms/step - loss: 1.3547e-14 - yA_loss: 8.0876e-15 - yB_loss: 5.4589e-15 - val_loss: 1.1249e-14 - val_yA_loss: 6.7866e-15 - val_yB_loss: 4.4627e-15\n",
      "Epoch 138/200\n",
      "100/100 [==============================] - 0s 2ms/step - loss: 1.3547e-14 - yA_loss: 8.0876e-15 - yB_loss: 5.4589e-15 - val_loss: 1.1249e-14 - val_yA_loss: 6.7866e-15 - val_yB_loss: 4.4627e-15\n",
      "Epoch 139/200\n",
      "100/100 [==============================] - 0s 2ms/step - loss: 1.3547e-14 - yA_loss: 8.0876e-15 - yB_loss: 5.4589e-15 - val_loss: 1.1249e-14 - val_yA_loss: 6.7866e-15 - val_yB_loss: 4.4627e-15\n",
      "Epoch 140/200\n",
      "100/100 [==============================] - 0s 3ms/step - loss: 1.3547e-14 - yA_loss: 8.0876e-15 - yB_loss: 5.4589e-15 - val_loss: 1.1249e-14 - val_yA_loss: 6.7866e-15 - val_yB_loss: 4.4627e-15\n",
      "Epoch 141/200\n",
      "100/100 [==============================] - 0s 2ms/step - loss: 1.3547e-14 - yA_loss: 8.0876e-15 - yB_loss: 5.4589e-15 - val_loss: 1.1249e-14 - val_yA_loss: 6.7866e-15 - val_yB_loss: 4.4627e-15\n",
      "Epoch 142/200\n",
      "100/100 [==============================] - 0s 2ms/step - loss: 1.3547e-14 - yA_loss: 8.0876e-15 - yB_loss: 5.4589e-15 - val_loss: 1.1249e-14 - val_yA_loss: 6.7866e-15 - val_yB_loss: 4.4627e-15\n",
      "Epoch 143/200\n",
      "100/100 [==============================] - 0s 2ms/step - loss: 1.3547e-14 - yA_loss: 8.0876e-15 - yB_loss: 5.4589e-15 - val_loss: 1.1249e-14 - val_yA_loss: 6.7866e-15 - val_yB_loss: 4.4627e-15\n",
      "Epoch 144/200\n",
      "100/100 [==============================] - 0s 2ms/step - loss: 1.3547e-14 - yA_loss: 8.0876e-15 - yB_loss: 5.4589e-15 - val_loss: 1.1249e-14 - val_yA_loss: 6.7866e-15 - val_yB_loss: 4.4627e-15\n",
      "Epoch 145/200\n",
      "100/100 [==============================] - 0s 2ms/step - loss: 1.3547e-14 - yA_loss: 8.0876e-15 - yB_loss: 5.4589e-15 - val_loss: 1.1249e-14 - val_yA_loss: 6.7866e-15 - val_yB_loss: 4.4627e-15\n",
      "Epoch 146/200\n",
      "100/100 [==============================] - 1s 5ms/step - loss: 1.3620e-14 - yA_loss: 8.0876e-15 - yB_loss: 5.5322e-15 - val_loss: 1.1249e-14 - val_yA_loss: 6.7866e-15 - val_yB_loss: 4.4627e-15\n",
      "Epoch 147/200\n",
      "100/100 [==============================] - 0s 2ms/step - loss: 1.3547e-14 - yA_loss: 8.0876e-15 - yB_loss: 5.4589e-15 - val_loss: 1.1249e-14 - val_yA_loss: 6.7866e-15 - val_yB_loss: 4.4627e-15\n",
      "Epoch 148/200\n",
      "100/100 [==============================] - 0s 2ms/step - loss: 1.3547e-14 - yA_loss: 8.0876e-15 - yB_loss: 5.4589e-15 - val_loss: 1.1249e-14 - val_yA_loss: 6.7866e-15 - val_yB_loss: 4.4627e-15\n",
      "Epoch 149/200\n",
      "100/100 [==============================] - 0s 3ms/step - loss: 9.4688e-15 - yA_loss: 4.0099e-15 - yB_loss: 5.4589e-15 - val_loss: 6.8484e-15 - val_yA_loss: 2.3857e-15 - val_yB_loss: 4.4627e-15\n",
      "Epoch 150/200\n",
      "100/100 [==============================] - 0s 2ms/step - loss: 8.1188e-15 - yA_loss: 2.6598e-15 - yB_loss: 5.4589e-15 - val_loss: 6.8484e-15 - val_yA_loss: 2.3857e-15 - val_yB_loss: 4.4627e-15\n",
      "Epoch 151/200\n",
      "100/100 [==============================] - 0s 2ms/step - loss: 8.3469e-15 - yA_loss: 2.6598e-15 - yB_loss: 5.6871e-15 - val_loss: 6.8484e-15 - val_yA_loss: 2.3857e-15 - val_yB_loss: 4.4627e-15\n",
      "Epoch 152/200\n",
      "100/100 [==============================] - 0s 2ms/step - loss: 8.1188e-15 - yA_loss: 2.6598e-15 - yB_loss: 5.4589e-15 - val_loss: 6.8484e-15 - val_yA_loss: 2.3857e-15 - val_yB_loss: 4.4627e-15\n",
      "Epoch 153/200\n",
      "100/100 [==============================] - 0s 2ms/step - loss: 8.4169e-15 - yA_loss: 2.6598e-15 - yB_loss: 5.7570e-15 - val_loss: 6.8484e-15 - val_yA_loss: 2.3857e-15 - val_yB_loss: 4.4627e-15\n",
      "Epoch 154/200\n",
      "100/100 [==============================] - 0s 2ms/step - loss: 8.1188e-15 - yA_loss: 2.6598e-15 - yB_loss: 5.4589e-15 - val_loss: 6.8484e-15 - val_yA_loss: 2.3857e-15 - val_yB_loss: 4.4627e-15\n",
      "Epoch 155/200\n",
      "100/100 [==============================] - 0s 2ms/step - loss: 8.3450e-15 - yA_loss: 2.6598e-15 - yB_loss: 5.6851e-15 - val_loss: 6.8484e-15 - val_yA_loss: 2.3857e-15 - val_yB_loss: 4.4627e-15\n",
      "Epoch 156/200\n",
      "100/100 [==============================] - 0s 2ms/step - loss: 8.3755e-15 - yA_loss: 2.6598e-15 - yB_loss: 5.7157e-15 - val_loss: 6.8484e-15 - val_yA_loss: 2.3857e-15 - val_yB_loss: 4.4627e-15\n",
      "Epoch 157/200\n",
      "100/100 [==============================] - 0s 2ms/step - loss: 8.1188e-15 - yA_loss: 2.6598e-15 - yB_loss: 5.4589e-15 - val_loss: 6.8484e-15 - val_yA_loss: 2.3857e-15 - val_yB_loss: 4.4627e-15\n",
      "Epoch 158/200\n",
      "100/100 [==============================] - 0s 2ms/step - loss: 8.4632e-15 - yA_loss: 2.6598e-15 - yB_loss: 5.8034e-15 - val_loss: 6.8484e-15 - val_yA_loss: 2.3857e-15 - val_yB_loss: 4.4627e-15\n",
      "Epoch 159/200\n",
      "100/100 [==============================] - 0s 2ms/step - loss: 8.4491e-15 - yA_loss: 2.8122e-15 - yB_loss: 5.6369e-15 - val_loss: 6.8484e-15 - val_yA_loss: 2.3857e-15 - val_yB_loss: 4.4627e-15\n",
      "Epoch 160/200\n",
      "100/100 [==============================] - 0s 3ms/step - loss: 8.1188e-15 - yA_loss: 2.6598e-15 - yB_loss: 5.4589e-15 - val_loss: 6.8484e-15 - val_yA_loss: 2.3857e-15 - val_yB_loss: 4.4627e-15\n",
      "Epoch 161/200\n",
      "100/100 [==============================] - 0s 2ms/step - loss: 9.1607e-15 - yA_loss: 2.6598e-15 - yB_loss: 6.5009e-15 - val_loss: 6.8484e-15 - val_yA_loss: 2.3857e-15 - val_yB_loss: 4.4627e-15\n",
      "Epoch 162/200\n",
      "100/100 [==============================] - 0s 2ms/step - loss: 9.2681e-15 - yA_loss: 2.6598e-15 - yB_loss: 6.6083e-15 - val_loss: 6.8484e-15 - val_yA_loss: 2.3857e-15 - val_yB_loss: 4.4627e-15\n",
      "Epoch 163/200\n",
      "100/100 [==============================] - 0s 4ms/step - loss: 8.1343e-15 - yA_loss: 2.6598e-15 - yB_loss: 5.4745e-15 - val_loss: 6.8484e-15 - val_yA_loss: 2.3857e-15 - val_yB_loss: 4.4627e-15\n",
      "Epoch 164/200\n",
      "100/100 [==============================] - 0s 3ms/step - loss: 8.8055e-15 - yA_loss: 2.6598e-15 - yB_loss: 6.1456e-15 - val_loss: 6.8484e-15 - val_yA_loss: 2.3857e-15 - val_yB_loss: 4.4627e-15\n",
      "Epoch 165/200\n",
      "100/100 [==============================] - 0s 2ms/step - loss: 9.0845e-15 - yA_loss: 2.6598e-15 - yB_loss: 6.4246e-15 - val_loss: 2.2041e-14 - val_yA_loss: 2.3857e-15 - val_yB_loss: 1.9655e-14\n",
      "Epoch 166/200\n",
      "100/100 [==============================] - 0s 2ms/step - loss: 1.5628e-14 - yA_loss: 2.6598e-15 - yB_loss: 1.2968e-14 - val_loss: 6.8484e-15 - val_yA_loss: 2.3857e-15 - val_yB_loss: 4.4627e-15\n",
      "Epoch 167/200\n",
      "100/100 [==============================] - 0s 5ms/step - loss: 1.8956e-14 - yA_loss: 2.8375e-15 - yB_loss: 1.6118e-14 - val_loss: 6.8484e-15 - val_yA_loss: 2.3857e-15 - val_yB_loss: 4.4627e-15\n",
      "Epoch 168/200\n",
      "100/100 [==============================] - 0s 4ms/step - loss: 9.3878e-15 - yA_loss: 2.6598e-15 - yB_loss: 6.7279e-15 - val_loss: 6.8484e-15 - val_yA_loss: 2.3857e-15 - val_yB_loss: 4.4627e-15\n",
      "Epoch 169/200\n",
      "100/100 [==============================] - 0s 3ms/step - loss: 8.7277e-15 - yA_loss: 2.6598e-15 - yB_loss: 6.0679e-15 - val_loss: 9.7372e-15 - val_yA_loss: 2.3857e-15 - val_yB_loss: 7.3515e-15\n",
      "Epoch 170/200\n",
      "100/100 [==============================] - 0s 2ms/step - loss: 1.3338e-14 - yA_loss: 2.7692e-15 - yB_loss: 1.0569e-14 - val_loss: 6.8484e-15 - val_yA_loss: 2.3857e-15 - val_yB_loss: 4.4627e-15\n",
      "Epoch 171/200\n",
      "100/100 [==============================] - 0s 2ms/step - loss: 1.2565e-14 - yA_loss: 2.7476e-15 - yB_loss: 9.8177e-15 - val_loss: 1.1949e-14 - val_yA_loss: 7.4860e-15 - val_yB_loss: 4.4627e-15\n",
      "Epoch 172/200\n",
      "100/100 [==============================] - 0s 2ms/step - loss: 1.8356e-14 - yA_loss: 2.6376e-15 - yB_loss: 1.5718e-14 - val_loss: 6.8484e-15 - val_yA_loss: 2.3857e-15 - val_yB_loss: 4.4627e-15\n",
      "Epoch 173/200\n",
      "100/100 [==============================] - 0s 2ms/step - loss: 3.9066e-14 - yA_loss: 2.8053e-15 - yB_loss: 3.6261e-14 - val_loss: 4.1785e-14 - val_yA_loss: 2.3857e-15 - val_yB_loss: 3.9399e-14\n",
      "Epoch 174/200\n",
      "100/100 [==============================] - 0s 3ms/step - loss: 8.3197e-14 - yA_loss: 2.7875e-15 - yB_loss: 8.0409e-14 - val_loss: 4.0195e-14 - val_yA_loss: 2.3857e-15 - val_yB_loss: 3.7809e-14\n",
      "Epoch 175/200\n",
      "100/100 [==============================] - 0s 2ms/step - loss: 8.0910e-14 - yA_loss: 2.8286e-15 - yB_loss: 7.8081e-14 - val_loss: 2.7073e-13 - val_yA_loss: 2.3857e-15 - val_yB_loss: 2.6835e-13\n",
      "Epoch 176/200\n",
      "100/100 [==============================] - 0s 3ms/step - loss: 2.8935e-13 - yA_loss: 2.8294e-15 - yB_loss: 2.8652e-13 - val_loss: 3.8710e-13 - val_yA_loss: 2.3857e-15 - val_yB_loss: 3.8472e-13\n",
      "Epoch 177/200\n",
      "100/100 [==============================] - 0s 2ms/step - loss: 7.7888e-14 - yA_loss: 2.7997e-15 - yB_loss: 7.5088e-14 - val_loss: 2.2494e-14 - val_yA_loss: 2.3857e-15 - val_yB_loss: 2.0108e-14\n",
      "Epoch 178/200\n",
      "100/100 [==============================] - 0s 1ms/step - loss: 2.9152e-13 - yA_loss: 5.4293e-15 - yB_loss: 2.8609e-13 - val_loss: 3.8687e-13 - val_yA_loss: 7.4860e-15 - val_yB_loss: 3.7939e-13\n",
      "Epoch 179/200\n",
      "100/100 [==============================] - 0s 2ms/step - loss: 1.2753e-13 - yA_loss: 4.8994e-15 - yB_loss: 1.2263e-13 - val_loss: 4.0195e-14 - val_yA_loss: 2.3857e-15 - val_yB_loss: 3.7809e-14\n",
      "Epoch 180/200\n",
      "100/100 [==============================] - 0s 2ms/step - loss: 1.3906e-13 - yA_loss: 5.8266e-15 - yB_loss: 1.3324e-13 - val_loss: 2.2494e-14 - val_yA_loss: 2.3857e-15 - val_yB_loss: 2.0108e-14\n",
      "Epoch 181/200\n",
      "100/100 [==============================] - 0s 2ms/step - loss: 1.6026e-12 - yA_loss: 7.4672e-15 - yB_loss: 1.5952e-12 - val_loss: 1.6066e-13 - val_yA_loss: 1.6281e-14 - val_yB_loss: 1.4438e-13\n",
      "Epoch 182/200\n",
      "100/100 [==============================] - 0s 1ms/step - loss: 1.2557e-12 - yA_loss: 8.5525e-15 - yB_loss: 1.2472e-12 - val_loss: 1.6722e-12 - val_yA_loss: 2.3857e-15 - val_yB_loss: 1.6698e-12\n",
      "Epoch 183/200\n",
      "100/100 [==============================] - 0s 2ms/step - loss: 5.1667e-12 - yA_loss: 3.6489e-15 - yB_loss: 5.1630e-12 - val_loss: 1.0988e-12 - val_yA_loss: 2.3857e-15 - val_yB_loss: 1.0964e-12\n",
      "Epoch 184/200\n",
      "100/100 [==============================] - 0s 2ms/step - loss: 8.6219e-13 - yA_loss: 4.4569e-15 - yB_loss: 8.5774e-13 - val_loss: 2.4807e-13 - val_yA_loss: 2.3857e-15 - val_yB_loss: 2.4569e-13\n",
      "Epoch 185/200\n",
      "100/100 [==============================] - 0s 2ms/step - loss: 1.3070e-12 - yA_loss: 5.9883e-15 - yB_loss: 1.3010e-12 - val_loss: 1.4274e-12 - val_yA_loss: 2.3857e-15 - val_yB_loss: 1.4251e-12\n",
      "Epoch 186/200\n",
      "100/100 [==============================] - 0s 3ms/step - loss: 5.4619e-11 - yA_loss: 7.6726e-15 - yB_loss: 5.4611e-11 - val_loss: 1.6583e-11 - val_yA_loss: 2.3857e-15 - val_yB_loss: 1.6581e-11\n",
      "Epoch 187/200\n",
      "100/100 [==============================] - 0s 4ms/step - loss: 3.1856e-11 - yA_loss: 1.2775e-14 - yB_loss: 3.1843e-11 - val_loss: 1.9900e-11 - val_yA_loss: 2.3857e-15 - val_yB_loss: 1.9897e-11\n",
      "Epoch 188/200\n",
      "100/100 [==============================] - 0s 3ms/step - loss: 2.7501e-09 - yA_loss: 5.8484e-15 - yB_loss: 2.7501e-09 - val_loss: 7.2449e-11 - val_yA_loss: 2.3857e-15 - val_yB_loss: 7.2447e-11\n",
      "Epoch 189/200\n",
      "100/100 [==============================] - 0s 3ms/step - loss: 6.7355e-08 - yA_loss: 5.8071e-15 - yB_loss: 6.7355e-08 - val_loss: 3.3563e-09 - val_yA_loss: 2.3857e-15 - val_yB_loss: 3.3563e-09\n",
      "Epoch 190/200\n",
      "100/100 [==============================] - 0s 2ms/step - loss: 8.2429e-09 - yA_loss: 1.1019e-14 - yB_loss: 8.2429e-09 - val_loss: 5.0610e-08 - val_yA_loss: 4.0553e-14 - val_yB_loss: 5.0610e-08\n",
      "Epoch 191/200\n",
      "100/100 [==============================] - 0s 2ms/step - loss: 1.2147e-07 - yA_loss: 2.0216e-14 - yB_loss: 1.2147e-07 - val_loss: 2.9358e-08 - val_yA_loss: 6.4935e-15 - val_yB_loss: 2.9358e-08\n",
      "Epoch 192/200\n",
      "100/100 [==============================] - 0s 2ms/step - loss: 1.9976e-08 - yA_loss: 1.7049e-14 - yB_loss: 1.9976e-08 - val_loss: 1.8553e-08 - val_yA_loss: 1.4420e-14 - val_yB_loss: 1.8553e-08\n",
      "Epoch 193/200\n",
      "100/100 [==============================] - 0s 2ms/step - loss: 2.4763e-09 - yA_loss: 3.5008e-14 - yB_loss: 2.4762e-09 - val_loss: 8.2432e-14 - val_yA_loss: 2.3231e-14 - val_yB_loss: 5.9201e-14\n",
      "Epoch 194/200\n",
      "100/100 [==============================] - 0s 2ms/step - loss: 4.0803e-13 - yA_loss: 6.8572e-14 - yB_loss: 3.3946e-13 - val_loss: 3.6898e-13 - val_yA_loss: 3.1662e-13 - val_yB_loss: 5.2362e-14\n",
      "Epoch 195/200\n",
      "100/100 [==============================] - 0s 2ms/step - loss: 3.1719e-13 - yA_loss: 8.1409e-14 - yB_loss: 2.3579e-13 - val_loss: 1.6675e-13 - val_yA_loss: 6.4935e-15 - val_yB_loss: 1.6025e-13\n",
      "Epoch 196/200\n",
      "100/100 [==============================] - 0s 2ms/step - loss: 3.8733e-13 - yA_loss: 3.3529e-14 - yB_loss: 3.5380e-13 - val_loss: 6.4380e-14 - val_yA_loss: 5.1790e-15 - val_yB_loss: 5.9201e-14\n",
      "Epoch 197/200\n",
      "100/100 [==============================] - 0s 2ms/step - loss: 1.9148e-13 - yA_loss: 4.1481e-14 - yB_loss: 1.5000e-13 - val_loss: 2.2798e-13 - val_yA_loss: 7.2214e-14 - val_yB_loss: 1.5576e-13\n",
      "Epoch 198/200\n",
      "100/100 [==============================] - 0s 2ms/step - loss: 5.9242e-12 - yA_loss: 3.1272e-14 - yB_loss: 5.8929e-12 - val_loss: 9.5607e-11 - val_yA_loss: 2.0398e-14 - val_yB_loss: 9.5587e-11\n",
      "Epoch 199/200\n",
      "100/100 [==============================] - 0s 2ms/step - loss: 1.0013e-11 - yA_loss: 7.7152e-14 - yB_loss: 9.9360e-12 - val_loss: 6.9622e-12 - val_yA_loss: 3.6445e-14 - val_yB_loss: 6.9258e-12\n",
      "Epoch 200/200\n",
      "100/100 [==============================] - 0s 2ms/step - loss: 4.6884e-12 - yA_loss: 7.7641e-14 - yB_loss: 4.6107e-12 - val_loss: 2.5190e-12 - val_yA_loss: 6.9131e-13 - val_yB_loss: 1.8277e-12\n"
     ]
    }
   ],
   "source": [
    "hist = model.fit([x_train_A, x_train_B], [y_train_A, y_train_B], batch_size=8, epochs=200, validation_split=0.2)"
   ]
  },
  {
   "cell_type": "code",
   "execution_count": 29,
   "metadata": {},
   "outputs": [
    {
     "data": {
      "image/png": "[encoded data removed]",
      "text/plain": [
       "<Figure size 432x288 with 1 Axes>"
      ]
     },
     "metadata": {
      "needs_background": "light"
     },
     "output_type": "display_data"
    },
    {
     "name": "stdout",
     "output_type": "stream",
     "text": [
      "yA_weights\n",
      " [array([[2.000002]], dtype=float32), array([1.0000006], dtype=float32)]\n",
      "yB_weights\n",
      " [array([[2.0000014]], dtype=float32), array([1.0000007], dtype=float32)]\n"
     ]
    }
   ],
   "source": [
    "plt.title('Loss')\n",
    "plt.plot(hist.history['loss'])\n",
    "plt.plot(hist.history['val_loss'])\n",
    "plt.ylabel('loss')\n",
    "plt.xlabel('epoch')\n",
    "plt.legend(['train', 'val'], loc=0)\n",
    "plt.show()\n",
    "\n",
    "print('yA_weights\\n', model.get_layer('yA').get_weights())\n",
    "print('yB_weights\\n', model.get_layer('yB').get_weights())"
   ]
  },
  {
   "cell_type": "markdown",
   "metadata": {},
   "source": [
    "<img src='Multi-input multi-output 0.jpeg' width=\"50%\">"
   ]
  }
 ],
 "metadata": {
  "kernelspec": {
   "display_name": "Python 3",
   "language": "python",
   "name": "python3"
  },
  "language_info": {
   "codemirror_mode": {
    "name": "ipython",
    "version": 3
   },
   "file_extension": ".py",
   "mimetype": "text/x-python",
   "name": "python",
   "nbconvert_exporter": "python",
   "pygments_lexer": "ipython3",
   "version": "3.7.6"
  }
 },
 "nbformat": 4,
 "nbformat_minor": 4
}
