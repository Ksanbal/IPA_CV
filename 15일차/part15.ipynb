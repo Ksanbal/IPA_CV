{
 "cells": [
  {
   "cell_type": "markdown",
   "metadata": {},
   "source": [
    "# 20.07.21 15일차"
   ]
  },
  {
   "cell_type": "markdown",
   "metadata": {},
   "source": [
    "---"
   ]
  },
  {
   "cell_type": "markdown",
   "metadata": {},
   "source": [
    "# Tensorflow를 이용한 AI 기초"
   ]
  },
  {
   "cell_type": "markdown",
   "metadata": {},
   "source": [
    "## - Tensorflow 설치"
   ]
  },
  {
   "cell_type": "code",
   "execution_count": 1,
   "metadata": {},
   "outputs": [
    {
     "name": "stdout",
     "output_type": "stream",
     "text": [
      "Requirement already satisfied: tensorflow in /Users/ksanbal/opt/anaconda3/lib/python3.7/site-packages (2.2.0)\n",
      "Requirement already satisfied: tensorflow-estimator<2.3.0,>=2.2.0 in /Users/ksanbal/opt/anaconda3/lib/python3.7/site-packages (from tensorflow) (2.2.0)\n",
      "Requirement already satisfied: opt-einsum>=2.3.2 in /Users/ksanbal/opt/anaconda3/lib/python3.7/site-packages (from tensorflow) (3.3.0)\n",
      "Requirement already satisfied: scipy==1.4.1; python_version >= \"3\" in /Users/ksanbal/opt/anaconda3/lib/python3.7/site-packages (from tensorflow) (1.4.1)\n",
      "Requirement already satisfied: wheel>=0.26; python_version >= \"3\" in /Users/ksanbal/opt/anaconda3/lib/python3.7/site-packages (from tensorflow) (0.34.2)\n",
      "Requirement already satisfied: wrapt>=1.11.1 in /Users/ksanbal/opt/anaconda3/lib/python3.7/site-packages (from tensorflow) (1.11.2)\n",
      "Requirement already satisfied: absl-py>=0.7.0 in /Users/ksanbal/opt/anaconda3/lib/python3.7/site-packages (from tensorflow) (0.9.0)\n",
      "Requirement already satisfied: six>=1.12.0 in /Users/ksanbal/opt/anaconda3/lib/python3.7/site-packages (from tensorflow) (1.14.0)\n",
      "Requirement already satisfied: google-pasta>=0.1.8 in /Users/ksanbal/opt/anaconda3/lib/python3.7/site-packages (from tensorflow) (0.2.0)\n",
      "Requirement already satisfied: numpy<2.0,>=1.16.0 in /Users/ksanbal/opt/anaconda3/lib/python3.7/site-packages (from tensorflow) (1.18.1)\n",
      "Requirement already satisfied: protobuf>=3.8.0 in /Users/ksanbal/opt/anaconda3/lib/python3.7/site-packages (from tensorflow) (3.12.2)\n",
      "Requirement already satisfied: termcolor>=1.1.0 in /Users/ksanbal/opt/anaconda3/lib/python3.7/site-packages (from tensorflow) (1.1.0)\n",
      "Requirement already satisfied: keras-preprocessing>=1.1.0 in /Users/ksanbal/opt/anaconda3/lib/python3.7/site-packages (from tensorflow) (1.1.2)\n",
      "Requirement already satisfied: h5py<2.11.0,>=2.10.0 in /Users/ksanbal/opt/anaconda3/lib/python3.7/site-packages (from tensorflow) (2.10.0)\n",
      "Requirement already satisfied: astunparse==1.6.3 in /Users/ksanbal/opt/anaconda3/lib/python3.7/site-packages (from tensorflow) (1.6.3)\n",
      "Requirement already satisfied: tensorboard<2.3.0,>=2.2.0 in /Users/ksanbal/opt/anaconda3/lib/python3.7/site-packages (from tensorflow) (2.2.2)\n",
      "Requirement already satisfied: grpcio>=1.8.6 in /Users/ksanbal/opt/anaconda3/lib/python3.7/site-packages (from tensorflow) (1.30.0)\n",
      "Requirement already satisfied: gast==0.3.3 in /Users/ksanbal/opt/anaconda3/lib/python3.7/site-packages (from tensorflow) (0.3.3)\n",
      "Requirement already satisfied: setuptools in /Users/ksanbal/opt/anaconda3/lib/python3.7/site-packages (from protobuf>=3.8.0->tensorflow) (46.0.0.post20200309)\n",
      "Requirement already satisfied: google-auth-oauthlib<0.5,>=0.4.1 in /Users/ksanbal/opt/anaconda3/lib/python3.7/site-packages (from tensorboard<2.3.0,>=2.2.0->tensorflow) (0.4.1)\n",
      "Requirement already satisfied: requests<3,>=2.21.0 in /Users/ksanbal/opt/anaconda3/lib/python3.7/site-packages (from tensorboard<2.3.0,>=2.2.0->tensorflow) (2.22.0)\n",
      "Requirement already satisfied: google-auth<2,>=1.6.3 in /Users/ksanbal/opt/anaconda3/lib/python3.7/site-packages (from tensorboard<2.3.0,>=2.2.0->tensorflow) (1.19.2)\n",
      "Requirement already satisfied: tensorboard-plugin-wit>=1.6.0 in /Users/ksanbal/opt/anaconda3/lib/python3.7/site-packages (from tensorboard<2.3.0,>=2.2.0->tensorflow) (1.7.0)\n",
      "Requirement already satisfied: werkzeug>=0.11.15 in /Users/ksanbal/opt/anaconda3/lib/python3.7/site-packages (from tensorboard<2.3.0,>=2.2.0->tensorflow) (1.0.0)\n",
      "Requirement already satisfied: markdown>=2.6.8 in /Users/ksanbal/opt/anaconda3/lib/python3.7/site-packages (from tensorboard<2.3.0,>=2.2.0->tensorflow) (3.2.2)\n",
      "Requirement already satisfied: requests-oauthlib>=0.7.0 in /Users/ksanbal/opt/anaconda3/lib/python3.7/site-packages (from google-auth-oauthlib<0.5,>=0.4.1->tensorboard<2.3.0,>=2.2.0->tensorflow) (1.3.0)\n",
      "Requirement already satisfied: urllib3!=1.25.0,!=1.25.1,<1.26,>=1.21.1 in /Users/ksanbal/opt/anaconda3/lib/python3.7/site-packages (from requests<3,>=2.21.0->tensorboard<2.3.0,>=2.2.0->tensorflow) (1.25.8)\n",
      "Requirement already satisfied: chardet<3.1.0,>=3.0.2 in /Users/ksanbal/opt/anaconda3/lib/python3.7/site-packages (from requests<3,>=2.21.0->tensorboard<2.3.0,>=2.2.0->tensorflow) (3.0.4)\n",
      "Requirement already satisfied: certifi>=2017.4.17 in /Users/ksanbal/opt/anaconda3/lib/python3.7/site-packages (from requests<3,>=2.21.0->tensorboard<2.3.0,>=2.2.0->tensorflow) (2019.11.28)\n",
      "Requirement already satisfied: idna<2.9,>=2.5 in /Users/ksanbal/opt/anaconda3/lib/python3.7/site-packages (from requests<3,>=2.21.0->tensorboard<2.3.0,>=2.2.0->tensorflow) (2.8)\n",
      "Requirement already satisfied: rsa<5,>=3.1.4; python_version >= \"3\" in /Users/ksanbal/opt/anaconda3/lib/python3.7/site-packages (from google-auth<2,>=1.6.3->tensorboard<2.3.0,>=2.2.0->tensorflow) (4.6)\n",
      "Requirement already satisfied: pyasn1-modules>=0.2.1 in /Users/ksanbal/opt/anaconda3/lib/python3.7/site-packages (from google-auth<2,>=1.6.3->tensorboard<2.3.0,>=2.2.0->tensorflow) (0.2.8)\n",
      "Requirement already satisfied: cachetools<5.0,>=2.0.0 in /Users/ksanbal/opt/anaconda3/lib/python3.7/site-packages (from google-auth<2,>=1.6.3->tensorboard<2.3.0,>=2.2.0->tensorflow) (4.1.1)\n",
      "Requirement already satisfied: importlib-metadata; python_version < \"3.8\" in /Users/ksanbal/opt/anaconda3/lib/python3.7/site-packages (from markdown>=2.6.8->tensorboard<2.3.0,>=2.2.0->tensorflow) (1.5.0)\n",
      "Requirement already satisfied: oauthlib>=3.0.0 in /Users/ksanbal/opt/anaconda3/lib/python3.7/site-packages (from requests-oauthlib>=0.7.0->google-auth-oauthlib<0.5,>=0.4.1->tensorboard<2.3.0,>=2.2.0->tensorflow) (3.1.0)\n",
      "Requirement already satisfied: pyasn1>=0.1.3 in /Users/ksanbal/opt/anaconda3/lib/python3.7/site-packages (from rsa<5,>=3.1.4; python_version >= \"3\"->google-auth<2,>=1.6.3->tensorboard<2.3.0,>=2.2.0->tensorflow) (0.4.8)\n",
      "Requirement already satisfied: zipp>=0.5 in /Users/ksanbal/opt/anaconda3/lib/python3.7/site-packages (from importlib-metadata; python_version < \"3.8\"->markdown>=2.6.8->tensorboard<2.3.0,>=2.2.0->tensorflow) (2.2.0)\n",
      "Note: you may need to restart the kernel to use updated packages.\n"
     ]
    }
   ],
   "source": [
    "pip install tensorflow"
   ]
  },
  {
   "cell_type": "code",
   "execution_count": 2,
   "metadata": {},
   "outputs": [
    {
     "name": "stdout",
     "output_type": "stream",
     "text": [
      "2.2.0\n",
      "2.3.0-tf\n"
     ]
    }
   ],
   "source": [
    "import tensorflow as tf\n",
    "print(tf.__version__)\n",
    "print(tf.keras.__version__)"
   ]
  },
  {
   "cell_type": "markdown",
   "metadata": {},
   "source": [
    "## - Lamba layer 0"
   ]
  },
  {
   "cell_type": "code",
   "execution_count": 3,
   "metadata": {},
   "outputs": [],
   "source": [
    "from tensorflow.keras import layers, models\n",
    "import tensorflow.keras.backend as K\n",
    "import numpy as np"
   ]
  },
  {
   "cell_type": "code",
   "execution_count": 4,
   "metadata": {},
   "outputs": [],
   "source": [
    "x_test = np.array([[1,2,3],\n",
    "                   [4,5,6]])"
   ]
  },
  {
   "cell_type": "code",
   "execution_count": 5,
   "metadata": {},
   "outputs": [
    {
     "name": "stdout",
     "output_type": "stream",
     "text": [
      "Model: \"model\"\n",
      "_________________________________________________________________\n",
      "Layer (type)                 Output Shape              Param #   \n",
      "=================================================================\n",
      "input_1 (InputLayer)         [(None, 3)]               0         \n",
      "_________________________________________________________________\n",
      "lambda (Lambda)              (None, 3)                 0         \n",
      "=================================================================\n",
      "Total params: 0\n",
      "Trainable params: 0\n",
      "Non-trainable params: 0\n",
      "_________________________________________________________________\n",
      "x_test : \n",
      " [[1 2 3]\n",
      " [4 5 6]]\n",
      "y_pred : \n",
      " [[ 2.  4.  6.]\n",
      " [ 8. 10. 12.]]\n"
     ]
    }
   ],
   "source": [
    "def func(x):\n",
    "    return x*2\n",
    "\n",
    "x = layers.Input(shape=(3,))  # Input은 layer가 아닌 tensor를 반환\n",
    "y = layers.Lambda(func)(x)    # tensor를 넣어 layer 생성\n",
    "\n",
    "model = models.Model(x, y)    # tensor와 layer 입력\n",
    "model.summary()\n",
    "\n",
    "y_pred = model.predict(x_test)\n",
    "print('x_test : \\n', x_test)\n",
    "print('y_pred : \\n', y_pred)"
   ]
  },
  {
   "cell_type": "markdown",
   "metadata": {},
   "source": [
    "---"
   ]
  },
  {
   "cell_type": "code",
   "execution_count": 6,
   "metadata": {},
   "outputs": [
    {
     "name": "stdout",
     "output_type": "stream",
     "text": [
      "Model: \"model_1\"\n",
      "_________________________________________________________________\n",
      "Layer (type)                 Output Shape              Param #   \n",
      "=================================================================\n",
      "input_1 (InputLayer)         [(None, 3)]               0         \n",
      "_________________________________________________________________\n",
      "lambda_1 (Lambda)            (None, 3)                 0         \n",
      "=================================================================\n",
      "Total params: 0\n",
      "Trainable params: 0\n",
      "Non-trainable params: 0\n",
      "_________________________________________________________________\n",
      "x_test : \n",
      " [[1 2 3]\n",
      " [4 5 6]]\n",
      "y_pred : \n",
      " [[ 1.  4.  9.]\n",
      " [16. 25. 36.]]\n"
     ]
    }
   ],
   "source": [
    "y = layers.Lambda(lambda x:x**2)(x)\n",
    "\n",
    "model = models.Model(x, y)    # tensor와 layer 입력\n",
    "model.summary()\n",
    "\n",
    "y_pred = model.predict(x_test)\n",
    "\n",
    "print('x_test : \\n', x_test)\n",
    "print('y_pred : \\n', y_pred)"
   ]
  },
  {
   "cell_type": "markdown",
   "metadata": {},
   "source": [
    "---"
   ]
  },
  {
   "cell_type": "code",
   "execution_count": 7,
   "metadata": {},
   "outputs": [
    {
     "name": "stdout",
     "output_type": "stream",
     "text": [
      "Model: \"model_2\"\n",
      "_________________________________________________________________\n",
      "Layer (type)                 Output Shape              Param #   \n",
      "=================================================================\n",
      "input_1 (InputLayer)         [(None, 3)]               0         \n",
      "_________________________________________________________________\n",
      "lambda_2 (Lambda)            (None, 1)                 0         \n",
      "=================================================================\n",
      "Total params: 0\n",
      "Trainable params: 0\n",
      "Non-trainable params: 0\n",
      "_________________________________________________________________\n",
      "x_test : \n",
      " [[1 2 3]\n",
      " [4 5 6]]\n",
      "y_pred : \n",
      " [[ 6.]\n",
      " [15.]]\n"
     ]
    }
   ],
   "source": [
    "def func(x):\n",
    "    return K.sum(x, axis=1, keepdims=True) # axis = 곱할 차원\n",
    "\n",
    "y = layers.Lambda(func)(x)    # tensor를 넣어 layer 생성\n",
    "\n",
    "model = models.Model(x, y)    # tensor와 layer 입력\n",
    "model.summary()\n",
    "\n",
    "y_pred = model.predict(x_test)\n",
    "print('x_test : \\n', x_test)\n",
    "print('y_pred : \\n', y_pred)"
   ]
  },
  {
   "cell_type": "markdown",
   "metadata": {},
   "source": [
    "---"
   ]
  },
  {
   "cell_type": "markdown",
   "metadata": {},
   "source": [
    "### 조건을 이용하기 "
   ]
  },
  {
   "cell_type": "code",
   "execution_count": 8,
   "metadata": {},
   "outputs": [
    {
     "name": "stdout",
     "output_type": "stream",
     "text": [
      "Model: \"model_3\"\n",
      "_________________________________________________________________\n",
      "Layer (type)                 Output Shape              Param #   \n",
      "=================================================================\n",
      "input_1 (InputLayer)         [(None, 3)]               0         \n",
      "_________________________________________________________________\n",
      "lambda_3 (Lambda)            (None, 3)                 0         \n",
      "=================================================================\n",
      "Total params: 0\n",
      "Trainable params: 0\n",
      "Non-trainable params: 0\n",
      "_________________________________________________________________\n",
      "x_test : \n",
      " [[1 2 3]\n",
      " [4 5 6]]\n",
      "y_pred : \n",
      " [[1. 2. 3.]\n",
      " [4. 4. 4.]]\n"
     ]
    }
   ],
   "source": [
    "# y = layers.Lambda(lambda x:4 if x>4 else x)(x)\n",
    "y = layers.Lambda(lambda x: K.switch(x>4, 4*K.ones_like(x), x))(x)\n",
    "\n",
    "model = models.Model(x, y)    # tensor와 layer 입력\n",
    "model.summary()\n",
    "\n",
    "y_pred = model.predict(x_test)\n",
    "print('x_test : \\n', x_test)\n",
    "print('y_pred : \\n', y_pred)"
   ]
  },
  {
   "cell_type": "markdown",
   "metadata": {},
   "source": [
    "---"
   ]
  },
  {
   "cell_type": "markdown",
   "metadata": {},
   "source": [
    "### 2개의 출력 만들기"
   ]
  },
  {
   "cell_type": "code",
   "execution_count": 9,
   "metadata": {},
   "outputs": [
    {
     "name": "stdout",
     "output_type": "stream",
     "text": [
      "Model: \"model_4\"\n",
      "_________________________________________________________________\n",
      "Layer (type)                 Output Shape              Param #   \n",
      "=================================================================\n",
      "input_1 (InputLayer)         [(None, 3)]               0         \n",
      "_________________________________________________________________\n",
      "lambda_4 (Lambda)            [(None, 3), (None, 3)]    0         \n",
      "=================================================================\n",
      "Total params: 0\n",
      "Trainable params: 0\n",
      "Non-trainable params: 0\n",
      "_________________________________________________________________\n",
      "x_test : \n",
      " [[1 2 3]\n",
      " [4 5 6]]\n",
      "y_pred : \n",
      " [[0.5 1.  1.5]\n",
      " [2.  2.5 3. ]]\n",
      "y_pred : \n",
      " [[ 2.  4.  6.]\n",
      " [ 8. 10. 12.]]\n"
     ]
    }
   ],
   "source": [
    "yA, yB = layers.Lambda(lambda x: [x/2, x*2])(x)\n",
    "\n",
    "model = models.Model(x, [yA, yB])\n",
    "model.summary()\n",
    "\n",
    "y_pred_A, y_pred_B = model.predict(x_test)\n",
    "print('x_test : \\n', x_test)\n",
    "print('y_pred : \\n', y_pred_A)\n",
    "print('y_pred : \\n', y_pred_B)"
   ]
  },
  {
   "cell_type": "code",
   "execution_count": 10,
   "metadata": {},
   "outputs": [
    {
     "name": "stdout",
     "output_type": "stream",
     "text": [
      "Model: \"model_5\"\n",
      "_________________________________________________________________\n",
      "Layer (type)                 Output Shape              Param #   \n",
      "=================================================================\n",
      "input_1 (InputLayer)         [(None, 3)]               0         \n",
      "_________________________________________________________________\n",
      "lambda_5 (Lambda)            [(None, 2), (None, 1)]    0         \n",
      "=================================================================\n",
      "Total params: 0\n",
      "Trainable params: 0\n",
      "Non-trainable params: 0\n",
      "_________________________________________________________________\n",
      "x_test : \n",
      " [[1 2 3]\n",
      " [4 5 6]]\n",
      "y_pred : \n",
      " [[1. 2.]\n",
      " [4. 5.]]\n",
      "y_pred : \n",
      " [[3.]\n",
      " [6.]]\n"
     ]
    }
   ],
   "source": [
    "yA, yB = layers.Lambda(lambda x: [x[:, :-1], x[:, 2:]])(x)\n",
    "\n",
    "model = models.Model(x, [yA, yB])\n",
    "model.summary()\n",
    "\n",
    "y_pred_A, y_pred_B = model.predict(x_test)\n",
    "print('x_test : \\n', x_test)\n",
    "print('y_pred : \\n', y_pred_A)\n",
    "print('y_pred : \\n', y_pred_B)"
   ]
  },
  {
   "cell_type": "markdown",
   "metadata": {},
   "source": [
    "---"
   ]
  },
  {
   "cell_type": "markdown",
   "metadata": {},
   "source": [
    "## - Lambda layer 1"
   ]
  },
  {
   "cell_type": "code",
   "execution_count": 11,
   "metadata": {},
   "outputs": [],
   "source": [
    "x_test = np.array([[-1],\n",
    "                   [2]])"
   ]
  },
  {
   "cell_type": "markdown",
   "metadata": {},
   "source": [
    "### sigmoid"
   ]
  },
  {
   "cell_type": "code",
   "execution_count": 12,
   "metadata": {},
   "outputs": [
    {
     "name": "stdout",
     "output_type": "stream",
     "text": [
      "Model: \"model_6\"\n",
      "_________________________________________________________________\n",
      "Layer (type)                 Output Shape              Param #   \n",
      "=================================================================\n",
      "input_2 (InputLayer)         [(None, 1)]               0         \n",
      "_________________________________________________________________\n",
      "activation (Activation)      (None, 1)                 0         \n",
      "=================================================================\n",
      "Total params: 0\n",
      "Trainable params: 0\n",
      "Non-trainable params: 0\n",
      "_________________________________________________________________\n",
      "y_pred : \n",
      " [[0.26894143]\n",
      " [0.880797  ]]\n"
     ]
    }
   ],
   "source": [
    "x = layers.Input((1,))\n",
    "y = layers.Activation('sigmoid')(x)\n",
    "\n",
    "model = models.Model(x, y)\n",
    "model.summary()\n",
    "\n",
    "y_pred = model.predict(x_test)\n",
    "print('y_pred : \\n', y_pred)"
   ]
  },
  {
   "cell_type": "code",
   "execution_count": 13,
   "metadata": {},
   "outputs": [
    {
     "name": "stdout",
     "output_type": "stream",
     "text": [
      "Model: \"model_7\"\n",
      "_________________________________________________________________\n",
      "Layer (type)                 Output Shape              Param #   \n",
      "=================================================================\n",
      "input_2 (InputLayer)         [(None, 1)]               0         \n",
      "_________________________________________________________________\n",
      "lambda_6 (Lambda)            (None, 1)                 0         \n",
      "=================================================================\n",
      "Total params: 0\n",
      "Trainable params: 0\n",
      "Non-trainable params: 0\n",
      "_________________________________________________________________\n",
      "y_pred : \n",
      " [[0.26894143]\n",
      " [0.880797  ]]\n"
     ]
    }
   ],
   "source": [
    "y = layers.Lambda(lambda x: 1/(1+K.exp(-x)))(x)\n",
    "\n",
    "model = models.Model(x, y)\n",
    "model.summary()\n",
    "\n",
    "y_pred = model.predict(x_test)\n",
    "print('y_pred : \\n', y_pred)"
   ]
  },
  {
   "cell_type": "markdown",
   "metadata": {},
   "source": [
    "### tanh"
   ]
  },
  {
   "cell_type": "code",
   "execution_count": 14,
   "metadata": {
    "scrolled": true
   },
   "outputs": [
    {
     "name": "stdout",
     "output_type": "stream",
     "text": [
      "Model: \"model_8\"\n",
      "_________________________________________________________________\n",
      "Layer (type)                 Output Shape              Param #   \n",
      "=================================================================\n",
      "input_2 (InputLayer)         [(None, 1)]               0         \n",
      "_________________________________________________________________\n",
      "activation_1 (Activation)    (None, 1)                 0         \n",
      "=================================================================\n",
      "Total params: 0\n",
      "Trainable params: 0\n",
      "Non-trainable params: 0\n",
      "_________________________________________________________________\n",
      "y_pred : \n",
      " [[-0.7615942]\n",
      " [ 0.9640276]]\n"
     ]
    }
   ],
   "source": [
    "y = layers.Activation('tanh')(x)\n",
    "\n",
    "model = models.Model(x, y)\n",
    "model.summary()\n",
    "\n",
    "y_pred = model.predict(x_test)\n",
    "print('y_pred : \\n', y_pred)"
   ]
  },
  {
   "cell_type": "code",
   "execution_count": 15,
   "metadata": {},
   "outputs": [
    {
     "name": "stdout",
     "output_type": "stream",
     "text": [
      "Model: \"model_9\"\n",
      "_________________________________________________________________\n",
      "Layer (type)                 Output Shape              Param #   \n",
      "=================================================================\n",
      "input_2 (InputLayer)         [(None, 1)]               0         \n",
      "_________________________________________________________________\n",
      "lambda_7 (Lambda)            (None, 1)                 0         \n",
      "=================================================================\n",
      "Total params: 0\n",
      "Trainable params: 0\n",
      "Non-trainable params: 0\n",
      "_________________________________________________________________\n",
      "y_pred : \n",
      " [[-0.7615942]\n",
      " [ 0.9640276]]\n"
     ]
    }
   ],
   "source": [
    "y = layers.Lambda(lambda x: (1-K.exp(-2*x)) / (1+K.exp(-2*x)))(x)\n",
    "# y = layers.Lambda(lambda x: 2*(1/(1+K.exp(-2*x)))-1)(x)\n",
    "\n",
    "model = models.Model(x, y)\n",
    "model.summary()\n",
    "\n",
    "y_pred = model.predict(x_test)\n",
    "print('y_pred : \\n', y_pred)"
   ]
  },
  {
   "cell_type": "markdown",
   "metadata": {},
   "source": [
    "### relu"
   ]
  },
  {
   "cell_type": "code",
   "execution_count": 16,
   "metadata": {},
   "outputs": [
    {
     "name": "stdout",
     "output_type": "stream",
     "text": [
      "Model: \"model_10\"\n",
      "_________________________________________________________________\n",
      "Layer (type)                 Output Shape              Param #   \n",
      "=================================================================\n",
      "input_2 (InputLayer)         [(None, 1)]               0         \n",
      "_________________________________________________________________\n",
      "activation_2 (Activation)    (None, 1)                 0         \n",
      "=================================================================\n",
      "Total params: 0\n",
      "Trainable params: 0\n",
      "Non-trainable params: 0\n",
      "_________________________________________________________________\n",
      "y_pred : \n",
      " [[0.]\n",
      " [2.]]\n"
     ]
    }
   ],
   "source": [
    "y = layers.Activation('relu')(x)\n",
    "\n",
    "model = models.Model(x, y)\n",
    "model.summary()\n",
    "\n",
    "y_pred = model.predict(x_test)\n",
    "print('y_pred : \\n', y_pred)"
   ]
  },
  {
   "cell_type": "code",
   "execution_count": 17,
   "metadata": {},
   "outputs": [
    {
     "name": "stdout",
     "output_type": "stream",
     "text": [
      "Model: \"model_11\"\n",
      "_________________________________________________________________\n",
      "Layer (type)                 Output Shape              Param #   \n",
      "=================================================================\n",
      "input_2 (InputLayer)         [(None, 1)]               0         \n",
      "_________________________________________________________________\n",
      "lambda_8 (Lambda)            (None, None)              0         \n",
      "=================================================================\n",
      "Total params: 0\n",
      "Trainable params: 0\n",
      "Non-trainable params: 0\n",
      "_________________________________________________________________\n",
      "y_pred : \n",
      " [[0.]\n",
      " [2.]]\n"
     ]
    }
   ],
   "source": [
    "y = layers.Lambda(lambda x: K.switch(x>0, x, K.zeros_like(x)))(x)\n",
    "# y = layers.Lambda(lambda x: K.switch(x<0, K.zeros_like(x), x))(x)\n",
    "\n",
    "model = models.Model(x, y)\n",
    "model.summary()\n",
    "\n",
    "y_pred = model.predict(x_test)\n",
    "print('y_pred : \\n', y_pred)"
   ]
  },
  {
   "cell_type": "markdown",
   "metadata": {},
   "source": [
    "---"
   ]
  },
  {
   "cell_type": "markdown",
   "metadata": {},
   "source": [
    "## - Merge layers 0"
   ]
  },
  {
   "cell_type": "code",
   "execution_count": 18,
   "metadata": {},
   "outputs": [],
   "source": [
    "x_test_A = np.array([[0,1], [4,5]])\n",
    "x_test_B = np.array([[2,3], [6,7]])\n",
    "\n",
    "xA = layers.Input(shape=(2,), name='xA')\n",
    "xB = layers.Input(shape=(2,), name='xB')"
   ]
  },
  {
   "cell_type": "markdown",
   "metadata": {},
   "source": [
    "### concatenate"
   ]
  },
  {
   "cell_type": "code",
   "execution_count": 19,
   "metadata": {
    "scrolled": true
   },
   "outputs": [
    {
     "name": "stdout",
     "output_type": "stream",
     "text": [
      "Model: \"model_12\"\n",
      "__________________________________________________________________________________________________\n",
      "Layer (type)                    Output Shape         Param #     Connected to                     \n",
      "==================================================================================================\n",
      "xA (InputLayer)                 [(None, 2)]          0                                            \n",
      "__________________________________________________________________________________________________\n",
      "xB (InputLayer)                 [(None, 2)]          0                                            \n",
      "__________________________________________________________________________________________________\n",
      "concat (Concatenate)            (None, 4)            0           xA[0][0]                         \n",
      "                                                                 xB[0][0]                         \n",
      "==================================================================================================\n",
      "Total params: 0\n",
      "Trainable params: 0\n",
      "Non-trainable params: 0\n",
      "__________________________________________________________________________________________________\n",
      "x_test_A\n",
      " [[0 1]\n",
      " [4 5]]\n",
      "x_test_B\n",
      " [[2 3]\n",
      " [6 7]]\n",
      "y_pred\n",
      " [[0. 1. 2. 3.]\n",
      " [4. 5. 6. 7.]]\n"
     ]
    }
   ],
   "source": [
    "# y = layers.Concatenate(name='concat')([xA, xB]) # 이어 붙인다.\n",
    "y = layers.concatenate([xA, xB], name='concat')\n",
    "\n",
    "model = models.Model(inputs=[xA, xB], outputs=y)\n",
    "model.summary()\n",
    "\n",
    "y_pred = model.predict([x_test_A, x_test_B])\n",
    "print('x_test_A\\n', x_test_A)\n",
    "print('x_test_B\\n', x_test_B)\n",
    "print('y_pred\\n', y_pred)"
   ]
  },
  {
   "cell_type": "markdown",
   "metadata": {},
   "source": [
    "### add"
   ]
  },
  {
   "cell_type": "code",
   "execution_count": 20,
   "metadata": {
    "scrolled": true
   },
   "outputs": [
    {
     "name": "stdout",
     "output_type": "stream",
     "text": [
      "Model: \"model_13\"\n",
      "__________________________________________________________________________________________________\n",
      "Layer (type)                    Output Shape         Param #     Connected to                     \n",
      "==================================================================================================\n",
      "xA (InputLayer)                 [(None, 2)]          0                                            \n",
      "__________________________________________________________________________________________________\n",
      "xB (InputLayer)                 [(None, 2)]          0                                            \n",
      "__________________________________________________________________________________________________\n",
      "add (Add)                       (None, 2)            0           xA[0][0]                         \n",
      "                                                                 xB[0][0]                         \n",
      "==================================================================================================\n",
      "Total params: 0\n",
      "Trainable params: 0\n",
      "Non-trainable params: 0\n",
      "__________________________________________________________________________________________________\n",
      "x_test_A\n",
      " [[0 1]\n",
      " [4 5]]\n",
      "x_test_B\n",
      " [[2 3]\n",
      " [6 7]]\n",
      "y_pred\n",
      " [[ 2.  4.]\n",
      " [10. 12.]]\n"
     ]
    }
   ],
   "source": [
    "# y = layers.Add(name='add')([xA, xB])\n",
    "y = layers.add([xA, xB], name='add')\n",
    "\n",
    "model = models.Model(inputs=[xA, xB], outputs=y)\n",
    "model.summary()\n",
    "\n",
    "y_pred = model.predict([x_test_A, x_test_B])\n",
    "print('x_test_A\\n', x_test_A)\n",
    "print('x_test_B\\n', x_test_B)\n",
    "print('y_pred\\n', y_pred)"
   ]
  },
  {
   "cell_type": "markdown",
   "metadata": {},
   "source": [
    "### multiply"
   ]
  },
  {
   "cell_type": "code",
   "execution_count": 21,
   "metadata": {},
   "outputs": [
    {
     "name": "stdout",
     "output_type": "stream",
     "text": [
      "Model: \"model_14\"\n",
      "__________________________________________________________________________________________________\n",
      "Layer (type)                    Output Shape         Param #     Connected to                     \n",
      "==================================================================================================\n",
      "xA (InputLayer)                 [(None, 2)]          0                                            \n",
      "__________________________________________________________________________________________________\n",
      "xB (InputLayer)                 [(None, 2)]          0                                            \n",
      "__________________________________________________________________________________________________\n",
      "add (Multiply)                  (None, 2)            0           xA[0][0]                         \n",
      "                                                                 xB[0][0]                         \n",
      "==================================================================================================\n",
      "Total params: 0\n",
      "Trainable params: 0\n",
      "Non-trainable params: 0\n",
      "__________________________________________________________________________________________________\n",
      "x_test_A\n",
      " [[0 1]\n",
      " [4 5]]\n",
      "x_test_B\n",
      " [[2 3]\n",
      " [6 7]]\n",
      "y_pred\n",
      " [[ 0.  3.]\n",
      " [24. 35.]]\n"
     ]
    }
   ],
   "source": [
    "# y = layers.Multiply(name='add')([xA, xB])\n",
    "y = layers.multiply([xA, xB], name='add')\n",
    "\n",
    "model = models.Model(inputs=[xA, xB], outputs=y)\n",
    "model.summary()\n",
    "\n",
    "y_pred = model.predict([x_test_A, x_test_B])\n",
    "print('x_test_A\\n', x_test_A)\n",
    "print('x_test_B\\n', x_test_B)\n",
    "print('y_pred\\n', y_pred)"
   ]
  },
  {
   "cell_type": "markdown",
   "metadata": {},
   "source": [
    "---"
   ]
  },
  {
   "cell_type": "markdown",
   "metadata": {},
   "source": [
    "## - nodes 0"
   ]
  },
  {
   "cell_type": "code",
   "execution_count": 22,
   "metadata": {},
   "outputs": [],
   "source": [
    "# Tensor\n",
    "x = layers.Input((1,), name='x')\n",
    "y = layers.Input((1,), name='y')\n",
    "\n",
    "# Layer\n",
    "h = layers.Dense(1, name='h')\n",
    "a = layers.Dense(1, name='a')\n",
    "b = layers.Dense(1, name='b')"
   ]
  },
  {
   "cell_type": "code",
   "execution_count": 23,
   "metadata": {},
   "outputs": [
    {
     "name": "stdout",
     "output_type": "stream",
     "text": [
      "h._inbound_nodes\n",
      " []\n",
      "h._outbound_nodes\n",
      " []\n"
     ]
    }
   ],
   "source": [
    "print('h._inbound_nodes\\n', h._inbound_nodes)\n",
    "print('h._outbound_nodes\\n', h._outbound_nodes)"
   ]
  },
  {
   "cell_type": "code",
   "execution_count": 24,
   "metadata": {},
   "outputs": [
    {
     "name": "stdout",
     "output_type": "stream",
     "text": [
      "h._inbound_nodes\n",
      " [<tensorflow.python.keras.engine.node.Node object at 0x7fb0378b6450>]\n",
      "h._inbound_nodes[0].input_tensors\n",
      " Tensor(\"x:0\", shape=(None, 1), dtype=float32)\n",
      "h._inbound_nodes[0].output_tensors\n",
      " Tensor(\"h/Identity:0\", shape=(None, 1), dtype=float32)\n"
     ]
    }
   ],
   "source": [
    "hx = h(x)\n",
    "print('h._inbound_nodes\\n', h._inbound_nodes)\n",
    "print('h._inbound_nodes[0].input_tensors\\n', h._inbound_nodes[0].input_tensors)\n",
    "print('h._inbound_nodes[0].output_tensors\\n', h._inbound_nodes[0].output_tensors)"
   ]
  }
 ],
 "metadata": {
  "kernelspec": {
   "display_name": "Python 3",
   "language": "python",
   "name": "python3"
  },
  "language_info": {
   "codemirror_mode": {
    "name": "ipython",
    "version": 3
   },
   "file_extension": ".py",
   "mimetype": "text/x-python",
   "name": "python",
   "nbconvert_exporter": "python",
   "pygments_lexer": "ipython3",
   "version": "3.7.6"
  }
 },
 "nbformat": 4,
 "nbformat_minor": 4
}
