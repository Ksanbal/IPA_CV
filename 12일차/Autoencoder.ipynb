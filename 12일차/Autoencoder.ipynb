{
  "nbformat": 4,
  "nbformat_minor": 0,
  "metadata": {
    "colab": {
      "name": "Autoencoder.ipynb",
      "provenance": [],
      "collapsed_sections": []
    },
    "kernelspec": {
      "name": "python2",
      "display_name": "Python 2"
    },
    "accelerator": "GPU"
  },
  "cells": [
    {
      "cell_type": "code",
      "metadata": {
        "id": "-kjkKo89DtHg",
        "colab_type": "code",
        "colab": {
          "base_uri": "https://localhost:8080/",
          "height": 35
        },
        "outputId": "cfc16774-0558-4a29-bea2-cd235505c738"
      },
      "source": [
        "from keras.layers import Input, Dense\n",
        "from keras.models import Model"
      ],
      "execution_count": null,
      "outputs": [
        {
          "output_type": "stream",
          "text": [
            "Using TensorFlow backend.\n"
          ],
          "name": "stderr"
        }
      ]
    },
    {
      "cell_type": "code",
      "metadata": {
        "id": "mJ9oLAjJD7zH",
        "colab_type": "code",
        "colab": {
          "base_uri": "https://localhost:8080/",
          "height": 269
        },
        "outputId": "654827cf-20e3-46eb-b6f1-b2e76617f62c"
      },
      "source": [
        "# encoding dim은 축소된 representation vector의 크기를 말합니다.\n",
        "# encoding_dim == latent space\n",
        "encoding_dim = 32 \n",
        "\n",
        "input_img = Input(shape=(784,))\n",
        "encoded = Dense(encoding_dim, activation='relu')(input_img)\n",
        "decoded = Dense(784, activation='sigmoid')(encoded)\n",
        "\n",
        "autoencoder = Model(input_img, decoded)\n",
        "autoencoder.summary()"
      ],
      "execution_count": null,
      "outputs": [
        {
          "output_type": "stream",
          "text": [
            "Model: \"model_1\"\n",
            "_________________________________________________________________\n",
            "Layer (type)                 Output Shape              Param #   \n",
            "=================================================================\n",
            "input_1 (InputLayer)         (None, 784)               0         \n",
            "_________________________________________________________________\n",
            "dense_1 (Dense)              (None, 32)                25120     \n",
            "_________________________________________________________________\n",
            "dense_2 (Dense)              (None, 784)               25872     \n",
            "=================================================================\n",
            "Total params: 50,992\n",
            "Trainable params: 50,992\n",
            "Non-trainable params: 0\n",
            "_________________________________________________________________\n"
          ],
          "name": "stdout"
        }
      ]
    },
    {
      "cell_type": "code",
      "metadata": {
        "id": "W_7g546LECm1",
        "colab_type": "code",
        "colab": {}
      },
      "source": [
        "autoencoder.compile(optimizer='adam', loss='mse')"
      ],
      "execution_count": null,
      "outputs": []
    },
    {
      "cell_type": "code",
      "metadata": {
        "id": "d_jn9w5KE9tk",
        "colab_type": "code",
        "colab": {
          "base_uri": "https://localhost:8080/",
          "height": 71
        },
        "outputId": "e1b8c37c-a604-4e3b-e049-37dea4cdefcd"
      },
      "source": [
        "from keras.datasets import mnist\n",
        "import numpy as np\n",
        "(x_train, _), (x_test, _) = mnist.load_data()"
      ],
      "execution_count": null,
      "outputs": [
        {
          "output_type": "stream",
          "text": [
            "Downloading data from https://s3.amazonaws.com/img-datasets/mnist.npz\n",
            "11493376/11490434 [==============================] - 1s 0us/step\n",
            "11501568/11490434 [==============================] - 1s 0us/step\n"
          ],
          "name": "stdout"
        }
      ]
    },
    {
      "cell_type": "code",
      "metadata": {
        "id": "jEUBYMkzE_98",
        "colab_type": "code",
        "colab": {
          "base_uri": "https://localhost:8080/",
          "height": 53
        },
        "outputId": "ff1821e3-2a29-4316-cb7e-04e2b4fa2047"
      },
      "source": [
        "x_train = x_train.astype('float32') / 255.\n",
        "x_test = x_test.astype('float32') / 255.\n",
        "x_train = x_train.reshape((len(x_train), np.prod(x_train.shape[1:])))\n",
        "x_test = x_test.reshape((len(x_test), np.prod(x_test.shape[1:])))\n",
        "print x_train.shape\n",
        "print x_test.shape"
      ],
      "execution_count": null,
      "outputs": [
        {
          "output_type": "stream",
          "text": [
            "(60000, 784)\n",
            "(10000, 784)\n"
          ],
          "name": "stdout"
        }
      ]
    },
    {
      "cell_type": "code",
      "metadata": {
        "id": "YOGGWe5bFBv9",
        "colab_type": "code",
        "colab": {
          "base_uri": "https://localhost:8080/",
          "height": 1000
        },
        "outputId": "e22f707f-1c54-424b-a19e-d2357231a768"
      },
      "source": [
        "autoencoder.fit(x_train, x_train,\n",
        "                epochs=50,\n",
        "                batch_size=256,\n",
        "                shuffle=True,\n",
        "                validation_data=(x_test, x_test))"
      ],
      "execution_count": null,
      "outputs": [
        {
          "output_type": "stream",
          "text": [
            "Train on 60000 samples, validate on 10000 samples\n",
            "Epoch 1/50\n",
            "60000/60000 [==============================] - 2s 41us/step - loss: 0.0714 - val_loss: 0.0423\n",
            "Epoch 2/50\n",
            "60000/60000 [==============================] - 1s 14us/step - loss: 0.0351 - val_loss: 0.0296\n",
            "Epoch 3/50\n",
            "60000/60000 [==============================] - 1s 14us/step - loss: 0.0265 - val_loss: 0.0233\n",
            "Epoch 4/50\n",
            "60000/60000 [==============================] - 1s 14us/step - loss: 0.0215 - val_loss: 0.0192\n",
            "Epoch 5/50\n",
            "60000/60000 [==============================] - 1s 14us/step - loss: 0.0180 - val_loss: 0.0163\n",
            "Epoch 6/50\n",
            "60000/60000 [==============================] - 1s 14us/step - loss: 0.0156 - val_loss: 0.0143\n",
            "Epoch 7/50\n",
            "60000/60000 [==============================] - 1s 14us/step - loss: 0.0139 - val_loss: 0.0130\n",
            "Epoch 8/50\n",
            "60000/60000 [==============================] - 1s 14us/step - loss: 0.0128 - val_loss: 0.0120\n",
            "Epoch 9/50\n",
            "60000/60000 [==============================] - 1s 14us/step - loss: 0.0120 - val_loss: 0.0114\n",
            "Epoch 10/50\n",
            "60000/60000 [==============================] - 1s 14us/step - loss: 0.0115 - val_loss: 0.0110\n",
            "Epoch 11/50\n",
            "60000/60000 [==============================] - 1s 14us/step - loss: 0.0112 - val_loss: 0.0107\n",
            "Epoch 12/50\n",
            "60000/60000 [==============================] - 1s 14us/step - loss: 0.0109 - val_loss: 0.0105\n",
            "Epoch 13/50\n",
            "60000/60000 [==============================] - 1s 14us/step - loss: 0.0108 - val_loss: 0.0104\n",
            "Epoch 14/50\n",
            "60000/60000 [==============================] - 1s 14us/step - loss: 0.0107 - val_loss: 0.0103\n",
            "Epoch 15/50\n",
            "60000/60000 [==============================] - 1s 14us/step - loss: 0.0106 - val_loss: 0.0102\n",
            "Epoch 16/50\n",
            "60000/60000 [==============================] - 1s 14us/step - loss: 0.0105 - val_loss: 0.0101\n",
            "Epoch 17/50\n",
            "60000/60000 [==============================] - 1s 14us/step - loss: 0.0104 - val_loss: 0.0101\n",
            "Epoch 18/50\n",
            "60000/60000 [==============================] - 1s 14us/step - loss: 0.0104 - val_loss: 0.0100\n",
            "Epoch 19/50\n",
            "60000/60000 [==============================] - 1s 14us/step - loss: 0.0104 - val_loss: 0.0100\n",
            "Epoch 20/50\n",
            "60000/60000 [==============================] - 1s 14us/step - loss: 0.0103 - val_loss: 0.0100\n",
            "Epoch 21/50\n",
            "60000/60000 [==============================] - 1s 14us/step - loss: 0.0103 - val_loss: 0.0100\n",
            "Epoch 22/50\n",
            "60000/60000 [==============================] - 1s 14us/step - loss: 0.0103 - val_loss: 0.0099\n",
            "Epoch 23/50\n",
            "60000/60000 [==============================] - 1s 15us/step - loss: 0.0102 - val_loss: 0.0099\n",
            "Epoch 24/50\n",
            "60000/60000 [==============================] - 1s 15us/step - loss: 0.0102 - val_loss: 0.0099\n",
            "Epoch 25/50\n",
            "60000/60000 [==============================] - 1s 14us/step - loss: 0.0102 - val_loss: 0.0099\n",
            "Epoch 26/50\n",
            "60000/60000 [==============================] - 1s 14us/step - loss: 0.0102 - val_loss: 0.0099\n",
            "Epoch 27/50\n",
            "60000/60000 [==============================] - 1s 14us/step - loss: 0.0102 - val_loss: 0.0099\n",
            "Epoch 28/50\n",
            "60000/60000 [==============================] - 1s 15us/step - loss: 0.0102 - val_loss: 0.0098\n",
            "Epoch 29/50\n",
            "60000/60000 [==============================] - 1s 14us/step - loss: 0.0101 - val_loss: 0.0098\n",
            "Epoch 30/50\n",
            "60000/60000 [==============================] - 1s 14us/step - loss: 0.0101 - val_loss: 0.0098\n",
            "Epoch 31/50\n",
            "60000/60000 [==============================] - 1s 14us/step - loss: 0.0101 - val_loss: 0.0098\n",
            "Epoch 32/50\n",
            "60000/60000 [==============================] - 1s 14us/step - loss: 0.0101 - val_loss: 0.0098\n",
            "Epoch 33/50\n",
            "60000/60000 [==============================] - 1s 14us/step - loss: 0.0101 - val_loss: 0.0098\n",
            "Epoch 34/50\n",
            "60000/60000 [==============================] - 1s 14us/step - loss: 0.0101 - val_loss: 0.0098\n",
            "Epoch 35/50\n",
            "60000/60000 [==============================] - 1s 14us/step - loss: 0.0101 - val_loss: 0.0098\n",
            "Epoch 36/50\n",
            "60000/60000 [==============================] - 1s 14us/step - loss: 0.0101 - val_loss: 0.0098\n",
            "Epoch 37/50\n",
            "60000/60000 [==============================] - 1s 14us/step - loss: 0.0100 - val_loss: 0.0097\n",
            "Epoch 38/50\n",
            "60000/60000 [==============================] - 1s 14us/step - loss: 0.0100 - val_loss: 0.0098\n",
            "Epoch 39/50\n",
            "60000/60000 [==============================] - 1s 13us/step - loss: 0.0100 - val_loss: 0.0097\n",
            "Epoch 40/50\n",
            "60000/60000 [==============================] - 1s 14us/step - loss: 0.0100 - val_loss: 0.0097\n",
            "Epoch 41/50\n",
            "60000/60000 [==============================] - 1s 14us/step - loss: 0.0100 - val_loss: 0.0097\n",
            "Epoch 42/50\n",
            "60000/60000 [==============================] - 1s 14us/step - loss: 0.0100 - val_loss: 0.0097\n",
            "Epoch 43/50\n",
            "60000/60000 [==============================] - 1s 14us/step - loss: 0.0100 - val_loss: 0.0097\n",
            "Epoch 44/50\n",
            "60000/60000 [==============================] - 1s 14us/step - loss: 0.0100 - val_loss: 0.0097\n",
            "Epoch 45/50\n",
            "60000/60000 [==============================] - 1s 14us/step - loss: 0.0100 - val_loss: 0.0097\n",
            "Epoch 46/50\n",
            "60000/60000 [==============================] - 1s 14us/step - loss: 0.0099 - val_loss: 0.0097\n",
            "Epoch 47/50\n",
            "60000/60000 [==============================] - 1s 14us/step - loss: 0.0099 - val_loss: 0.0097\n",
            "Epoch 48/50\n",
            "60000/60000 [==============================] - 1s 14us/step - loss: 0.0099 - val_loss: 0.0097\n",
            "Epoch 49/50\n",
            "60000/60000 [==============================] - 1s 14us/step - loss: 0.0099 - val_loss: 0.0097\n",
            "Epoch 50/50\n",
            "60000/60000 [==============================] - 1s 14us/step - loss: 0.0099 - val_loss: 0.0096\n"
          ],
          "name": "stdout"
        },
        {
          "output_type": "execute_result",
          "data": {
            "text/plain": [
              "<keras.callbacks.callbacks.History at 0x7f2c600fc710>"
            ]
          },
          "metadata": {
            "tags": []
          },
          "execution_count": 7
        }
      ]
    },
    {
      "cell_type": "code",
      "metadata": {
        "id": "vZLK4bodkohG",
        "colab_type": "code",
        "colab": {}
      },
      "source": [
        "decoded_imgs = autoencoder.predict(x_test)"
      ],
      "execution_count": null,
      "outputs": []
    },
    {
      "cell_type": "code",
      "metadata": {
        "id": "5tXxe68cGEbE",
        "colab_type": "code",
        "colab": {
          "base_uri": "https://localhost:8080/",
          "height": 189
        },
        "outputId": "f07ee102-bff1-4f7a-e2a5-13a6069c33bd"
      },
      "source": [
        "# use Matplotlib (don't ask)\n",
        "import matplotlib.pyplot as plt\n",
        "\n",
        "n = 10  # how many digits we will display\n",
        "plt.figure(figsize=(20, 4))\n",
        "for i in range(n):\n",
        "    # display original\n",
        "    ax = plt.subplot(2, n, i + 1)\n",
        "    plt.imshow(x_test[i].reshape(28, 28))\n",
        "    plt.gray()\n",
        "    ax.get_xaxis().set_visible(False)\n",
        "    ax.get_yaxis().set_visible(False)\n",
        "\n",
        "    # display reconstruction\n",
        "    ax = plt.subplot(2, n, i + 1 + n)\n",
        "    plt.imshow(decoded_imgs[i].reshape(28, 28))\n",
        "    plt.gray()\n",
        "    ax.get_xaxis().set_visible(False)\n",
        "    ax.get_yaxis().set_visible(False)\n",
        "plt.show()"
      ],
      "execution_count": null,
      "outputs": [
        {
          "output_type": "display_data",
          "data": {
            "image/png": "[encoded data removed]",
            "text/plain": [
              "<Figure size 1440x288 with 20 Axes>"
            ]
          },
          "metadata": {
            "tags": [],
            "needs_background": "light"
          }
        }
      ]
    },
    {
      "cell_type": "markdown",
      "metadata": {
        "id": "-r8UDxqAG9Pi",
        "colab_type": "text"
      },
      "source": [
        "Deep autoencoder by stack dense layers"
      ]
    },
    {
      "cell_type": "code",
      "metadata": {
        "id": "7mfcVlJIHDZZ",
        "colab_type": "code",
        "colab": {}
      },
      "source": [
        "input_img = Input(shape=(784,))\n",
        "encoded = Dense(128, activation='relu')(input_img)\n",
        "encoded = Dense(64, activation='relu')(encoded)\n",
        "encoded = Dense(32, activation='relu')(encoded)\n",
        "\n",
        "decoded = Dense(64, activation='relu')(encoded)\n",
        "decoded = Dense(128, activation='relu')(decoded)\n",
        "decoded = Dense(784, activation='sigmoid')(decoded)"
      ],
      "execution_count": null,
      "outputs": []
    },
    {
      "cell_type": "code",
      "metadata": {
        "id": "2HHBTNdSHErj",
        "colab_type": "code",
        "colab": {
          "base_uri": "https://localhost:8080/",
          "height": 1000
        },
        "outputId": "dda6c687-a037-44d2-a0d9-f712decfb5f6"
      },
      "source": [
        "autoencoder = Model(input_img, decoded)\n",
        "autoencoder.compile(optimizer='adam', loss='mse')\n",
        "\n",
        "autoencoder.fit(x_train, x_train,\n",
        "                epochs=50,\n",
        "                batch_size=256,\n",
        "                shuffle=True,\n",
        "                validation_data=(x_test, x_test))"
      ],
      "execution_count": null,
      "outputs": [
        {
          "output_type": "stream",
          "text": [
            "Train on 60000 samples, validate on 10000 samples\n",
            "Epoch 1/50\n",
            "60000/60000 [==============================] - 1s 20us/step - loss: 0.0144 - val_loss: 0.0136\n",
            "Epoch 2/50\n",
            "60000/60000 [==============================] - 1s 18us/step - loss: 0.0138 - val_loss: 0.0133\n",
            "Epoch 3/50\n",
            "60000/60000 [==============================] - 1s 18us/step - loss: 0.0133 - val_loss: 0.0129\n",
            "Epoch 4/50\n",
            "60000/60000 [==============================] - 1s 18us/step - loss: 0.0128 - val_loss: 0.0122\n",
            "Epoch 5/50\n",
            "60000/60000 [==============================] - 1s 19us/step - loss: 0.0124 - val_loss: 0.0119\n",
            "Epoch 6/50\n",
            "60000/60000 [==============================] - 1s 19us/step - loss: 0.0120 - val_loss: 0.0117\n",
            "Epoch 7/50\n",
            "60000/60000 [==============================] - 1s 18us/step - loss: 0.0117 - val_loss: 0.0114\n",
            "Epoch 8/50\n",
            "60000/60000 [==============================] - 1s 18us/step - loss: 0.0114 - val_loss: 0.0110\n",
            "Epoch 9/50\n",
            "60000/60000 [==============================] - 1s 18us/step - loss: 0.0111 - val_loss: 0.0110\n",
            "Epoch 10/50\n",
            "60000/60000 [==============================] - 1s 19us/step - loss: 0.0109 - val_loss: 0.0105\n",
            "Epoch 11/50\n",
            "60000/60000 [==============================] - 1s 19us/step - loss: 0.0106 - val_loss: 0.0105\n",
            "Epoch 12/50\n",
            "60000/60000 [==============================] - 1s 19us/step - loss: 0.0104 - val_loss: 0.0102\n",
            "Epoch 13/50\n",
            "60000/60000 [==============================] - 1s 18us/step - loss: 0.0102 - val_loss: 0.0100\n",
            "Epoch 14/50\n",
            "60000/60000 [==============================] - 1s 19us/step - loss: 0.0101 - val_loss: 0.0098\n",
            "Epoch 15/50\n",
            "60000/60000 [==============================] - 1s 19us/step - loss: 0.0099 - val_loss: 0.0096\n",
            "Epoch 16/50\n",
            "60000/60000 [==============================] - 1s 19us/step - loss: 0.0098 - val_loss: 0.0096\n",
            "Epoch 17/50\n",
            "60000/60000 [==============================] - 1s 19us/step - loss: 0.0096 - val_loss: 0.0094\n",
            "Epoch 18/50\n",
            "60000/60000 [==============================] - 1s 18us/step - loss: 0.0095 - val_loss: 0.0094\n",
            "Epoch 19/50\n",
            "60000/60000 [==============================] - 1s 18us/step - loss: 0.0094 - val_loss: 0.0093\n",
            "Epoch 20/50\n",
            "60000/60000 [==============================] - 1s 18us/step - loss: 0.0093 - val_loss: 0.0091\n",
            "Epoch 21/50\n",
            "60000/60000 [==============================] - 1s 18us/step - loss: 0.0092 - val_loss: 0.0091\n",
            "Epoch 22/50\n",
            "60000/60000 [==============================] - 1s 18us/step - loss: 0.0091 - val_loss: 0.0090\n",
            "Epoch 23/50\n",
            "60000/60000 [==============================] - 1s 19us/step - loss: 0.0091 - val_loss: 0.0090\n",
            "Epoch 24/50\n",
            "60000/60000 [==============================] - 1s 18us/step - loss: 0.0090 - val_loss: 0.0088\n",
            "Epoch 25/50\n",
            "60000/60000 [==============================] - 1s 18us/step - loss: 0.0089 - val_loss: 0.0087\n",
            "Epoch 26/50\n",
            "60000/60000 [==============================] - 1s 19us/step - loss: 0.0089 - val_loss: 0.0088\n",
            "Epoch 27/50\n",
            "60000/60000 [==============================] - 1s 18us/step - loss: 0.0088 - val_loss: 0.0086\n",
            "Epoch 28/50\n",
            "60000/60000 [==============================] - 1s 18us/step - loss: 0.0087 - val_loss: 0.0086\n",
            "Epoch 29/50\n",
            "60000/60000 [==============================] - 1s 18us/step - loss: 0.0087 - val_loss: 0.0086\n",
            "Epoch 30/50\n",
            "60000/60000 [==============================] - 1s 17us/step - loss: 0.0086 - val_loss: 0.0085\n",
            "Epoch 31/50\n",
            "60000/60000 [==============================] - 1s 17us/step - loss: 0.0086 - val_loss: 0.0085\n",
            "Epoch 32/50\n",
            "60000/60000 [==============================] - 1s 18us/step - loss: 0.0085 - val_loss: 0.0084\n",
            "Epoch 33/50\n",
            "60000/60000 [==============================] - 1s 18us/step - loss: 0.0085 - val_loss: 0.0083\n",
            "Epoch 34/50\n",
            "60000/60000 [==============================] - 1s 18us/step - loss: 0.0084 - val_loss: 0.0083\n",
            "Epoch 35/50\n",
            "60000/60000 [==============================] - 1s 18us/step - loss: 0.0084 - val_loss: 0.0082\n",
            "Epoch 36/50\n",
            "60000/60000 [==============================] - 1s 18us/step - loss: 0.0084 - val_loss: 0.0084\n",
            "Epoch 37/50\n",
            "60000/60000 [==============================] - 1s 18us/step - loss: 0.0083 - val_loss: 0.0082\n",
            "Epoch 38/50\n",
            "60000/60000 [==============================] - 1s 18us/step - loss: 0.0083 - val_loss: 0.0081\n",
            "Epoch 39/50\n",
            "60000/60000 [==============================] - 1s 18us/step - loss: 0.0082 - val_loss: 0.0081\n",
            "Epoch 40/50\n",
            "60000/60000 [==============================] - 1s 19us/step - loss: 0.0082 - val_loss: 0.0081\n",
            "Epoch 41/50\n",
            "60000/60000 [==============================] - 1s 17us/step - loss: 0.0082 - val_loss: 0.0081\n",
            "Epoch 42/50\n",
            "60000/60000 [==============================] - 1s 18us/step - loss: 0.0081 - val_loss: 0.0081\n",
            "Epoch 43/50\n",
            "60000/60000 [==============================] - 1s 18us/step - loss: 0.0081 - val_loss: 0.0080\n",
            "Epoch 44/50\n",
            "60000/60000 [==============================] - 1s 18us/step - loss: 0.0081 - val_loss: 0.0080\n",
            "Epoch 45/50\n",
            "60000/60000 [==============================] - 1s 18us/step - loss: 0.0080 - val_loss: 0.0080\n",
            "Epoch 46/50\n",
            "60000/60000 [==============================] - 1s 18us/step - loss: 0.0080 - val_loss: 0.0080\n",
            "Epoch 47/50\n",
            "60000/60000 [==============================] - 1s 18us/step - loss: 0.0080 - val_loss: 0.0079\n",
            "Epoch 48/50\n",
            "60000/60000 [==============================] - 1s 17us/step - loss: 0.0079 - val_loss: 0.0079\n",
            "Epoch 49/50\n",
            "60000/60000 [==============================] - 1s 18us/step - loss: 0.0079 - val_loss: 0.0080\n",
            "Epoch 50/50\n",
            "60000/60000 [==============================] - 1s 18us/step - loss: 0.0079 - val_loss: 0.0078\n"
          ],
          "name": "stdout"
        },
        {
          "output_type": "execute_result",
          "data": {
            "text/plain": [
              "<keras.callbacks.callbacks.History at 0x7fc233a64950>"
            ]
          },
          "metadata": {
            "tags": []
          },
          "execution_count": 11
        }
      ]
    },
    {
      "cell_type": "code",
      "metadata": {
        "id": "RdsmbrB-HF7D",
        "colab_type": "code",
        "colab": {
          "base_uri": "https://localhost:8080/",
          "height": 189
        },
        "outputId": "f0063a52-9a95-4e46-d064-4e10a3ef3db3"
      },
      "source": [
        "# use Matplotlib (don't ask)\n",
        "import matplotlib.pyplot as plt\n",
        "\n",
        "n = 10  # how many digits we will display\n",
        "plt.figure(figsize=(20, 4))\n",
        "for i in range(n):\n",
        "    # display original\n",
        "    ax = plt.subplot(2, n, i + 1)\n",
        "    plt.imshow(x_test[i].reshape(28, 28))\n",
        "    plt.gray()\n",
        "    ax.get_xaxis().set_visible(False)\n",
        "    ax.get_yaxis().set_visible(False)\n",
        "\n",
        "    # display reconstruction\n",
        "    ax = plt.subplot(2, n, i + 1 + n)\n",
        "    plt.imshow(decoded_imgs[i].reshape(28, 28))\n",
        "    plt.gray()\n",
        "    ax.get_xaxis().set_visible(False)\n",
        "    ax.get_yaxis().set_visible(False)\n",
        "plt.show()"
      ],
      "execution_count": null,
      "outputs": [
        {
          "output_type": "display_data",
          "data": {
            "image/png": "[encoded data removed]",
            "text/plain": [
              "<Figure size 1440x288 with 20 Axes>"
            ]
          },
          "metadata": {
            "tags": [],
            "needs_background": "light"
          }
        }
      ]
    }
  ]
}