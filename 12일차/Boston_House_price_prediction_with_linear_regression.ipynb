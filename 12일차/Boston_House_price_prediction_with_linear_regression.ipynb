{
  "nbformat": 4,
  "nbformat_minor": 0,
  "metadata": {
    "colab": {
      "name": "Boston House price prediction with linear regression.ipynb",
      "provenance": [],
      "collapsed_sections": []
    },
    "language_info": {
      "codemirror_mode": {
        "name": "ipython",
        "version": 3
      },
      "file_extension": ".py",
      "mimetype": "text/x-python",
      "name": "python",
      "nbconvert_exporter": "python",
      "pygments_lexer": "ipython3",
      "version": "3.6.6"
    },
    "kernelspec": {
      "name": "python3",
      "display_name": "Python 3"
    },
    "accelerator": "GPU"
  },
  "cells": [
    {
      "cell_type": "code",
      "metadata": {
        "id": "UqHDFjUaGvdF",
        "colab_type": "code",
        "colab": {
          "base_uri": "https://localhost:8080/",
          "height": 52
        },
        "outputId": "53943965-7594-4b5a-c431-34fc86de45de"
      },
      "source": [
        "import keras\n",
        "keras.__version__"
      ],
      "execution_count": null,
      "outputs": [
        {
          "output_type": "stream",
          "text": [
            "Using TensorFlow backend.\n"
          ],
          "name": "stderr"
        },
        {
          "output_type": "execute_result",
          "data": {
            "application/vnd.google.colaboratory.intrinsic": {
              "type": "string"
            },
            "text/plain": [
              "'2.3.1'"
            ]
          },
          "metadata": {
            "tags": []
          },
          "execution_count": 1
        }
      ]
    },
    {
      "cell_type": "code",
      "metadata": {
        "id": "ZPhdC0uyGvdK",
        "colab_type": "code",
        "colab": {
          "base_uri": "https://localhost:8080/",
          "height": 52
        },
        "outputId": "d72591b3-e9c1-47f2-80f5-f8c0af01fcbf"
      },
      "source": [
        "from keras.datasets import boston_housing\n",
        "(train_data, train_targets), (test_data, test_targets) =  boston_housing.load_data()"
      ],
      "execution_count": null,
      "outputs": [
        {
          "output_type": "stream",
          "text": [
            "Downloading data from https://s3.amazonaws.com/keras-datasets/boston_housing.npz\n",
            "57344/57026 [==============================] - 0s 2us/step\n"
          ],
          "name": "stdout"
        }
      ]
    },
    {
      "cell_type": "code",
      "metadata": {
        "id": "p9Icr5w7pWov",
        "colab_type": "code",
        "colab": {
          "base_uri": "https://localhost:8080/",
          "height": 34
        },
        "outputId": "2dff46ae-d106-4205-8f2c-3c900e3c3f19"
      },
      "source": [
        "print (train_data.shape, train_targets.shape, test_data.shape, test_targets.shape)"
      ],
      "execution_count": null,
      "outputs": [
        {
          "output_type": "stream",
          "text": [
            "(404, 13) (404,) (102, 13) (102,)\n"
          ],
          "name": "stdout"
        }
      ]
    },
    {
      "cell_type": "markdown",
      "metadata": {
        "id": "njRV9Adas6q_",
        "colab_type": "text"
      },
      "source": [
        ""
      ]
    },
    {
      "cell_type": "code",
      "metadata": {
        "id": "Neyix7Z6pPhw",
        "colab_type": "code",
        "colab": {
          "base_uri": "https://localhost:8080/",
          "height": 52
        },
        "outputId": "b31f7422-562e-4132-c64b-9e950c5f27cc"
      },
      "source": [
        "print (train_data[0], train_targets[0])"
      ],
      "execution_count": null,
      "outputs": [
        {
          "output_type": "stream",
          "text": [
            "[  1.23247   0.        8.14      0.        0.538     6.142    91.7\n",
            "   3.9769    4.      307.       21.      396.9      18.72   ] 15.2\n"
          ],
          "name": "stdout"
        }
      ]
    },
    {
      "cell_type": "code",
      "metadata": {
        "id": "y5c2uKqPGvdM",
        "colab_type": "code",
        "colab": {
          "base_uri": "https://localhost:8080/",
          "height": 34
        },
        "outputId": "fac3d633-4da8-4a62-dfce-3962369ffe54"
      },
      "source": [
        "print (train_targets[0])"
      ],
      "execution_count": null,
      "outputs": [
        {
          "output_type": "stream",
          "text": [
            "15.2\n"
          ],
          "name": "stdout"
        }
      ]
    },
    {
      "cell_type": "markdown",
      "metadata": {
        "id": "E7kbL2rlGvdQ",
        "colab_type": "text"
      },
      "source": [
        "여기서 볼 수 있듯이 404개의 훈련 샘플과 102개의 테스트 샘플이 있고 모두 13개의 수치 특성을 가지고 있습니다. 13개의 특성은 다음과 같습니다:\n",
        "\n",
        "1. Per capita crime rate.\n",
        "2. Proportion of residential land zoned for lots over 25,000 square feet.\n",
        "3. Proportion of non-retail business acres per town.\n",
        "4. Charles River dummy variable (= 1 if tract bounds river; 0 otherwise).\n",
        "5. Nitric oxides concentration (parts per 10 million).\n",
        "6. Average number of rooms per dwelling.\n",
        "7. Proportion of owner-occupied units built prior to 1940.\n",
        "8. Weighted distances to five Boston employment centres.\n",
        "9. Index of accessibility to radial highways.\n",
        "10. Full-value property-tax rate per $10,000.\n",
        "11. Pupil-teacher ratio by town.\n",
        "12. 1000 * (Bk - 0.63) ** 2 where Bk is the proportion of Black people by town.\n",
        "13. % lower status of the population.\n",
        "\n",
        "타깃은 주택의 중간 가격으로 천달러 단위입니다:"
      ]
    },
    {
      "cell_type": "markdown",
      "metadata": {
        "id": "w90hvrDLLFVZ",
        "colab_type": "text"
      },
      "source": [
        "Data Normalization "
      ]
    },
    {
      "cell_type": "code",
      "metadata": {
        "id": "usLTgkuQGvdT",
        "colab_type": "code",
        "colab": {}
      },
      "source": [
        "mean = train_data.mean(axis=0)\n",
        "train_data -= mean\n",
        "std = train_data.std(axis=0)\n",
        "train_data /= std\n",
        "\n",
        "test_data -= mean\n",
        "test_data /= std"
      ],
      "execution_count": null,
      "outputs": []
    },
    {
      "cell_type": "code",
      "metadata": {
        "id": "blFsYPngO4xH",
        "colab_type": "code",
        "colab": {
          "base_uri": "https://localhost:8080/",
          "height": 89
        },
        "outputId": "ea5ef99d-d535-49f2-b169-f0d0d79a5052"
      },
      "source": [
        "mean"
      ],
      "execution_count": null,
      "outputs": [
        {
          "output_type": "execute_result",
          "data": {
            "text/plain": [
              "array([3.74511057e+00, 1.14801980e+01, 1.11044307e+01, 6.18811881e-02,\n",
              "       5.57355941e-01, 6.26708168e+00, 6.90106436e+01, 3.74027079e+00,\n",
              "       9.44059406e+00, 4.05898515e+02, 1.84759901e+01, 3.54783168e+02,\n",
              "       1.27408168e+01])"
            ]
          },
          "metadata": {
            "tags": []
          },
          "execution_count": 8
        }
      ]
    },
    {
      "cell_type": "code",
      "metadata": {
        "id": "_Jy6r6MgO75I",
        "colab_type": "code",
        "colab": {
          "base_uri": "https://localhost:8080/",
          "height": 52
        },
        "outputId": "2afbce29-d5b2-442b-f898-de04fe37bde3"
      },
      "source": [
        "print (train_data[0], train_targets[0])"
      ],
      "execution_count": null,
      "outputs": [
        {
          "output_type": "stream",
          "text": [
            "[  1.23247   0.        8.14      0.        0.538     6.142    91.7\n",
            "   3.9769    4.      307.       21.      396.9      18.72   ] 15.2\n"
          ],
          "name": "stdout"
        }
      ]
    },
    {
      "cell_type": "code",
      "metadata": {
        "id": "u9msJIjpGvdW",
        "colab_type": "code",
        "colab": {}
      },
      "source": [
        "from keras import models\n",
        "from keras import layers\n",
        "\n",
        "def build_model():\n",
        "    # 동일한 모델을 여러 번 생성할 것이므로 함수를 만들어 사용합니다\n",
        "    model = models.Sequential()\n",
        "    model.add(layers.BatchNormalization())\n",
        "    model.add(layers.Dense(64, activation='relu',\n",
        "                           input_shape=(train_data.shape[1],)))\n",
        "    model.add(layers.Dense(32, activation='relu'))\n",
        "    model.add(layers.Dense(1))\n",
        "    model.compile(optimizer='rmsprop', loss='mse', metrics=['mae'])\n",
        "    return model"
      ],
      "execution_count": null,
      "outputs": []
    },
    {
      "cell_type": "markdown",
      "metadata": {
        "id": "1Cgsm0f9LahI",
        "colab_type": "text"
      },
      "source": [
        "마지막 레어에는 Activation function이 없습니다. 회귀 문제(어떤 값을 예측하는 문제)를 풀때 이와 같이 구성합니다.\n",
        "평균 제곱 오차 (mean squared error)\n",
        "절대 평균 오차 (mean absolute error)\n",
        "\n",
        "0.5 indicate $500"
      ]
    },
    {
      "cell_type": "markdown",
      "metadata": {
        "id": "N6yCqXwKL2Iu",
        "colab_type": "text"
      },
      "source": [
        "**K-Fold Validation**"
      ]
    },
    {
      "cell_type": "code",
      "metadata": {
        "id": "MXlk05a0Gvda",
        "colab_type": "code",
        "colab": {
          "base_uri": "https://localhost:8080/",
          "height": 1000
        },
        "outputId": "a6faa772-5b0e-4482-91d0-a348cbfe72e3"
      },
      "source": [
        "import numpy as np\n",
        "\n",
        "k = 4\n",
        "\n",
        "num_val_samples = len(train_data) // k\n",
        "num_epochs = 10\n",
        "all_scores = []\n",
        "for i in range(k):\n",
        "    print('처리중인 폴드 #', i)\n",
        "    # 검증 데이터 준비: k번째 분할\n",
        "    val_data = train_data[i * num_val_samples: (i + 1) * num_val_samples]\n",
        "    val_targets = train_targets[i * num_val_samples: (i + 1) * num_val_samples]\n",
        "\n",
        "    # 훈련 데이터 준비: 다른 분할 전체\n",
        "    partial_train_data = np.concatenate(\n",
        "        [train_data[:i * num_val_samples],\n",
        "         train_data[(i + 1) * num_val_samples:]\n",
        "        ], axis=0)\n",
        "\n",
        "    \n",
        "    partial_train_targets = np.concatenate(\n",
        "        [train_targets[:i * num_val_samples],\n",
        "         train_targets[(i + 1) * num_val_samples:]],\n",
        "        axis=0)\n",
        "\n",
        "    # 케라스 모델 구성(컴파일 포함)\n",
        "    model = build_model()\n",
        "    # 모델 훈련(verbose=0 이므로 훈련 과정이 출력되지 않습니다)\n",
        "    model.fit(partial_train_data, partial_train_targets,\n",
        "              epochs=num_epochs, batch_size=10, verbose=1)\n",
        "    \n",
        "    # 검증 세트로 모델 평가\n",
        "    val_mse, val_mae = model.evaluate(val_data, val_targets, verbose=0)\n",
        "    all_scores.append(val_mae)"
      ],
      "execution_count": null,
      "outputs": [
        {
          "output_type": "stream",
          "text": [
            "처리중인 폴드 # 0\n",
            "Epoch 1/10\n",
            "303/303 [==============================] - 2s 6ms/step - loss: 499.0270 - mae: 20.4416\n",
            "Epoch 2/10\n",
            "303/303 [==============================] - 0s 277us/step - loss: 331.6504 - mae: 16.0167\n",
            "Epoch 3/10\n",
            "303/303 [==============================] - 0s 274us/step - loss: 178.0961 - mae: 10.6489\n",
            "Epoch 4/10\n",
            "303/303 [==============================] - 0s 292us/step - loss: 95.7569 - mae: 7.6571\n",
            "Epoch 5/10\n",
            "303/303 [==============================] - 0s 293us/step - loss: 66.5982 - mae: 6.2317\n",
            "Epoch 6/10\n",
            "303/303 [==============================] - 0s 281us/step - loss: 56.1244 - mae: 5.6615\n",
            "Epoch 7/10\n",
            "303/303 [==============================] - 0s 277us/step - loss: 45.0523 - mae: 5.0580\n",
            "Epoch 8/10\n",
            "303/303 [==============================] - 0s 333us/step - loss: 48.0588 - mae: 5.2807\n",
            "Epoch 9/10\n",
            "303/303 [==============================] - 0s 309us/step - loss: 33.8512 - mae: 4.3538\n",
            "Epoch 10/10\n",
            "303/303 [==============================] - 0s 301us/step - loss: 37.8146 - mae: 4.6057\n",
            "처리중인 폴드 # 1\n",
            "Epoch 1/10\n",
            "303/303 [==============================] - 0s 638us/step - loss: 507.5626 - mae: 20.5675\n",
            "Epoch 2/10\n",
            "303/303 [==============================] - 0s 282us/step - loss: 318.2823 - mae: 15.6472\n",
            "Epoch 3/10\n",
            "303/303 [==============================] - 0s 321us/step - loss: 141.8169 - mae: 9.1568\n",
            "Epoch 4/10\n",
            "303/303 [==============================] - 0s 285us/step - loss: 77.5226 - mae: 6.4929\n",
            "Epoch 5/10\n",
            "303/303 [==============================] - 0s 286us/step - loss: 66.4080 - mae: 5.8903\n",
            "Epoch 6/10\n",
            "303/303 [==============================] - 0s 287us/step - loss: 52.6880 - mae: 5.0816\n",
            "Epoch 7/10\n",
            "303/303 [==============================] - 0s 277us/step - loss: 46.7605 - mae: 4.9661\n",
            "Epoch 8/10\n",
            "303/303 [==============================] - 0s 287us/step - loss: 43.4508 - mae: 4.8592\n",
            "Epoch 9/10\n",
            "303/303 [==============================] - 0s 305us/step - loss: 41.8916 - mae: 4.5983\n",
            "Epoch 10/10\n",
            "303/303 [==============================] - 0s 275us/step - loss: 40.7488 - mae: 4.7356\n",
            "처리중인 폴드 # 2\n",
            "Epoch 1/10\n",
            "303/303 [==============================] - 0s 653us/step - loss: 534.2838 - mae: 21.0599\n",
            "Epoch 2/10\n",
            "303/303 [==============================] - 0s 309us/step - loss: 389.4771 - mae: 17.3720\n",
            "Epoch 3/10\n",
            "303/303 [==============================] - 0s 305us/step - loss: 211.3416 - mae: 12.1083\n",
            "Epoch 4/10\n",
            "303/303 [==============================] - 0s 283us/step - loss: 111.9490 - mae: 8.0539\n",
            "Epoch 5/10\n",
            "303/303 [==============================] - 0s 284us/step - loss: 78.5498 - mae: 6.7396\n",
            "Epoch 6/10\n",
            "303/303 [==============================] - 0s 283us/step - loss: 56.3089 - mae: 5.6307\n",
            "Epoch 7/10\n",
            "303/303 [==============================] - 0s 290us/step - loss: 45.8745 - mae: 5.0731\n",
            "Epoch 8/10\n",
            "303/303 [==============================] - 0s 308us/step - loss: 42.4770 - mae: 4.9728\n",
            "Epoch 9/10\n",
            "303/303 [==============================] - 0s 276us/step - loss: 41.3544 - mae: 4.9381\n",
            "Epoch 10/10\n",
            "303/303 [==============================] - 0s 282us/step - loss: 35.0524 - mae: 4.4775\n",
            "처리중인 폴드 # 3\n",
            "Epoch 1/10\n",
            "303/303 [==============================] - 0s 643us/step - loss: 472.1805 - mae: 19.8870\n",
            "Epoch 2/10\n",
            "303/303 [==============================] - 0s 283us/step - loss: 322.2991 - mae: 15.8526\n",
            "Epoch 3/10\n",
            "303/303 [==============================] - 0s 305us/step - loss: 166.3983 - mae: 10.4597\n",
            "Epoch 4/10\n",
            "303/303 [==============================] - 0s 281us/step - loss: 98.8530 - mae: 7.6505\n",
            "Epoch 5/10\n",
            "303/303 [==============================] - 0s 294us/step - loss: 70.4398 - mae: 6.3509\n",
            "Epoch 6/10\n",
            "303/303 [==============================] - 0s 288us/step - loss: 56.3130 - mae: 5.5358\n",
            "Epoch 7/10\n",
            "303/303 [==============================] - 0s 281us/step - loss: 48.4466 - mae: 5.2356\n",
            "Epoch 8/10\n",
            "303/303 [==============================] - 0s 277us/step - loss: 40.4382 - mae: 4.4737\n",
            "Epoch 9/10\n",
            "303/303 [==============================] - 0s 309us/step - loss: 36.6078 - mae: 4.4337\n",
            "Epoch 10/10\n",
            "303/303 [==============================] - 0s 282us/step - loss: 34.1029 - mae: 4.2265\n"
          ],
          "name": "stdout"
        }
      ]
    },
    {
      "cell_type": "code",
      "metadata": {
        "id": "eh31OUJSGvdd",
        "colab_type": "code",
        "colab": {
          "base_uri": "https://localhost:8080/",
          "height": 34
        },
        "outputId": "8f33c4d4-3de6-4911-9cf8-36541edddbc8"
      },
      "source": [
        "all_scores"
      ],
      "execution_count": null,
      "outputs": [
        {
          "output_type": "execute_result",
          "data": {
            "text/plain": [
              "[3.482288122177124, 3.9042980670928955, 3.8140201568603516, 3.5640647411346436]"
            ]
          },
          "metadata": {
            "tags": []
          },
          "execution_count": 9
        }
      ]
    },
    {
      "cell_type": "code",
      "metadata": {
        "id": "-gwFdePGGvdf",
        "colab_type": "code",
        "colab": {
          "base_uri": "https://localhost:8080/",
          "height": 34
        },
        "outputId": "b644965e-0258-4868-e966-49ba2492d492"
      },
      "source": [
        "np.mean(all_scores)"
      ],
      "execution_count": null,
      "outputs": [
        {
          "output_type": "execute_result",
          "data": {
            "text/plain": [
              "3.6911677718162537"
            ]
          },
          "metadata": {
            "tags": []
          },
          "execution_count": 10
        }
      ]
    },
    {
      "cell_type": "code",
      "metadata": {
        "id": "MdGdu3jKveRp",
        "colab_type": "code",
        "colab": {}
      },
      "source": [
        "# 아래 모델은 k fold cross validation에서 마지막에 훈련된 모델입니다.\n",
        "# 본 실습에서 별도의 test data set을 구성하지 않았기 때문에, vadliation data set을 이용해 house price 를 예측prediction 해보겠습니다.\n",
        "\n",
        "predictedHousePrice = model.predict(val_data)"
      ],
      "execution_count": null,
      "outputs": []
    },
    {
      "cell_type": "code",
      "metadata": {
        "id": "H1ctCdnGWzY0",
        "colab_type": "code",
        "colab": {
          "base_uri": "https://localhost:8080/",
          "height": 35
        },
        "outputId": "12aa5efd-2d03-4e9b-a65a-67f0154acab2"
      },
      "source": [
        "# validation set 은 100개의 데이터 셋으로 구성되어 있습니다만 아래와 같이 1대1 비교를 해보겠습니다.\n",
        "# val_data[0] 에 대한 예측값 predictedHousePrice[0]\n",
        "# val_data[0] 에 대한 실제값 val_targets[0]\n",
        "print (predictedHousePrice[0], val_targets[0])"
      ],
      "execution_count": null,
      "outputs": [
        {
          "output_type": "stream",
          "text": [
            "[28.648996] 36.2\n"
          ],
          "name": "stdout"
        }
      ]
    },
    {
      "cell_type": "code",
      "metadata": {
        "id": "XB0TV5IitcUF",
        "colab_type": "code",
        "colab": {}
      },
      "source": [
        "new_data = [1.47, 0.0, 8.14, 0.0, 0.53, 6.1, 91.7, 4.9769,  4.12,  307.6 ,  22,  296.9, 18.72]"
      ],
      "execution_count": null,
      "outputs": []
    },
    {
      "cell_type": "code",
      "metadata": {
        "id": "kh8kQU9vtuqq",
        "colab_type": "code",
        "colab": {
          "base_uri": "https://localhost:8080/",
          "height": 34
        },
        "outputId": "18801b18-f274-41fd-e256-7710ad00a93e"
      },
      "source": [
        "new_data"
      ],
      "execution_count": null,
      "outputs": [
        {
          "output_type": "execute_result",
          "data": {
            "text/plain": [
              "[1.47, 0.0, 8.14, 0.0, 0.53, 6.1, 91.7, 4.9769, 4.12, 307.6, 22, 296.9, 18.72]"
            ]
          },
          "metadata": {
            "tags": []
          },
          "execution_count": 17
        }
      ]
    },
    {
      "cell_type": "code",
      "metadata": {
        "id": "SbTaFy0tt_FI",
        "colab_type": "code",
        "colab": {}
      },
      "source": [
        "new_data -= mean\n",
        "new_data /= std"
      ],
      "execution_count": null,
      "outputs": []
    },
    {
      "cell_type": "code",
      "metadata": {
        "id": "9q8yTSgiIKcE",
        "colab_type": "code",
        "colab": {
          "base_uri": "https://localhost:8080/",
          "height": 34
        },
        "outputId": "471a2f37-937d-441c-e3ef-b783206db7fb"
      },
      "source": [
        "print (new_data.shape)"
      ],
      "execution_count": null,
      "outputs": [
        {
          "output_type": "stream",
          "text": [
            "(13,)\n"
          ],
          "name": "stdout"
        }
      ]
    },
    {
      "cell_type": "code",
      "metadata": {
        "id": "bJEPRB9fuDmp",
        "colab_type": "code",
        "colab": {}
      },
      "source": [
        "new_data = np.asarray(new_data)"
      ],
      "execution_count": null,
      "outputs": []
    },
    {
      "cell_type": "code",
      "metadata": {
        "id": "MV6kjcR-uMYp",
        "colab_type": "code",
        "colab": {}
      },
      "source": [
        "new_data = np.expand_dims(new_data, axis=0)"
      ],
      "execution_count": null,
      "outputs": []
    },
    {
      "cell_type": "code",
      "metadata": {
        "id": "GabovQGrIWuD",
        "colab_type": "code",
        "colab": {
          "base_uri": "https://localhost:8080/",
          "height": 35
        },
        "outputId": "21a8b00d-49b1-45d3-89e4-c347f38aad0b"
      },
      "source": [
        "print (new_data.shape)"
      ],
      "execution_count": null,
      "outputs": [
        {
          "output_type": "stream",
          "text": [
            "(1, 13)\n"
          ],
          "name": "stdout"
        }
      ]
    },
    {
      "cell_type": "code",
      "metadata": {
        "id": "cq3G7zX9tvhf",
        "colab_type": "code",
        "colab": {
          "base_uri": "https://localhost:8080/",
          "height": 35
        },
        "outputId": "73f80fd8-0df1-4361-912b-239cb3359ce5"
      },
      "source": [
        "model.predict(new_data)"
      ],
      "execution_count": null,
      "outputs": [
        {
          "output_type": "execute_result",
          "data": {
            "text/plain": [
              "array([[12.910594]], dtype=float32)"
            ]
          },
          "metadata": {
            "tags": []
          },
          "execution_count": 23
        }
      ]
    },
    {
      "cell_type": "code",
      "metadata": {
        "id": "AQwirh-bD06Z",
        "colab_type": "code",
        "colab": {}
      },
      "source": [
        ""
      ],
      "execution_count": null,
      "outputs": []
    }
  ]
}