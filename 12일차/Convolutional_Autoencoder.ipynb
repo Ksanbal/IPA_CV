{
  "nbformat": 4,
  "nbformat_minor": 0,
  "metadata": {
    "colab": {
      "name": "Convolutional_Autoencoder.ipynb",
      "provenance": [],
      "collapsed_sections": []
    },
    "kernelspec": {
      "name": "python3",
      "display_name": "Python 3"
    },
    "accelerator": "GPU"
  },
  "cells": [
    {
      "cell_type": "code",
      "metadata": {
        "id": "elKZAac0IAlt",
        "colab_type": "code",
        "colab": {
          "base_uri": "https://localhost:8080/",
          "height": 71
        },
        "outputId": "a1429955-d015-4290-bdbe-5c6ef36204ec"
      },
      "source": [
        "from keras.datasets import mnist\n",
        "import numpy as np\n",
        "\n",
        "(x_train, _), (x_test, _) = mnist.load_data()\n",
        "\n",
        "x_train = x_train.astype('float32') / 255.\n",
        "x_test = x_test.astype('float32') / 255.\n",
        "x_train = np.reshape(x_train, (len(x_train), 28, 28, 1))  # adapt this if using `channels_first` image data format\n",
        "x_test = np.reshape(x_test, (len(x_test), 28, 28, 1))  # adapt this if using `channels_first` image data format"
      ],
      "execution_count": null,
      "outputs": [
        {
          "output_type": "stream",
          "text": [
            "Using TensorFlow backend.\n"
          ],
          "name": "stderr"
        },
        {
          "output_type": "stream",
          "text": [
            "Downloading data from https://s3.amazonaws.com/img-datasets/mnist.npz\n",
            "11493376/11490434 [==============================] - 1s 0us/step\n"
          ],
          "name": "stdout"
        }
      ]
    },
    {
      "cell_type": "code",
      "metadata": {
        "id": "r1J2XfmAIFod",
        "colab_type": "code",
        "colab": {
          "base_uri": "https://localhost:8080/",
          "height": 665
        },
        "outputId": "7adfdbfb-472c-423b-a3b1-ea376c9e37e9"
      },
      "source": [
        "from keras.layers import Input, Dense, Conv2D, MaxPooling2D, UpSampling2D\n",
        "from keras.models import Model\n",
        "from keras import backend as K\n",
        "\n",
        "# (28, 28, 1)\n",
        "input_img = Input(shape=(28, 28, 1)) \n",
        "\n",
        "x = Conv2D(16, (3, 3), activation='relu', padding='same')(input_img)\n",
        "# (Batch, 28,  28, 16)\n",
        "x = MaxPooling2D((2, 2), padding='same')(x)\n",
        "# (Batch, 14, 14, 16)\n",
        "x = Conv2D(8, (3, 3), activation='relu', padding='same')(x)\n",
        "# (Batch, 14, 14, 8)\n",
        "x = MaxPooling2D((2, 2), padding='same')(x)\n",
        "# (Batch, 7, 7, 8)\n",
        "x = Conv2D(8, (3, 3), activation='relu', padding='same')(x)\n",
        "# (Batch, 7, 7, 8)\n",
        "encoded = MaxPooling2D((2, 2), padding='same')(x)\n",
        "# (Batch, 7, 7, 8) -> # (Batch, 8, 8, 8) -> # (Batch, 4, 4, 8)\n",
        "\n",
        "x = Conv2D(8, (3, 3), activation='relu', padding='same')(encoded)\n",
        "# (Batch, 4, 4, 8)\n",
        "x = UpSampling2D((2, 2))(x)\n",
        "# (Batch, 8, 8, 8)\n",
        "x = Conv2D(16, (3, 3), activation='relu', padding='same')(x)\n",
        "# (Batch, 8, 8, 16)\n",
        "x = UpSampling2D((2, 2))(x)\n",
        "\n",
        "# (Batch, 16, 16, 16)\n",
        "x = Conv2D(32, (3, 3), activation='relu')(x)\n",
        "# (Batch, 14, 14, 32)\n",
        "\n",
        "x = UpSampling2D((2, 2))(x)\n",
        "# (Batch, 28, 28, 32)\n",
        "\n",
        "decoded = Conv2D(1, (1, 1), activation='sigmoid', padding='same')(x)\n",
        "# (Batch, 28, 28, 1)\n",
        "# (28, 28, 1)\n",
        "\n",
        "autoencoder = Model(input_img, decoded)\n",
        "autoencoder.compile(optimizer='adadelta', loss='binary_crossentropy')\n",
        "\n",
        "autoencoder.summary()"
      ],
      "execution_count": null,
      "outputs": [
        {
          "output_type": "stream",
          "text": [
            "Model: \"model_1\"\n",
            "_________________________________________________________________\n",
            "Layer (type)                 Output Shape              Param #   \n",
            "=================================================================\n",
            "input_1 (InputLayer)         (None, 28, 28, 1)         0         \n",
            "_________________________________________________________________\n",
            "conv2d_1 (Conv2D)            (None, 28, 28, 16)        160       \n",
            "_________________________________________________________________\n",
            "max_pooling2d_1 (MaxPooling2 (None, 14, 14, 16)        0         \n",
            "_________________________________________________________________\n",
            "conv2d_2 (Conv2D)            (None, 14, 14, 8)         1160      \n",
            "_________________________________________________________________\n",
            "max_pooling2d_2 (MaxPooling2 (None, 7, 7, 8)           0         \n",
            "_________________________________________________________________\n",
            "conv2d_3 (Conv2D)            (None, 7, 7, 8)           584       \n",
            "_________________________________________________________________\n",
            "max_pooling2d_3 (MaxPooling2 (None, 4, 4, 8)           0         \n",
            "_________________________________________________________________\n",
            "conv2d_4 (Conv2D)            (None, 4, 4, 8)           584       \n",
            "_________________________________________________________________\n",
            "up_sampling2d_1 (UpSampling2 (None, 8, 8, 8)           0         \n",
            "_________________________________________________________________\n",
            "conv2d_5 (Conv2D)            (None, 8, 8, 16)          1168      \n",
            "_________________________________________________________________\n",
            "up_sampling2d_2 (UpSampling2 (None, 16, 16, 16)        0         \n",
            "_________________________________________________________________\n",
            "conv2d_6 (Conv2D)            (None, 14, 14, 32)        4640      \n",
            "_________________________________________________________________\n",
            "up_sampling2d_3 (UpSampling2 (None, 28, 28, 32)        0         \n",
            "_________________________________________________________________\n",
            "conv2d_7 (Conv2D)            (None, 28, 28, 1)         33        \n",
            "=================================================================\n",
            "Total params: 8,329\n",
            "Trainable params: 8,329\n",
            "Non-trainable params: 0\n",
            "_________________________________________________________________\n"
          ],
          "name": "stdout"
        }
      ]
    },
    {
      "cell_type": "code",
      "metadata": {
        "id": "Gj7pNdSvIHZD",
        "colab_type": "code",
        "colab": {
          "base_uri": "https://localhost:8080/",
          "height": 1000
        },
        "outputId": "40fb3b93-da9f-4e5a-e50e-01f240473565"
      },
      "source": [
        "autoencoder.fit(x_train, x_train,\n",
        "                epochs=100,\n",
        "                batch_size=128,\n",
        "                shuffle=True,\n",
        "                validation_data=(x_test, x_test))"
      ],
      "execution_count": null,
      "outputs": [
        {
          "output_type": "stream",
          "text": [
            "Train on 60000 samples, validate on 10000 samples\n",
            "Epoch 1/100\n",
            "60000/60000 [==============================] - 9s 152us/step - loss: 0.2183 - val_loss: 0.1779\n",
            "Epoch 2/100\n",
            "60000/60000 [==============================] - 3s 46us/step - loss: 0.1659 - val_loss: 0.1583\n",
            "Epoch 3/100\n",
            "60000/60000 [==============================] - 3s 46us/step - loss: 0.1553 - val_loss: 0.1529\n",
            "Epoch 4/100\n",
            "60000/60000 [==============================] - 3s 46us/step - loss: 0.1499 - val_loss: 0.1472\n",
            "Epoch 5/100\n",
            "60000/60000 [==============================] - 3s 46us/step - loss: 0.1464 - val_loss: 0.1458\n",
            "Epoch 6/100\n",
            "60000/60000 [==============================] - 3s 46us/step - loss: 0.1439 - val_loss: 0.1385\n",
            "Epoch 7/100\n",
            "60000/60000 [==============================] - 3s 46us/step - loss: 0.1420 - val_loss: 0.1383\n",
            "Epoch 8/100\n",
            "60000/60000 [==============================] - 3s 46us/step - loss: 0.1405 - val_loss: 0.1404\n",
            "Epoch 9/100\n",
            "60000/60000 [==============================] - 3s 46us/step - loss: 0.1392 - val_loss: 0.1373\n",
            "Epoch 10/100\n",
            "60000/60000 [==============================] - 3s 46us/step - loss: 0.1381 - val_loss: 0.1374\n",
            "Epoch 11/100\n",
            "60000/60000 [==============================] - 3s 46us/step - loss: 0.1374 - val_loss: 0.1360\n",
            "Epoch 12/100\n",
            "60000/60000 [==============================] - 3s 46us/step - loss: 0.1367 - val_loss: 0.1372\n",
            "Epoch 13/100\n",
            "60000/60000 [==============================] - 3s 46us/step - loss: 0.1360 - val_loss: 0.1343\n",
            "Epoch 14/100\n",
            "60000/60000 [==============================] - 3s 46us/step - loss: 0.1354 - val_loss: 0.1328\n",
            "Epoch 15/100\n",
            "60000/60000 [==============================] - 3s 46us/step - loss: 0.1347 - val_loss: 0.1314\n",
            "Epoch 16/100\n",
            "60000/60000 [==============================] - 3s 46us/step - loss: 0.1342 - val_loss: 0.1366\n",
            "Epoch 17/100\n",
            "60000/60000 [==============================] - 3s 46us/step - loss: 0.1336 - val_loss: 0.1322\n",
            "Epoch 18/100\n",
            "60000/60000 [==============================] - 3s 46us/step - loss: 0.1333 - val_loss: 0.1315\n",
            "Epoch 19/100\n",
            "60000/60000 [==============================] - 3s 46us/step - loss: 0.1329 - val_loss: 0.1318\n",
            "Epoch 20/100\n",
            "60000/60000 [==============================] - 3s 46us/step - loss: 0.1327 - val_loss: 0.1316\n",
            "Epoch 21/100\n",
            "60000/60000 [==============================] - 3s 46us/step - loss: 0.1323 - val_loss: 0.1346\n",
            "Epoch 22/100\n",
            "60000/60000 [==============================] - 3s 46us/step - loss: 0.1319 - val_loss: 0.1301\n",
            "Epoch 23/100\n",
            "60000/60000 [==============================] - 3s 48us/step - loss: 0.1316 - val_loss: 0.1298\n",
            "Epoch 24/100\n",
            "60000/60000 [==============================] - 3s 48us/step - loss: 0.1313 - val_loss: 0.1313\n",
            "Epoch 25/100\n",
            "60000/60000 [==============================] - 3s 47us/step - loss: 0.1312 - val_loss: 0.1303\n",
            "Epoch 26/100\n",
            "60000/60000 [==============================] - 3s 47us/step - loss: 0.1310 - val_loss: 0.1311\n",
            "Epoch 27/100\n",
            "60000/60000 [==============================] - 3s 46us/step - loss: 0.1307 - val_loss: 0.1302\n",
            "Epoch 28/100\n",
            "60000/60000 [==============================] - 3s 46us/step - loss: 0.1306 - val_loss: 0.1294\n",
            "Epoch 29/100\n",
            "60000/60000 [==============================] - 3s 46us/step - loss: 0.1303 - val_loss: 0.1293\n",
            "Epoch 30/100\n",
            "60000/60000 [==============================] - 3s 46us/step - loss: 0.1300 - val_loss: 0.1281\n",
            "Epoch 31/100\n",
            "60000/60000 [==============================] - 3s 46us/step - loss: 0.1295 - val_loss: 0.1295\n",
            "Epoch 32/100\n",
            "60000/60000 [==============================] - 3s 47us/step - loss: 0.1295 - val_loss: 0.1294\n",
            "Epoch 33/100\n",
            "60000/60000 [==============================] - 3s 46us/step - loss: 0.1294 - val_loss: 0.1317\n",
            "Epoch 34/100\n",
            "60000/60000 [==============================] - 3s 47us/step - loss: 0.1293 - val_loss: 0.1311\n",
            "Epoch 35/100\n",
            "60000/60000 [==============================] - 3s 48us/step - loss: 0.1291 - val_loss: 0.1282\n",
            "Epoch 36/100\n",
            "60000/60000 [==============================] - 3s 49us/step - loss: 0.1289 - val_loss: 0.1273\n",
            "Epoch 37/100\n",
            "60000/60000 [==============================] - 3s 49us/step - loss: 0.1289 - val_loss: 0.1272\n",
            "Epoch 38/100\n",
            "60000/60000 [==============================] - 3s 47us/step - loss: 0.1288 - val_loss: 0.1273\n",
            "Epoch 39/100\n",
            "60000/60000 [==============================] - 3s 46us/step - loss: 0.1287 - val_loss: 0.1279\n",
            "Epoch 40/100\n",
            "60000/60000 [==============================] - 3s 46us/step - loss: 0.1285 - val_loss: 0.1273\n",
            "Epoch 41/100\n",
            "60000/60000 [==============================] - 3s 46us/step - loss: 0.1284 - val_loss: 0.1282\n",
            "Epoch 42/100\n",
            "60000/60000 [==============================] - 3s 46us/step - loss: 0.1283 - val_loss: 0.1270\n",
            "Epoch 43/100\n",
            "60000/60000 [==============================] - 3s 46us/step - loss: 0.1281 - val_loss: 0.1284\n",
            "Epoch 44/100\n",
            "60000/60000 [==============================] - 3s 46us/step - loss: 0.1280 - val_loss: 0.1273\n",
            "Epoch 45/100\n",
            "60000/60000 [==============================] - 3s 46us/step - loss: 0.1280 - val_loss: 0.1261\n",
            "Epoch 46/100\n",
            "60000/60000 [==============================] - 3s 46us/step - loss: 0.1276 - val_loss: 0.1280\n",
            "Epoch 47/100\n",
            "60000/60000 [==============================] - 3s 46us/step - loss: 0.1276 - val_loss: 0.1265\n",
            "Epoch 48/100\n",
            "60000/60000 [==============================] - 3s 46us/step - loss: 0.1275 - val_loss: 0.1250\n",
            "Epoch 49/100\n",
            "60000/60000 [==============================] - 3s 46us/step - loss: 0.1273 - val_loss: 0.1283\n",
            "Epoch 50/100\n",
            "60000/60000 [==============================] - 3s 46us/step - loss: 0.1272 - val_loss: 0.1273\n",
            "Epoch 51/100\n",
            "60000/60000 [==============================] - 3s 46us/step - loss: 0.1271 - val_loss: 0.1255\n",
            "Epoch 52/100\n",
            "60000/60000 [==============================] - 3s 46us/step - loss: 0.1272 - val_loss: 0.1254\n",
            "Epoch 53/100\n",
            "60000/60000 [==============================] - 3s 47us/step - loss: 0.1271 - val_loss: 0.1270\n",
            "Epoch 54/100\n",
            "60000/60000 [==============================] - 3s 46us/step - loss: 0.1268 - val_loss: 0.1258\n",
            "Epoch 55/100\n",
            "60000/60000 [==============================] - 3s 47us/step - loss: 0.1268 - val_loss: 0.1256\n",
            "Epoch 56/100\n",
            "60000/60000 [==============================] - 3s 46us/step - loss: 0.1269 - val_loss: 0.1264\n",
            "Epoch 57/100\n",
            "60000/60000 [==============================] - 3s 46us/step - loss: 0.1267 - val_loss: 0.1263\n",
            "Epoch 58/100\n",
            "60000/60000 [==============================] - 3s 46us/step - loss: 0.1267 - val_loss: 0.1246\n",
            "Epoch 59/100\n",
            "60000/60000 [==============================] - 3s 46us/step - loss: 0.1265 - val_loss: 0.1250\n",
            "Epoch 60/100\n",
            "60000/60000 [==============================] - 3s 46us/step - loss: 0.1265 - val_loss: 0.1246\n",
            "Epoch 61/100\n",
            "60000/60000 [==============================] - 3s 46us/step - loss: 0.1265 - val_loss: 0.1270\n",
            "Epoch 62/100\n",
            "60000/60000 [==============================] - 3s 46us/step - loss: 0.1264 - val_loss: 0.1256\n",
            "Epoch 63/100\n",
            "60000/60000 [==============================] - 3s 46us/step - loss: 0.1263 - val_loss: 0.1265\n",
            "Epoch 64/100\n",
            "60000/60000 [==============================] - 3s 46us/step - loss: 0.1263 - val_loss: 0.1261\n",
            "Epoch 65/100\n",
            "60000/60000 [==============================] - 3s 46us/step - loss: 0.1262 - val_loss: 0.1266\n",
            "Epoch 66/100\n",
            "60000/60000 [==============================] - 3s 46us/step - loss: 0.1261 - val_loss: 0.1244\n",
            "Epoch 67/100\n",
            "60000/60000 [==============================] - 3s 46us/step - loss: 0.1260 - val_loss: 0.1249\n",
            "Epoch 68/100\n",
            "60000/60000 [==============================] - 3s 46us/step - loss: 0.1261 - val_loss: 0.1243\n",
            "Epoch 69/100\n",
            "60000/60000 [==============================] - 3s 46us/step - loss: 0.1260 - val_loss: 0.1258\n",
            "Epoch 70/100\n",
            "60000/60000 [==============================] - 3s 46us/step - loss: 0.1259 - val_loss: 0.1267\n",
            "Epoch 71/100\n",
            "60000/60000 [==============================] - 3s 46us/step - loss: 0.1259 - val_loss: 0.1255\n",
            "Epoch 72/100\n",
            "60000/60000 [==============================] - 3s 46us/step - loss: 0.1258 - val_loss: 0.1251\n",
            "Epoch 73/100\n",
            "60000/60000 [==============================] - 3s 46us/step - loss: 0.1257 - val_loss: 0.1245\n",
            "Epoch 74/100\n",
            "60000/60000 [==============================] - 3s 46us/step - loss: 0.1257 - val_loss: 0.1257\n",
            "Epoch 75/100\n",
            "60000/60000 [==============================] - 3s 46us/step - loss: 0.1257 - val_loss: 0.1242\n",
            "Epoch 76/100\n",
            "60000/60000 [==============================] - 3s 46us/step - loss: 0.1256 - val_loss: 0.1239\n",
            "Epoch 77/100\n",
            "60000/60000 [==============================] - 3s 46us/step - loss: 0.1255 - val_loss: 0.1254\n",
            "Epoch 78/100\n",
            "60000/60000 [==============================] - 3s 48us/step - loss: 0.1255 - val_loss: 0.1247\n",
            "Epoch 79/100\n",
            "60000/60000 [==============================] - 3s 46us/step - loss: 0.1253 - val_loss: 0.1262\n",
            "Epoch 80/100\n",
            "60000/60000 [==============================] - 3s 46us/step - loss: 0.1252 - val_loss: 0.1243\n",
            "Epoch 81/100\n",
            "60000/60000 [==============================] - 3s 46us/step - loss: 0.1252 - val_loss: 0.1238\n",
            "Epoch 82/100\n",
            "60000/60000 [==============================] - 3s 47us/step - loss: 0.1252 - val_loss: 0.1234\n",
            "Epoch 83/100\n",
            "60000/60000 [==============================] - 3s 47us/step - loss: 0.1252 - val_loss: 0.1236\n",
            "Epoch 84/100\n",
            "60000/60000 [==============================] - 3s 47us/step - loss: 0.1251 - val_loss: 0.1244\n",
            "Epoch 85/100\n",
            "60000/60000 [==============================] - 3s 46us/step - loss: 0.1252 - val_loss: 0.1249\n",
            "Epoch 86/100\n",
            "60000/60000 [==============================] - 3s 46us/step - loss: 0.1251 - val_loss: 0.1247\n",
            "Epoch 87/100\n",
            "60000/60000 [==============================] - 3s 45us/step - loss: 0.1251 - val_loss: 0.1252\n",
            "Epoch 88/100\n",
            "60000/60000 [==============================] - 3s 46us/step - loss: 0.1251 - val_loss: 0.1231\n",
            "Epoch 89/100\n",
            "60000/60000 [==============================] - 3s 46us/step - loss: 0.1249 - val_loss: 0.1232\n",
            "Epoch 90/100\n",
            "60000/60000 [==============================] - 3s 46us/step - loss: 0.1250 - val_loss: 0.1237\n",
            "Epoch 91/100\n",
            "60000/60000 [==============================] - 3s 46us/step - loss: 0.1250 - val_loss: 0.1234\n",
            "Epoch 92/100\n",
            "60000/60000 [==============================] - 3s 46us/step - loss: 0.1249 - val_loss: 0.1250\n",
            "Epoch 93/100\n",
            "60000/60000 [==============================] - 3s 46us/step - loss: 0.1248 - val_loss: 0.1231\n",
            "Epoch 94/100\n",
            "60000/60000 [==============================] - 3s 46us/step - loss: 0.1247 - val_loss: 0.1250\n",
            "Epoch 95/100\n",
            "60000/60000 [==============================] - 3s 46us/step - loss: 0.1248 - val_loss: 0.1243\n",
            "Epoch 96/100\n",
            "60000/60000 [==============================] - 3s 46us/step - loss: 0.1248 - val_loss: 0.1236\n",
            "Epoch 97/100\n",
            "60000/60000 [==============================] - 3s 46us/step - loss: 0.1247 - val_loss: 0.1238\n",
            "Epoch 98/100\n",
            "60000/60000 [==============================] - 3s 46us/step - loss: 0.1246 - val_loss: 0.1256\n",
            "Epoch 99/100\n",
            "60000/60000 [==============================] - 3s 46us/step - loss: 0.1246 - val_loss: 0.1250\n",
            "Epoch 100/100\n",
            "60000/60000 [==============================] - 3s 46us/step - loss: 0.1247 - val_loss: 0.1237\n"
          ],
          "name": "stdout"
        },
        {
          "output_type": "execute_result",
          "data": {
            "text/plain": [
              "<keras.callbacks.callbacks.History at 0x7f20af423240>"
            ]
          },
          "metadata": {
            "tags": []
          },
          "execution_count": 3
        }
      ]
    },
    {
      "cell_type": "code",
      "metadata": {
        "id": "iJbNhcWhIMtj",
        "colab_type": "code",
        "colab": {}
      },
      "source": [
        "decoded_imgs = autoencoder.predict(x_test)"
      ],
      "execution_count": null,
      "outputs": []
    },
    {
      "cell_type": "code",
      "metadata": {
        "id": "q-My4z1VI6ls",
        "colab_type": "code",
        "colab": {
          "base_uri": "https://localhost:8080/",
          "height": 149
        },
        "outputId": "da522e3e-5237-4899-90d8-20fdb9c4f400"
      },
      "source": [
        "# use Matplotlib (don't ask)\n",
        "import matplotlib.pyplot as plt\n",
        "\n",
        "n = 10  # how many digits we will display\n",
        "plt.figure(figsize=(20, 4))\n",
        "for i in range(n):\n",
        "    # display original\n",
        "    ax = plt.subplot(2, n, i + 1)\n",
        "    plt.imshow(x_test[i].reshape(28, 28))\n",
        "    plt.gray()\n",
        "    ax.get_xaxis().set_visible(False)\n",
        "    ax.get_yaxis().set_visible(False)\n",
        "\n",
        "    # display reconstruction\n",
        "    ax = plt.subplot(2, n, i + 1 + n)\n",
        "    plt.imshow(decoded_imgs[i].reshape(28, 28))\n",
        "    plt.gray()\n",
        "    ax.get_xaxis().set_visible(False)\n",
        "    ax.get_yaxis().set_visible(False)\n",
        "plt.show()"
      ],
      "execution_count": null,
      "outputs": [
        {
          "output_type": "display_data",
          "data": {
            "image/png": "[encoded data removed]",
            "text/plain": [
              "<Figure size 1440x288 with 20 Axes>"
            ]
          },
          "metadata": {
            "tags": [],
            "needs_background": "light"
          }
        }
      ]
    },
    {
      "cell_type": "code",
      "metadata": {
        "id": "gCTZgppsJo_T",
        "colab_type": "code",
        "colab": {}
      },
      "source": [
        ""
      ],
      "execution_count": null,
      "outputs": []
    }
  ]
}